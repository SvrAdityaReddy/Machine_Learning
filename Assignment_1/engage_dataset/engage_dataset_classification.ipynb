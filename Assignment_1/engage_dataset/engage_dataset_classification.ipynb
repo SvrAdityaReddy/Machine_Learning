{
 "cells": [
  {
   "cell_type": "markdown",
   "metadata": {},
   "source": [
    "# Libraries"
   ]
  },
  {
   "cell_type": "code",
   "execution_count": 1,
   "metadata": {},
   "outputs": [],
   "source": [
    "import pandas as pd\n",
    "import numpy as np\n",
    "import matplotlib.pyplot as plt\n",
    "from sklearn import datasets\n",
    "from sklearn.model_selection import train_test_split\n",
    "from sklearn.linear_model import LogisticRegression\n",
    "from sklearn import metrics\n",
    "from pandas.plotting import scatter_matrix"
   ]
  },
  {
   "cell_type": "code",
   "execution_count": 2,
   "metadata": {},
   "outputs": [
    {
     "data": {
      "text/html": [
       "<div>\n",
       "<style scoped>\n",
       "    .dataframe tbody tr th:only-of-type {\n",
       "        vertical-align: middle;\n",
       "    }\n",
       "\n",
       "    .dataframe tbody tr th {\n",
       "        vertical-align: top;\n",
       "    }\n",
       "\n",
       "    .dataframe thead th {\n",
       "        text-align: right;\n",
       "    }\n",
       "</style>\n",
       "<table border=\"1\" class=\"dataframe\">\n",
       "  <thead>\n",
       "    <tr style=\"text-align: right;\">\n",
       "      <th></th>\n",
       "      <th>Unnamed: 0</th>\n",
       "      <th>F0</th>\n",
       "      <th>F1</th>\n",
       "      <th>F2</th>\n",
       "      <th>F3</th>\n",
       "      <th>F4</th>\n",
       "      <th>F5</th>\n",
       "      <th>Label</th>\n",
       "    </tr>\n",
       "  </thead>\n",
       "  <tbody>\n",
       "    <tr>\n",
       "      <th>0</th>\n",
       "      <td>0</td>\n",
       "      <td>0.348462</td>\n",
       "      <td>0.313163</td>\n",
       "      <td>-0.883081</td>\n",
       "      <td>0.011705</td>\n",
       "      <td>0.021841</td>\n",
       "      <td>0.007599</td>\n",
       "      <td>0</td>\n",
       "    </tr>\n",
       "    <tr>\n",
       "      <th>1</th>\n",
       "      <td>1</td>\n",
       "      <td>0.377118</td>\n",
       "      <td>0.302959</td>\n",
       "      <td>-0.875143</td>\n",
       "      <td>0.005516</td>\n",
       "      <td>0.009458</td>\n",
       "      <td>0.001826</td>\n",
       "      <td>1</td>\n",
       "    </tr>\n",
       "    <tr>\n",
       "      <th>2</th>\n",
       "      <td>2</td>\n",
       "      <td>0.362622</td>\n",
       "      <td>0.306870</td>\n",
       "      <td>-0.879939</td>\n",
       "      <td>0.001426</td>\n",
       "      <td>0.005996</td>\n",
       "      <td>0.002257</td>\n",
       "      <td>1</td>\n",
       "    </tr>\n",
       "    <tr>\n",
       "      <th>3</th>\n",
       "      <td>3</td>\n",
       "      <td>0.360025</td>\n",
       "      <td>0.282392</td>\n",
       "      <td>-0.888977</td>\n",
       "      <td>0.004788</td>\n",
       "      <td>0.017349</td>\n",
       "      <td>0.005781</td>\n",
       "      <td>1</td>\n",
       "    </tr>\n",
       "    <tr>\n",
       "      <th>4</th>\n",
       "      <td>4</td>\n",
       "      <td>0.361235</td>\n",
       "      <td>0.280317</td>\n",
       "      <td>-0.889302</td>\n",
       "      <td>0.003201</td>\n",
       "      <td>0.007381</td>\n",
       "      <td>0.003100</td>\n",
       "      <td>1</td>\n",
       "    </tr>\n",
       "  </tbody>\n",
       "</table>\n",
       "</div>"
      ],
      "text/plain": [
       "   Unnamed: 0        F0        F1        F2        F3        F4        F5  \\\n",
       "0           0  0.348462  0.313163 -0.883081  0.011705  0.021841  0.007599   \n",
       "1           1  0.377118  0.302959 -0.875143  0.005516  0.009458  0.001826   \n",
       "2           2  0.362622  0.306870 -0.879939  0.001426  0.005996  0.002257   \n",
       "3           3  0.360025  0.282392 -0.888977  0.004788  0.017349  0.005781   \n",
       "4           4  0.361235  0.280317 -0.889302  0.003201  0.007381  0.003100   \n",
       "\n",
       "   Label  \n",
       "0      0  \n",
       "1      1  \n",
       "2      1  \n",
       "3      1  \n",
       "4      1  "
      ]
     },
     "execution_count": 2,
     "metadata": {},
     "output_type": "execute_result"
    }
   ],
   "source": [
    "data=pd.read_csv(\"D49.csv\")\n",
    "data.head()"
   ]
  },
  {
   "cell_type": "code",
   "execution_count": 3,
   "metadata": {},
   "outputs": [
    {
     "data": {
      "text/html": [
       "<div>\n",
       "<style scoped>\n",
       "    .dataframe tbody tr th:only-of-type {\n",
       "        vertical-align: middle;\n",
       "    }\n",
       "\n",
       "    .dataframe tbody tr th {\n",
       "        vertical-align: top;\n",
       "    }\n",
       "\n",
       "    .dataframe thead th {\n",
       "        text-align: right;\n",
       "    }\n",
       "</style>\n",
       "<table border=\"1\" class=\"dataframe\">\n",
       "  <thead>\n",
       "    <tr style=\"text-align: right;\">\n",
       "      <th></th>\n",
       "      <th>F0</th>\n",
       "      <th>F1</th>\n",
       "      <th>F2</th>\n",
       "      <th>F3</th>\n",
       "      <th>F4</th>\n",
       "      <th>F5</th>\n",
       "      <th>Label</th>\n",
       "    </tr>\n",
       "  </thead>\n",
       "  <tbody>\n",
       "    <tr>\n",
       "      <th>0</th>\n",
       "      <td>0.348462</td>\n",
       "      <td>0.313163</td>\n",
       "      <td>-0.883081</td>\n",
       "      <td>0.011705</td>\n",
       "      <td>0.021841</td>\n",
       "      <td>0.007599</td>\n",
       "      <td>0</td>\n",
       "    </tr>\n",
       "    <tr>\n",
       "      <th>1</th>\n",
       "      <td>0.377118</td>\n",
       "      <td>0.302959</td>\n",
       "      <td>-0.875143</td>\n",
       "      <td>0.005516</td>\n",
       "      <td>0.009458</td>\n",
       "      <td>0.001826</td>\n",
       "      <td>1</td>\n",
       "    </tr>\n",
       "    <tr>\n",
       "      <th>2</th>\n",
       "      <td>0.362622</td>\n",
       "      <td>0.306870</td>\n",
       "      <td>-0.879939</td>\n",
       "      <td>0.001426</td>\n",
       "      <td>0.005996</td>\n",
       "      <td>0.002257</td>\n",
       "      <td>1</td>\n",
       "    </tr>\n",
       "    <tr>\n",
       "      <th>3</th>\n",
       "      <td>0.360025</td>\n",
       "      <td>0.282392</td>\n",
       "      <td>-0.888977</td>\n",
       "      <td>0.004788</td>\n",
       "      <td>0.017349</td>\n",
       "      <td>0.005781</td>\n",
       "      <td>1</td>\n",
       "    </tr>\n",
       "    <tr>\n",
       "      <th>4</th>\n",
       "      <td>0.361235</td>\n",
       "      <td>0.280317</td>\n",
       "      <td>-0.889302</td>\n",
       "      <td>0.003201</td>\n",
       "      <td>0.007381</td>\n",
       "      <td>0.003100</td>\n",
       "      <td>1</td>\n",
       "    </tr>\n",
       "  </tbody>\n",
       "</table>\n",
       "</div>"
      ],
      "text/plain": [
       "         F0        F1        F2        F3        F4        F5  Label\n",
       "0  0.348462  0.313163 -0.883081  0.011705  0.021841  0.007599      0\n",
       "1  0.377118  0.302959 -0.875143  0.005516  0.009458  0.001826      1\n",
       "2  0.362622  0.306870 -0.879939  0.001426  0.005996  0.002257      1\n",
       "3  0.360025  0.282392 -0.888977  0.004788  0.017349  0.005781      1\n",
       "4  0.361235  0.280317 -0.889302  0.003201  0.007381  0.003100      1"
      ]
     },
     "execution_count": 3,
     "metadata": {},
     "output_type": "execute_result"
    }
   ],
   "source": [
    "data=data.drop('Unnamed: 0',axis=1)\n",
    "data.head()"
   ]
  },
  {
   "cell_type": "markdown",
   "metadata": {},
   "source": [
    "# Exploratory Data Analysis"
   ]
  },
  {
   "cell_type": "code",
   "execution_count": 4,
   "metadata": {},
   "outputs": [
    {
     "data": {
      "text/html": [
       "<div>\n",
       "<style scoped>\n",
       "    .dataframe tbody tr th:only-of-type {\n",
       "        vertical-align: middle;\n",
       "    }\n",
       "\n",
       "    .dataframe tbody tr th {\n",
       "        vertical-align: top;\n",
       "    }\n",
       "\n",
       "    .dataframe thead th {\n",
       "        text-align: right;\n",
       "    }\n",
       "</style>\n",
       "<table border=\"1\" class=\"dataframe\">\n",
       "  <thead>\n",
       "    <tr style=\"text-align: right;\">\n",
       "      <th></th>\n",
       "      <th>F0</th>\n",
       "      <th>F1</th>\n",
       "      <th>F2</th>\n",
       "      <th>F3</th>\n",
       "      <th>F4</th>\n",
       "      <th>F5</th>\n",
       "    </tr>\n",
       "  </thead>\n",
       "  <tbody>\n",
       "    <tr>\n",
       "      <th>count</th>\n",
       "      <td>2254.000000</td>\n",
       "      <td>2254.000000</td>\n",
       "      <td>2254.000000</td>\n",
       "      <td>2254.000000</td>\n",
       "      <td>2254.000000</td>\n",
       "      <td>2254.000000</td>\n",
       "    </tr>\n",
       "    <tr>\n",
       "      <th>mean</th>\n",
       "      <td>0.270045</td>\n",
       "      <td>0.273486</td>\n",
       "      <td>-0.914659</td>\n",
       "      <td>0.029286</td>\n",
       "      <td>0.031333</td>\n",
       "      <td>0.012650</td>\n",
       "    </tr>\n",
       "    <tr>\n",
       "      <th>std</th>\n",
       "      <td>0.083154</td>\n",
       "      <td>0.056479</td>\n",
       "      <td>0.027533</td>\n",
       "      <td>0.037563</td>\n",
       "      <td>0.035170</td>\n",
       "      <td>0.013287</td>\n",
       "    </tr>\n",
       "    <tr>\n",
       "      <th>min</th>\n",
       "      <td>-0.034902</td>\n",
       "      <td>0.000000</td>\n",
       "      <td>-1.000000</td>\n",
       "      <td>0.000000</td>\n",
       "      <td>0.000000</td>\n",
       "      <td>0.000000</td>\n",
       "    </tr>\n",
       "    <tr>\n",
       "      <th>25%</th>\n",
       "      <td>0.241176</td>\n",
       "      <td>0.257207</td>\n",
       "      <td>-0.926121</td>\n",
       "      <td>0.003580</td>\n",
       "      <td>0.006310</td>\n",
       "      <td>0.002822</td>\n",
       "    </tr>\n",
       "    <tr>\n",
       "      <th>50%</th>\n",
       "      <td>0.295948</td>\n",
       "      <td>0.285910</td>\n",
       "      <td>-0.911985</td>\n",
       "      <td>0.016878</td>\n",
       "      <td>0.018052</td>\n",
       "      <td>0.008173</td>\n",
       "    </tr>\n",
       "    <tr>\n",
       "      <th>75%</th>\n",
       "      <td>0.320237</td>\n",
       "      <td>0.305767</td>\n",
       "      <td>-0.896730</td>\n",
       "      <td>0.035770</td>\n",
       "      <td>0.040951</td>\n",
       "      <td>0.017039</td>\n",
       "    </tr>\n",
       "    <tr>\n",
       "      <th>max</th>\n",
       "      <td>0.495358</td>\n",
       "      <td>0.393770</td>\n",
       "      <td>-0.827965</td>\n",
       "      <td>0.234595</td>\n",
       "      <td>0.174415</td>\n",
       "      <td>0.080896</td>\n",
       "    </tr>\n",
       "  </tbody>\n",
       "</table>\n",
       "</div>"
      ],
      "text/plain": [
       "                F0           F1           F2           F3           F4  \\\n",
       "count  2254.000000  2254.000000  2254.000000  2254.000000  2254.000000   \n",
       "mean      0.270045     0.273486    -0.914659     0.029286     0.031333   \n",
       "std       0.083154     0.056479     0.027533     0.037563     0.035170   \n",
       "min      -0.034902     0.000000    -1.000000     0.000000     0.000000   \n",
       "25%       0.241176     0.257207    -0.926121     0.003580     0.006310   \n",
       "50%       0.295948     0.285910    -0.911985     0.016878     0.018052   \n",
       "75%       0.320237     0.305767    -0.896730     0.035770     0.040951   \n",
       "max       0.495358     0.393770    -0.827965     0.234595     0.174415   \n",
       "\n",
       "                F5  \n",
       "count  2254.000000  \n",
       "mean      0.012650  \n",
       "std       0.013287  \n",
       "min       0.000000  \n",
       "25%       0.002822  \n",
       "50%       0.008173  \n",
       "75%       0.017039  \n",
       "max       0.080896  "
      ]
     },
     "execution_count": 4,
     "metadata": {},
     "output_type": "execute_result"
    }
   ],
   "source": [
    "data1=data.drop('Label',axis = 1)\n",
    "data1.describe()"
   ]
  },
  {
   "cell_type": "code",
   "execution_count": 5,
   "metadata": {},
   "outputs": [
    {
     "data": {
      "image/png": "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\n",
      "text/plain": [
       "<matplotlib.figure.Figure at 0x7f7804fb1090>"
      ]
     },
     "metadata": {},
     "output_type": "display_data"
    }
   ],
   "source": [
    "data1.hist(bins=25,figsize=(20,15))\n",
    "plt.show()"
   ]
  },
  {
   "cell_type": "code",
   "execution_count": 6,
   "metadata": {},
   "outputs": [
    {
     "data": {
      "text/plain": [
       "{'boxes': [<matplotlib.lines.Line2D at 0x7f7804167550>,\n",
       "  <matplotlib.lines.Line2D at 0x7f7804932dd0>,\n",
       "  <matplotlib.lines.Line2D at 0x7f7804952a10>,\n",
       "  <matplotlib.lines.Line2D at 0x7f78048f3650>,\n",
       "  <matplotlib.lines.Line2D at 0x7f7804914290>,\n",
       "  <matplotlib.lines.Line2D at 0x7f78048ace90>],\n",
       " 'caps': [<matplotlib.lines.Line2D at 0x7f7804176490>,\n",
       "  <matplotlib.lines.Line2D at 0x7f7804176ad0>,\n",
       "  <matplotlib.lines.Line2D at 0x7f78049480d0>,\n",
       "  <matplotlib.lines.Line2D at 0x7f7804948710>,\n",
       "  <matplotlib.lines.Line2D at 0x7f780495ccd0>,\n",
       "  <matplotlib.lines.Line2D at 0x7f78048e8350>,\n",
       "  <matplotlib.lines.Line2D at 0x7f78048fe910>,\n",
       "  <matplotlib.lines.Line2D at 0x7f78048fef50>,\n",
       "  <matplotlib.lines.Line2D at 0x7f780491f550>,\n",
       "  <matplotlib.lines.Line2D at 0x7f780491fb90>,\n",
       "  <matplotlib.lines.Line2D at 0x7f78042dcb90>,\n",
       "  <matplotlib.lines.Line2D at 0x7f78049d1990>],\n",
       " 'fliers': [<matplotlib.lines.Line2D at 0x7f7804932790>,\n",
       "  <matplotlib.lines.Line2D at 0x7f78049523d0>,\n",
       "  <matplotlib.lines.Line2D at 0x7f78048e8fd0>,\n",
       "  <matplotlib.lines.Line2D at 0x7f7804909c10>,\n",
       "  <matplotlib.lines.Line2D at 0x7f78048ac850>,\n",
       "  <matplotlib.lines.Line2D at 0x7f7804ae3710>],\n",
       " 'means': [],\n",
       " 'medians': [<matplotlib.lines.Line2D at 0x7f7804932150>,\n",
       "  <matplotlib.lines.Line2D at 0x7f7804948d50>,\n",
       "  <matplotlib.lines.Line2D at 0x7f78048e8990>,\n",
       "  <matplotlib.lines.Line2D at 0x7f78049095d0>,\n",
       "  <matplotlib.lines.Line2D at 0x7f78048ac210>,\n",
       "  <matplotlib.lines.Line2D at 0x7f7804f5db50>],\n",
       " 'whiskers': [<matplotlib.lines.Line2D at 0x7f7804167750>,\n",
       "  <matplotlib.lines.Line2D at 0x7f7804167e10>,\n",
       "  <matplotlib.lines.Line2D at 0x7f780493d410>,\n",
       "  <matplotlib.lines.Line2D at 0x7f780493da50>,\n",
       "  <matplotlib.lines.Line2D at 0x7f780495c050>,\n",
       "  <matplotlib.lines.Line2D at 0x7f780495c690>,\n",
       "  <matplotlib.lines.Line2D at 0x7f78048f3c50>,\n",
       "  <matplotlib.lines.Line2D at 0x7f78048fe2d0>,\n",
       "  <matplotlib.lines.Line2D at 0x7f7804914890>,\n",
       "  <matplotlib.lines.Line2D at 0x7f7804914ed0>,\n",
       "  <matplotlib.lines.Line2D at 0x7f78048b94d0>,\n",
       "  <matplotlib.lines.Line2D at 0x7f78048b9b10>]}"
      ]
     },
     "execution_count": 6,
     "metadata": {},
     "output_type": "execute_result"
    },
    {
     "data": {
      "image/png": "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\n",
      "text/plain": [
       "<matplotlib.figure.Figure at 0x7f7804c51390>"
      ]
     },
     "metadata": {},
     "output_type": "display_data"
    }
   ],
   "source": [
    "data1=np.array(data1)\n",
    "plt.figure(1,figsize=(15, 10))\n",
    "plt.boxplot(data1)"
   ]
  },
  {
   "cell_type": "markdown",
   "metadata": {},
   "source": [
    "# Creating Training and Test Dataset"
   ]
  },
  {
   "cell_type": "code",
   "execution_count": 7,
   "metadata": {},
   "outputs": [],
   "source": [
    "train_set, test_set=train_test_split(data,test_size=0.2,random_state=42)\n",
    "train_data=data.copy()"
   ]
  },
  {
   "cell_type": "code",
   "execution_count": 8,
   "metadata": {},
   "outputs": [
    {
     "data": {
      "text/plain": [
       "Label    1.000000\n",
       "F1       0.114751\n",
       "F0       0.098540\n",
       "F2       0.000601\n",
       "F4      -0.405060\n",
       "F5      -0.419292\n",
       "F3      -0.423992\n",
       "Name: Label, dtype: float64"
      ]
     },
     "execution_count": 8,
     "metadata": {},
     "output_type": "execute_result"
    }
   ],
   "source": [
    "correlation_matrix=train_data.corr()\n",
    "correlation_matrix['Label'].sort_values(ascending=False)"
   ]
  },
  {
   "cell_type": "markdown",
   "metadata": {},
   "source": [
    "# Correlations"
   ]
  },
  {
   "cell_type": "code",
   "execution_count": 9,
   "metadata": {},
   "outputs": [
    {
     "data": {
      "text/plain": [
       "array([[<matplotlib.axes._subplots.AxesSubplot object at 0x7f780482fb10>,\n",
       "        <matplotlib.axes._subplots.AxesSubplot object at 0x7f78047b48d0>,\n",
       "        <matplotlib.axes._subplots.AxesSubplot object at 0x7f7804739910>,\n",
       "        <matplotlib.axes._subplots.AxesSubplot object at 0x7f780471e710>,\n",
       "        <matplotlib.axes._subplots.AxesSubplot object at 0x7f780469fb90>,\n",
       "        <matplotlib.axes._subplots.AxesSubplot object at 0x7f7804605390>],\n",
       "       [<matplotlib.axes._subplots.AxesSubplot object at 0x7f7804589490>,\n",
       "        <matplotlib.axes._subplots.AxesSubplot object at 0x7f780450c310>,\n",
       "        <matplotlib.axes._subplots.AxesSubplot object at 0x7f780447a390>,\n",
       "        <matplotlib.axes._subplots.AxesSubplot object at 0x7f78043fd210>,\n",
       "        <matplotlib.axes._subplots.AxesSubplot object at 0x7f78043e2210>,\n",
       "        <matplotlib.axes._subplots.AxesSubplot object at 0x7f7803d0d190>],\n",
       "       [<matplotlib.axes._subplots.AxesSubplot object at 0x7f7803d22910>,\n",
       "        <matplotlib.axes._subplots.AxesSubplot object at 0x7f7803bf1fd0>,\n",
       "        <matplotlib.axes._subplots.AxesSubplot object at 0x7f7803b75e50>,\n",
       "        <matplotlib.axes._subplots.AxesSubplot object at 0x7f7803ae5750>,\n",
       "        <matplotlib.axes._subplots.AxesSubplot object at 0x7f7803a675d0>,\n",
       "        <matplotlib.axes._subplots.AxesSubplot object at 0x7f7803a4c610>],\n",
       "       [<matplotlib.axes._subplots.AxesSubplot object at 0x7f78039cf590>,\n",
       "        <matplotlib.axes._subplots.AxesSubplot object at 0x7f78039876d0>,\n",
       "        <matplotlib.axes._subplots.AxesSubplot object at 0x7f7804f40e50>,\n",
       "        <matplotlib.axes._subplots.AxesSubplot object at 0x7f7804c36a10>,\n",
       "        <matplotlib.axes._subplots.AxesSubplot object at 0x7f7804f13e90>,\n",
       "        <matplotlib.axes._subplots.AxesSubplot object at 0x7f78042d1410>],\n",
       "       [<matplotlib.axes._subplots.AxesSubplot object at 0x7f780435c490>,\n",
       "        <matplotlib.axes._subplots.AxesSubplot object at 0x7f7804b06b10>,\n",
       "        <matplotlib.axes._subplots.AxesSubplot object at 0x7f7804247110>,\n",
       "        <matplotlib.axes._subplots.AxesSubplot object at 0x7f780420c750>,\n",
       "        <matplotlib.axes._subplots.AxesSubplot object at 0x7f78041f8850>,\n",
       "        <matplotlib.axes._subplots.AxesSubplot object at 0x7f7804a71e90>],\n",
       "       [<matplotlib.axes._subplots.AxesSubplot object at 0x7f7804990150>,\n",
       "        <matplotlib.axes._subplots.AxesSubplot object at 0x7f78042274d0>,\n",
       "        <matplotlib.axes._subplots.AxesSubplot object at 0x7f78049c6490>,\n",
       "        <matplotlib.axes._subplots.AxesSubplot object at 0x7f7804f14790>,\n",
       "        <matplotlib.axes._subplots.AxesSubplot object at 0x7f78039027d0>,\n",
       "        <matplotlib.axes._subplots.AxesSubplot object at 0x7f7804e46750>]], dtype=object)"
      ]
     },
     "execution_count": 9,
     "metadata": {},
     "output_type": "execute_result"
    },
    {
     "data": {
      "image/png": "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\n",
      "text/plain": [
       "<matplotlib.figure.Figure at 0x7f7804ac9610>"
      ]
     },
     "metadata": {},
     "output_type": "display_data"
    }
   ],
   "source": [
    "attributes = [\"Label\",\"F0\",\"F1\",\"F2\",\"F3\",\"F4\"]\n",
    "scatter_matrix(train_data[attributes], figsize=(12, 8))"
   ]
  },
  {
   "cell_type": "markdown",
   "metadata": {},
   "source": [
    "# Preparing the Data"
   ]
  },
  {
   "cell_type": "code",
   "execution_count": 15,
   "metadata": {},
   "outputs": [
    {
     "data": {
      "text/html": [
       "<div>\n",
       "<style scoped>\n",
       "    .dataframe tbody tr th:only-of-type {\n",
       "        vertical-align: middle;\n",
       "    }\n",
       "\n",
       "    .dataframe tbody tr th {\n",
       "        vertical-align: top;\n",
       "    }\n",
       "\n",
       "    .dataframe thead th {\n",
       "        text-align: right;\n",
       "    }\n",
       "</style>\n",
       "<table border=\"1\" class=\"dataframe\">\n",
       "  <thead>\n",
       "    <tr style=\"text-align: right;\">\n",
       "      <th></th>\n",
       "      <th>F0</th>\n",
       "      <th>F1</th>\n",
       "      <th>F2</th>\n",
       "      <th>F3</th>\n",
       "      <th>F4</th>\n",
       "      <th>F5</th>\n",
       "    </tr>\n",
       "  </thead>\n",
       "  <tbody>\n",
       "    <tr>\n",
       "      <th>121</th>\n",
       "      <td>0.316162</td>\n",
       "      <td>0.293356</td>\n",
       "      <td>-0.901531</td>\n",
       "      <td>0.010711</td>\n",
       "      <td>0.030875</td>\n",
       "      <td>0.012595</td>\n",
       "    </tr>\n",
       "    <tr>\n",
       "      <th>173</th>\n",
       "      <td>0.342953</td>\n",
       "      <td>0.328651</td>\n",
       "      <td>-0.879980</td>\n",
       "      <td>0.000991</td>\n",
       "      <td>0.002371</td>\n",
       "      <td>0.001007</td>\n",
       "    </tr>\n",
       "    <tr>\n",
       "      <th>1245</th>\n",
       "      <td>0.157628</td>\n",
       "      <td>0.227237</td>\n",
       "      <td>-0.958732</td>\n",
       "      <td>0.040457</td>\n",
       "      <td>0.047689</td>\n",
       "      <td>0.020932</td>\n",
       "    </tr>\n",
       "    <tr>\n",
       "      <th>1323</th>\n",
       "      <td>0.011324</td>\n",
       "      <td>0.099787</td>\n",
       "      <td>-0.991258</td>\n",
       "      <td>0.033611</td>\n",
       "      <td>0.077369</td>\n",
       "      <td>0.014335</td>\n",
       "    </tr>\n",
       "    <tr>\n",
       "      <th>999</th>\n",
       "      <td>0.263980</td>\n",
       "      <td>0.299922</td>\n",
       "      <td>-0.915451</td>\n",
       "      <td>0.034215</td>\n",
       "      <td>0.030451</td>\n",
       "      <td>0.014590</td>\n",
       "    </tr>\n",
       "  </tbody>\n",
       "</table>\n",
       "</div>"
      ],
      "text/plain": [
       "            F0        F1        F2        F3        F4        F5\n",
       "121   0.316162  0.293356 -0.901531  0.010711  0.030875  0.012595\n",
       "173   0.342953  0.328651 -0.879980  0.000991  0.002371  0.001007\n",
       "1245  0.157628  0.227237 -0.958732  0.040457  0.047689  0.020932\n",
       "1323  0.011324  0.099787 -0.991258  0.033611  0.077369  0.014335\n",
       "999   0.263980  0.299922 -0.915451  0.034215  0.030451  0.014590"
      ]
     },
     "execution_count": 15,
     "metadata": {},
     "output_type": "execute_result"
    }
   ],
   "source": [
    "train_data = train_set.drop('Label', axis=1)\n",
    "train_labels = train_set['Label'].copy()\n",
    "train_data.head()"
   ]
  },
  {
   "cell_type": "code",
   "execution_count": 16,
   "metadata": {},
   "outputs": [
    {
     "data": {
      "text/plain": [
       "(451, 6)"
      ]
     },
     "execution_count": 16,
     "metadata": {},
     "output_type": "execute_result"
    }
   ],
   "source": [
    "test_data = test_set.drop('Label', axis=1)\n",
    "test_labels = test_set['Label'].copy()\n",
    "test_data.shape"
   ]
  },
  {
   "cell_type": "markdown",
   "metadata": {},
   "source": [
    "## Checking for any null or NAN values in training dataset"
   ]
  },
  {
   "cell_type": "code",
   "execution_count": 17,
   "metadata": {},
   "outputs": [
    {
     "data": {
      "text/html": [
       "<div>\n",
       "<style scoped>\n",
       "    .dataframe tbody tr th:only-of-type {\n",
       "        vertical-align: middle;\n",
       "    }\n",
       "\n",
       "    .dataframe tbody tr th {\n",
       "        vertical-align: top;\n",
       "    }\n",
       "\n",
       "    .dataframe thead th {\n",
       "        text-align: right;\n",
       "    }\n",
       "</style>\n",
       "<table border=\"1\" class=\"dataframe\">\n",
       "  <thead>\n",
       "    <tr style=\"text-align: right;\">\n",
       "      <th></th>\n",
       "      <th>F0</th>\n",
       "      <th>F1</th>\n",
       "      <th>F2</th>\n",
       "      <th>F3</th>\n",
       "      <th>F4</th>\n",
       "      <th>F5</th>\n",
       "    </tr>\n",
       "  </thead>\n",
       "  <tbody>\n",
       "  </tbody>\n",
       "</table>\n",
       "</div>"
      ],
      "text/plain": [
       "Empty DataFrame\n",
       "Columns: [F0, F1, F2, F3, F4, F5]\n",
       "Index: []"
      ]
     },
     "execution_count": 17,
     "metadata": {},
     "output_type": "execute_result"
    }
   ],
   "source": [
    "sample_incomplete_rows = train_data[train_data.isnull().any(axis=1)].head()\n",
    "sample_incomplete_rows"
   ]
  },
  {
   "cell_type": "markdown",
   "metadata": {},
   "source": [
    "## Checking for any null or NAN values in test dataset"
   ]
  },
  {
   "cell_type": "code",
   "execution_count": 18,
   "metadata": {},
   "outputs": [
    {
     "data": {
      "text/html": [
       "<div>\n",
       "<style scoped>\n",
       "    .dataframe tbody tr th:only-of-type {\n",
       "        vertical-align: middle;\n",
       "    }\n",
       "\n",
       "    .dataframe tbody tr th {\n",
       "        vertical-align: top;\n",
       "    }\n",
       "\n",
       "    .dataframe thead th {\n",
       "        text-align: right;\n",
       "    }\n",
       "</style>\n",
       "<table border=\"1\" class=\"dataframe\">\n",
       "  <thead>\n",
       "    <tr style=\"text-align: right;\">\n",
       "      <th></th>\n",
       "      <th>F0</th>\n",
       "      <th>F1</th>\n",
       "      <th>F2</th>\n",
       "      <th>F3</th>\n",
       "      <th>F4</th>\n",
       "      <th>F5</th>\n",
       "    </tr>\n",
       "  </thead>\n",
       "  <tbody>\n",
       "  </tbody>\n",
       "</table>\n",
       "</div>"
      ],
      "text/plain": [
       "Empty DataFrame\n",
       "Columns: [F0, F1, F2, F3, F4, F5]\n",
       "Index: []"
      ]
     },
     "execution_count": 18,
     "metadata": {},
     "output_type": "execute_result"
    }
   ],
   "source": [
    "sample_incomplete_rows = test_data[test_data.isnull().any(axis=1)].head()\n",
    "sample_incomplete_rows"
   ]
  },
  {
   "cell_type": "markdown",
   "metadata": {},
   "source": [
    "# Binary Classification"
   ]
  },
  {
   "cell_type": "code",
<<<<<<< HEAD
   "execution_count": 19,
=======
   "execution_count": 13,
>>>>>>> 0bcdd2d7b2f2abc50ba60c9f918b2144124c14f6
   "metadata": {},
   "outputs": [],
   "source": [
    "X=np.array(train_data)\n",
    "# X=X[:,(0,1,2,3,4)]\n",
    "Y=np.array(train_labels).flatten()\n",
    "test_data=np.array(test_data)\n",
    "# test_data=test_data[:,(0,1,2,3,4)]\n",
    "test_labels=np.array(test_labels).flatten()"
   ]
  },
  {
   "cell_type": "markdown",
   "metadata": {},
   "source": [
    "# Nearest Neighbours"
   ]
  },
  {
   "cell_type": "code",
<<<<<<< HEAD
   "execution_count": 20,
=======
   "execution_count": 14,
>>>>>>> 0bcdd2d7b2f2abc50ba60c9f918b2144124c14f6
   "metadata": {},
   "outputs": [],
   "source": [
    "predicted_labels=[]\n",
    "for i in range(len(test_data)):\n",
    "    # euclidean distance\n",
    "    minimum_distance=((np.dot(test_data[i],test_data[i]))-2*(np.dot(test_data[i],X[0]))+(np.dot(X[0],X[0])))**0.5\n",
    "    closest_neighbour=Y[0]\n",
    "    for j in range(1,len(X)):\n",
    "        # euclidean distance\n",
    "        distance=((np.dot(test_data[i],test_data[i]))-2*(np.dot(test_data[i],X[j]))+(np.dot(X[j],X[j])))**0.5\n",
    "        if(distance < minimum_distance):\n",
    "            minimum_distance=distance\n",
    "            closest_neighbour=Y[j]\n",
    "    predicted_labels.append(closest_neighbour)"
   ]
  },
  {
   "cell_type": "markdown",
   "metadata": {},
   "source": [
    "# Accuracy score - Nearest Neighbours"
   ]
  },
  {
   "cell_type": "code",
<<<<<<< HEAD
   "execution_count": 21,
=======
   "execution_count": 15,
>>>>>>> 0bcdd2d7b2f2abc50ba60c9f918b2144124c14f6
   "metadata": {},
   "outputs": [
    {
     "data": {
      "text/plain": [
<<<<<<< HEAD
       "0.82039911308203994"
      ]
     },
     "execution_count": 21,
=======
       "0.8203991130820399"
      ]
     },
     "execution_count": 15,
>>>>>>> 0bcdd2d7b2f2abc50ba60c9f918b2144124c14f6
     "metadata": {},
     "output_type": "execute_result"
    }
   ],
   "source": [
    "metrics.accuracy_score(test_labels,predicted_labels)"
   ]
  },
  {
   "cell_type": "markdown",
   "metadata": {},
   "source": [
    "# Precision - Nearest Neighbours"
   ]
  },
  {
   "cell_type": "code",
<<<<<<< HEAD
   "execution_count": 22,
=======
   "execution_count": 16,
>>>>>>> 0bcdd2d7b2f2abc50ba60c9f918b2144124c14f6
   "metadata": {},
   "outputs": [
    {
     "data": {
      "text/plain": [
<<<<<<< HEAD
       "0.88154269972451793"
      ]
     },
     "execution_count": 22,
=======
       "0.8815426997245179"
      ]
     },
     "execution_count": 16,
>>>>>>> 0bcdd2d7b2f2abc50ba60c9f918b2144124c14f6
     "metadata": {},
     "output_type": "execute_result"
    }
   ],
   "source": [
    "metrics.precision_score(test_labels,predicted_labels)"
   ]
  },
  {
   "cell_type": "markdown",
   "metadata": {},
   "source": [
    "# F-measure - Nearest Neighbours"
   ]
  },
  {
   "cell_type": "code",
<<<<<<< HEAD
   "execution_count": 23,
=======
   "execution_count": 17,
>>>>>>> 0bcdd2d7b2f2abc50ba60c9f918b2144124c14f6
   "metadata": {},
   "outputs": [
    {
     "data": {
      "text/plain": [
<<<<<<< HEAD
       "0.88765603328710119"
      ]
     },
     "execution_count": 23,
=======
       "0.8876560332871012"
      ]
     },
     "execution_count": 17,
>>>>>>> 0bcdd2d7b2f2abc50ba60c9f918b2144124c14f6
     "metadata": {},
     "output_type": "execute_result"
    }
   ],
   "source": [
    "metrics.f1_score(test_labels, predicted_labels)"
   ]
  },
  {
   "cell_type": "markdown",
   "metadata": {},
   "source": [
    "# Recall - Nearest Neighbours"
   ]
  },
  {
   "cell_type": "code",
<<<<<<< HEAD
   "execution_count": 24,
=======
   "execution_count": 18,
>>>>>>> 0bcdd2d7b2f2abc50ba60c9f918b2144124c14f6
   "metadata": {},
   "outputs": [
    {
     "data": {
      "text/plain": [
       "0.8938547486033519"
      ]
     },
<<<<<<< HEAD
     "execution_count": 24,
=======
     "execution_count": 18,
>>>>>>> 0bcdd2d7b2f2abc50ba60c9f918b2144124c14f6
     "metadata": {},
     "output_type": "execute_result"
    }
   ],
   "source": [
    "metrics.recall_score(test_labels,predicted_labels)"
   ]
  },
  {
   "cell_type": "markdown",
   "metadata": {},
   "source": [
    "# AUC - Nearest Neighbours"
   ]
  },
  {
   "cell_type": "code",
<<<<<<< HEAD
   "execution_count": 25,
=======
   "execution_count": 19,
>>>>>>> 0bcdd2d7b2f2abc50ba60c9f918b2144124c14f6
   "metadata": {},
   "outputs": [
    {
     "data": {
      "text/plain": [
       "0.7157445786027512"
      ]
     },
<<<<<<< HEAD
     "execution_count": 25,
=======
     "execution_count": 19,
>>>>>>> 0bcdd2d7b2f2abc50ba60c9f918b2144124c14f6
     "metadata": {},
     "output_type": "execute_result"
    }
   ],
   "source": [
    "fpr, tpr, thresholds = metrics.roc_curve(test_labels, predicted_labels)\n",
    "metrics.auc(fpr, tpr)"
   ]
  },
  {
   "cell_type": "markdown",
   "metadata": {},
   "source": [
    "# Naive Bayes Classifier"
   ]
  },
  {
   "cell_type": "code",
<<<<<<< HEAD
   "execution_count": 26,
=======
   "execution_count": 20,
>>>>>>> 0bcdd2d7b2f2abc50ba60c9f918b2144124c14f6
   "metadata": {},
   "outputs": [],
   "source": [
    "# Assuming data is fitted to a Gaussian\n",
    "def probability(mean, std, x):\n",
    "    exponential=np.exp(-1*(x-mean)**2/(2*(std**2)))\n",
    "    return ((1/(std*((22/7.0)**0.5)))*(exponential))"
   ]
  },
  {
   "cell_type": "code",
<<<<<<< HEAD
   "execution_count": 27,
=======
   "execution_count": 21,
>>>>>>> 0bcdd2d7b2f2abc50ba60c9f918b2144124c14f6
   "metadata": {},
   "outputs": [],
   "source": [
    "# Fitting Gausian\n",
    "def gaussian_parameters(X):\n",
    "    mean=np.mean(X,axis=0)\n",
    "    std=np.std(X,axis=0)\n",
    "    return (mean,std)"
   ]
  },
  {
   "cell_type": "markdown",
   "metadata": {},
   "source": [
    "The following code is to get data points corresponding to each class"
   ]
  },
  {
   "cell_type": "code",
<<<<<<< HEAD
   "execution_count": 28,
=======
   "execution_count": 22,
>>>>>>> 0bcdd2d7b2f2abc50ba60c9f918b2144124c14f6
   "metadata": {},
   "outputs": [],
   "source": [
    "data_class1= [X[i] for i in range(len(Y)) if Y[i]==1] # class1 refers to data corresponding to flower Iris-Virginica\n",
    "data_class2= [X[i] for i in range(len(Y)) if Y[i]==0] # class2 refers to data does not corresponds to flower Iris-Virginica  "
   ]
  },
  {
   "cell_type": "code",
<<<<<<< HEAD
   "execution_count": 29,
=======
   "execution_count": 23,
>>>>>>> 0bcdd2d7b2f2abc50ba60c9f918b2144124c14f6
   "metadata": {},
   "outputs": [
    {
     "name": "stdout",
     "output_type": "stream",
     "text": [
<<<<<<< HEAD
      "(array([ 0.27275833,  0.27629228, -0.91505086,  0.02149636,  0.02447165,\n",
      "        0.00998435]), array([ 0.07701756,  0.05030887,  0.02520819,  0.028639  ,  0.02749351,\n",
      "        0.01060775]))\n",
      "(array([ 0.25815646,  0.26298302, -0.91339238,  0.05881004,  0.0575178 ,\n",
      "        0.02286286]), array([ 0.10439324,  0.07595079,  0.03558553,  0.0486533 ,  0.04528142,\n",
      "        0.01641784]))\n"
=======
      "[ 0.27275833  0.27629228 -0.91505086  0.02149636  0.02447165  0.00998435] [0.07701756 0.05030887 0.02520819 0.028639   0.02749351 0.01060775]\n",
      "[ 0.25815646  0.26298302 -0.91339238  0.05881004  0.0575178   0.02286286] [0.10439324 0.07595079 0.03558553 0.0486533  0.04528142 0.01641784]\n"
>>>>>>> 0bcdd2d7b2f2abc50ba60c9f918b2144124c14f6
     ]
    }
   ],
   "source": [
    "(mean_class1,std_class1)=gaussian_parameters(data_class1) # get each features gaussian parameters if their class is class1\n",
    "(mean_class2,std_class2)=gaussian_parameters(data_class2) # get each features gaussian parameters if their class is class2\n",
    "print(mean_class1,std_class1)\n",
    "print(mean_class2,std_class2)\n",
    "total_class1=0\n",
    "for i in range(len(Y)):\n",
    "    if(Y[i]==1):\n",
    "        total_class1=total_class1+1\n",
    "class1_probability=float(total_class1)/len(Y)\n",
    "class2_probability=1-class1_probability"
   ]
  },
  {
   "cell_type": "code",
<<<<<<< HEAD
   "execution_count": 30,
=======
   "execution_count": 24,
>>>>>>> 0bcdd2d7b2f2abc50ba60c9f918b2144124c14f6
   "metadata": {},
   "outputs": [],
   "source": [
    "predicted_labels=[]\n",
    "for i in range(len(test_data)):\n",
    "    probability_class1=1\n",
    "    probability_class2=1\n",
    "    for j in range(len(test_data[i])):\n",
    "        probability_class1=probability_class1*probability(mean_class1[j],std_class1[j],test_data[i][j])\n",
    "        probability_class2=probability_class2*probability(mean_class2[j],std_class2[j],test_data[i][j])\n",
    "    probability_class1=probability_class1*class1_probability\n",
    "    probability_class2=probability_class2*class2_probability\n",
    "    if(probability_class1>probability_class2):\n",
    "        predicted_labels.append(1)\n",
    "    else:\n",
    "        predicted_labels.append(0)"
   ]
  },
  {
   "cell_type": "markdown",
   "metadata": {},
   "source": [
    "# Accuracy score - Naive Bayes Classifier"
   ]
  },
  {
   "cell_type": "code",
<<<<<<< HEAD
   "execution_count": 31,
=======
   "execution_count": 25,
>>>>>>> 0bcdd2d7b2f2abc50ba60c9f918b2144124c14f6
   "metadata": {},
   "outputs": [
    {
     "data": {
      "text/plain": [
<<<<<<< HEAD
       "0.82483370288248337"
      ]
     },
     "execution_count": 31,
=======
       "0.8248337028824834"
      ]
     },
     "execution_count": 25,
>>>>>>> 0bcdd2d7b2f2abc50ba60c9f918b2144124c14f6
     "metadata": {},
     "output_type": "execute_result"
    }
   ],
   "source": [
    "metrics.accuracy_score(test_labels,predicted_labels)"
   ]
  },
  {
   "cell_type": "markdown",
   "metadata": {},
   "source": [
    "# Precision - Naive Bayes Classifier"
   ]
  },
  {
   "cell_type": "code",
<<<<<<< HEAD
   "execution_count": 32,
=======
   "execution_count": 26,
>>>>>>> 0bcdd2d7b2f2abc50ba60c9f918b2144124c14f6
   "metadata": {},
   "outputs": [
    {
     "data": {
      "text/plain": [
<<<<<<< HEAD
       "0.88010899182561309"
      ]
     },
     "execution_count": 32,
=======
       "0.8801089918256131"
      ]
     },
     "execution_count": 26,
>>>>>>> 0bcdd2d7b2f2abc50ba60c9f918b2144124c14f6
     "metadata": {},
     "output_type": "execute_result"
    }
   ],
   "source": [
    "metrics.precision_score(test_labels,predicted_labels)"
   ]
  },
  {
   "cell_type": "markdown",
   "metadata": {},
   "source": [
    "# F-measure - Naive Bayes Classifier"
   ]
  },
  {
   "cell_type": "code",
<<<<<<< HEAD
   "execution_count": 33,
=======
   "execution_count": 27,
>>>>>>> 0bcdd2d7b2f2abc50ba60c9f918b2144124c14f6
   "metadata": {},
   "outputs": [
    {
     "data": {
      "text/plain": [
<<<<<<< HEAD
       "0.89103448275862063"
      ]
     },
     "execution_count": 33,
=======
       "0.8910344827586206"
      ]
     },
     "execution_count": 27,
>>>>>>> 0bcdd2d7b2f2abc50ba60c9f918b2144124c14f6
     "metadata": {},
     "output_type": "execute_result"
    }
   ],
   "source": [
    "metrics.f1_score(test_labels, predicted_labels)"
   ]
  },
  {
   "cell_type": "markdown",
   "metadata": {},
   "source": [
    "# Recall - Naive Bayes Classifier"
   ]
  },
  {
   "cell_type": "code",
<<<<<<< HEAD
   "execution_count": 34,
=======
   "execution_count": 28,
>>>>>>> 0bcdd2d7b2f2abc50ba60c9f918b2144124c14f6
   "metadata": {},
   "outputs": [
    {
     "data": {
      "text/plain": [
       "0.9022346368715084"
      ]
     },
<<<<<<< HEAD
     "execution_count": 34,
=======
     "execution_count": 28,
>>>>>>> 0bcdd2d7b2f2abc50ba60c9f918b2144124c14f6
     "metadata": {},
     "output_type": "execute_result"
    }
   ],
   "source": [
    "metrics.recall_score(test_labels,predicted_labels)"
   ]
  },
  {
   "cell_type": "markdown",
   "metadata": {},
   "source": [
    "# AUC - Naive Bayes Classifier"
   ]
  },
  {
   "cell_type": "code",
<<<<<<< HEAD
   "execution_count": 35,
=======
   "execution_count": 29,
>>>>>>> 0bcdd2d7b2f2abc50ba60c9f918b2144124c14f6
   "metadata": {},
   "outputs": [
    {
     "data": {
      "text/plain": [
<<<<<<< HEAD
       "0.71455817865080795"
      ]
     },
     "execution_count": 35,
=======
       "0.714558178650808"
      ]
     },
     "execution_count": 29,
>>>>>>> 0bcdd2d7b2f2abc50ba60c9f918b2144124c14f6
     "metadata": {},
     "output_type": "execute_result"
    }
   ],
   "source": [
    "fpr, tpr, thresholds = metrics.roc_curve(test_labels, predicted_labels)\n",
    "metrics.auc(fpr, tpr)"
   ]
  },
  {
   "cell_type": "markdown",
   "metadata": {},
   "source": [
    "# Logistic Regression - Gradient Descent"
   ]
  },
  {
   "cell_type": "markdown",
   "metadata": {},
   "source": [
    "Create a copy of features of test data and insert value \"1\" as first feature in every data point of test_data"
   ]
  },
  {
   "cell_type": "code",
<<<<<<< HEAD
   "execution_count": 36,
=======
   "execution_count": 30,
>>>>>>> 0bcdd2d7b2f2abc50ba60c9f918b2144124c14f6
   "metadata": {},
   "outputs": [],
   "source": [
    "X_data=np.copy(X)\n",
    "X_data=np.insert(X_data, 0, values=[1], axis=1)"
   ]
  },
  {
   "cell_type": "code",
<<<<<<< HEAD
   "execution_count": 37,
=======
   "execution_count": 31,
>>>>>>> 0bcdd2d7b2f2abc50ba60c9f918b2144124c14f6
   "metadata": {},
   "outputs": [],
   "source": [
    "def sigmoid(z):\n",
    "    return 1.0/(1+np.exp(-1*z))\n",
    "def gradient_descent_logistic_regression(X_data,Y,learning_rate,number_iterations):\n",
    "    theta=np.zeros(X_data.shape[1])\n",
    "    for i in range(number_iterations):\n",
    "        z=np.dot(X_data,theta)\n",
    "        p=sigmoid(z)\n",
    "        gradient=np.dot(X_data.T, (p - Y)) / Y.size\n",
    "        theta=theta-learning_rate*gradient\n",
    "    return theta"
   ]
  },
  {
   "cell_type": "code",
<<<<<<< HEAD
   "execution_count": 38,
=======
   "execution_count": 32,
>>>>>>> 0bcdd2d7b2f2abc50ba60c9f918b2144124c14f6
   "metadata": {},
   "outputs": [
    {
     "name": "stdout",
     "output_type": "stream",
     "text": [
      "[-0.17663526 -0.57613105 -0.18053318 -2.67129482 -9.51245628 -8.19344869\n",
      " -3.35574845]\n"
     ]
    }
   ],
   "source": [
    "learning_rate=0.1\n",
    "number_iterations=30000\n",
    "theta=gradient_descent_logistic_regression(X_data,Y,learning_rate,number_iterations)\n",
    "print(theta)"
   ]
  },
  {
   "cell_type": "code",
<<<<<<< HEAD
   "execution_count": 39,
=======
   "execution_count": 33,
>>>>>>> 0bcdd2d7b2f2abc50ba60c9f918b2144124c14f6
   "metadata": {},
   "outputs": [],
   "source": [
    "test_data_new=np.copy(test_data)\n",
    "test_data_new=np.insert(test_data_new, 0, values=[1], axis=1);\n",
    "predicted_labels=[]\n",
    "for i in range(len(test_data_new)):\n",
    "    if(sigmoid(np.dot(test_data_new[i],theta))>0.5):\n",
    "        predicted_labels.append(1)\n",
    "    else:\n",
    "        predicted_labels.append(0)\n",
    "# print(predicted_labels)"
   ]
  },
  {
   "cell_type": "markdown",
   "metadata": {},
   "source": [
    "# Accuracy score - Logistic Regression (Gradient Descent)"
   ]
  },
  {
   "cell_type": "code",
<<<<<<< HEAD
   "execution_count": 40,
=======
   "execution_count": 34,
>>>>>>> 0bcdd2d7b2f2abc50ba60c9f918b2144124c14f6
   "metadata": {},
   "outputs": [
    {
     "data": {
      "text/plain": [
<<<<<<< HEAD
       "0.83148558758314861"
      ]
     },
     "execution_count": 40,
=======
       "0.8314855875831486"
      ]
     },
     "execution_count": 34,
>>>>>>> 0bcdd2d7b2f2abc50ba60c9f918b2144124c14f6
     "metadata": {},
     "output_type": "execute_result"
    }
   ],
   "source": [
    "metrics.accuracy_score(test_labels,predicted_labels)"
   ]
  },
  {
   "cell_type": "markdown",
   "metadata": {},
   "source": [
    "# Precision - Logistic Regression (Gradient Descent)"
   ]
  },
  {
   "cell_type": "code",
<<<<<<< HEAD
   "execution_count": 41,
=======
   "execution_count": 35,
>>>>>>> 0bcdd2d7b2f2abc50ba60c9f918b2144124c14f6
   "metadata": {},
   "outputs": [
    {
     "data": {
      "text/plain": [
<<<<<<< HEAD
       "0.83732057416267947"
      ]
     },
     "execution_count": 41,
=======
       "0.8373205741626795"
      ]
     },
     "execution_count": 35,
>>>>>>> 0bcdd2d7b2f2abc50ba60c9f918b2144124c14f6
     "metadata": {},
     "output_type": "execute_result"
    }
   ],
   "source": [
    "metrics.precision_score(test_labels,predicted_labels)"
   ]
  },
  {
   "cell_type": "markdown",
   "metadata": {},
   "source": [
    "# F-measure - Logistic Regression (Gradient Descent)"
   ]
  },
  {
   "cell_type": "code",
<<<<<<< HEAD
   "execution_count": 42,
=======
   "execution_count": 36,
>>>>>>> 0bcdd2d7b2f2abc50ba60c9f918b2144124c14f6
   "metadata": {},
   "outputs": [
    {
     "data": {
      "text/plain": [
<<<<<<< HEAD
       "0.90206185567010311"
      ]
     },
     "execution_count": 42,
=======
       "0.9020618556701031"
      ]
     },
     "execution_count": 36,
>>>>>>> 0bcdd2d7b2f2abc50ba60c9f918b2144124c14f6
     "metadata": {},
     "output_type": "execute_result"
    }
   ],
   "source": [
    "metrics.f1_score(test_labels, predicted_labels)"
   ]
  },
  {
   "cell_type": "markdown",
   "metadata": {},
   "source": [
    "# Recall - Logistic Regression (Gradient Descent)"
   ]
  },
  {
   "cell_type": "code",
<<<<<<< HEAD
   "execution_count": 43,
=======
   "execution_count": 37,
>>>>>>> 0bcdd2d7b2f2abc50ba60c9f918b2144124c14f6
   "metadata": {},
   "outputs": [
    {
     "data": {
      "text/plain": [
<<<<<<< HEAD
       "0.97765363128491622"
      ]
     },
     "execution_count": 43,
=======
       "0.9776536312849162"
      ]
     },
     "execution_count": 37,
>>>>>>> 0bcdd2d7b2f2abc50ba60c9f918b2144124c14f6
     "metadata": {},
     "output_type": "execute_result"
    }
   ],
   "source": [
    "metrics.recall_score(test_labels,predicted_labels)"
   ]
  },
  {
   "cell_type": "markdown",
   "metadata": {},
   "source": [
    "# AUC - Logistic Regression (Gradient Descent)"
   ]
  },
  {
   "cell_type": "code",
<<<<<<< HEAD
   "execution_count": 44,
=======
   "execution_count": 38,
>>>>>>> 0bcdd2d7b2f2abc50ba60c9f918b2144124c14f6
   "metadata": {},
   "outputs": [
    {
     "data": {
      "text/plain": [
<<<<<<< HEAD
       "0.62323541779299574"
      ]
     },
     "execution_count": 44,
=======
       "0.6232354177929957"
      ]
     },
     "execution_count": 38,
>>>>>>> 0bcdd2d7b2f2abc50ba60c9f918b2144124c14f6
     "metadata": {},
     "output_type": "execute_result"
    }
   ],
   "source": [
    "fpr, tpr, thresholds = metrics.roc_curve(test_labels, predicted_labels)\n",
    "metrics.auc(fpr, tpr)"
   ]
  },
  {
   "cell_type": "markdown",
   "metadata": {},
   "source": [
    "# Logistic Regression - Newton's method"
   ]
  },
  {
   "cell_type": "code",
<<<<<<< HEAD
   "execution_count": 45,
=======
   "execution_count": 39,
>>>>>>> 0bcdd2d7b2f2abc50ba60c9f918b2144124c14f6
   "metadata": {},
   "outputs": [],
   "source": [
    "def newton_method_logistic_regression(X_data,Y,number_iterations):\n",
    "    theta=np.zeros(X_data.shape[1])\n",
    "    for i in range(number_iterations):\n",
    "        z=np.dot(X_data,theta)\n",
    "        p=sigmoid(z)\n",
    "        gradient=np.dot(X_data.T, (p - Y)) / Y.size\n",
    "        column=(np.ones(p.size)).T\n",
    "        prob_product = np.dot(p,column-p)\n",
    "        learning_rate=np.linalg.inv(np.dot(prob_product,np.dot(X_data.T,X_data)/ Y.size))\n",
    "        theta=theta-np.dot(learning_rate,gradient)\n",
    "    return theta"
   ]
  },
  {
   "cell_type": "code",
<<<<<<< HEAD
   "execution_count": 46,
=======
   "execution_count": 40,
>>>>>>> 0bcdd2d7b2f2abc50ba60c9f918b2144124c14f6
   "metadata": {},
   "outputs": [
    {
     "name": "stdout",
     "output_type": "stream",
     "text": [
      "[-75.08420915  18.96311576   5.99766689 -77.3663019   -8.01762059\n",
      "  -5.84751266 -28.48633282]\n"
     ]
    }
   ],
   "source": [
    "theta=newton_method_logistic_regression(X_data,Y,number_iterations)\n",
    "print(theta)"
   ]
  },
  {
   "cell_type": "code",
<<<<<<< HEAD
   "execution_count": 47,
=======
   "execution_count": 41,
>>>>>>> 0bcdd2d7b2f2abc50ba60c9f918b2144124c14f6
   "metadata": {},
   "outputs": [],
   "source": [
    "predicted_labels=[]\n",
    "for i in range(len(test_data_new)):\n",
    "    if(sigmoid(np.dot(test_data_new[i],theta))>0.5):\n",
    "        predicted_labels.append(1)\n",
    "    else:\n",
    "        predicted_labels.append(0)"
   ]
  },
  {
   "cell_type": "markdown",
   "metadata": {},
   "source": [
    "# Accuracy score - Logistic Regression (Newton's method)"
   ]
  },
  {
   "cell_type": "code",
<<<<<<< HEAD
   "execution_count": 48,
=======
   "execution_count": 42,
>>>>>>> 0bcdd2d7b2f2abc50ba60c9f918b2144124c14f6
   "metadata": {},
   "outputs": [
    {
     "data": {
      "text/plain": [
<<<<<<< HEAD
       "0.85144124168514412"
      ]
     },
     "execution_count": 48,
=======
       "0.8514412416851441"
      ]
     },
     "execution_count": 42,
>>>>>>> 0bcdd2d7b2f2abc50ba60c9f918b2144124c14f6
     "metadata": {},
     "output_type": "execute_result"
    }
   ],
   "source": [
    "metrics.accuracy_score(test_labels,predicted_labels)"
   ]
  },
  {
   "cell_type": "markdown",
   "metadata": {},
   "source": [
    "# Precision - Logistic Regression (Newton's method)"
   ]
  },
  {
   "cell_type": "code",
<<<<<<< HEAD
   "execution_count": 49,
=======
   "execution_count": 43,
>>>>>>> 0bcdd2d7b2f2abc50ba60c9f918b2144124c14f6
   "metadata": {},
   "outputs": [
    {
     "data": {
      "text/plain": [
<<<<<<< HEAD
       "0.86649874055415621"
      ]
     },
     "execution_count": 49,
=======
       "0.8664987405541562"
      ]
     },
     "execution_count": 43,
>>>>>>> 0bcdd2d7b2f2abc50ba60c9f918b2144124c14f6
     "metadata": {},
     "output_type": "execute_result"
    }
   ],
   "source": [
    "metrics.precision_score(test_labels,predicted_labels)"
   ]
  },
  {
   "cell_type": "markdown",
   "metadata": {},
   "source": [
    "# F-measure - Logistic Regression (Newton's method)"
   ]
  },
  {
   "cell_type": "code",
<<<<<<< HEAD
   "execution_count": 50,
=======
   "execution_count": 44,
>>>>>>> 0bcdd2d7b2f2abc50ba60c9f918b2144124c14f6
   "metadata": {},
   "outputs": [
    {
     "data": {
      "text/plain": [
<<<<<<< HEAD
       "0.91125827814569527"
      ]
     },
     "execution_count": 50,
=======
       "0.9112582781456953"
      ]
     },
     "execution_count": 44,
>>>>>>> 0bcdd2d7b2f2abc50ba60c9f918b2144124c14f6
     "metadata": {},
     "output_type": "execute_result"
    }
   ],
   "source": [
    "metrics.f1_score(test_labels, predicted_labels)"
   ]
  },
  {
   "cell_type": "markdown",
   "metadata": {},
   "source": [
    "# Recall - Logistic Regression (Newton's method)"
   ]
  },
  {
   "cell_type": "code",
<<<<<<< HEAD
   "execution_count": 51,
=======
   "execution_count": 45,
>>>>>>> 0bcdd2d7b2f2abc50ba60c9f918b2144124c14f6
   "metadata": {},
   "outputs": [
    {
     "data": {
      "text/plain": [
<<<<<<< HEAD
       "0.96089385474860334"
      ]
     },
     "execution_count": 51,
=======
       "0.9608938547486033"
      ]
     },
     "execution_count": 45,
>>>>>>> 0bcdd2d7b2f2abc50ba60c9f918b2144124c14f6
     "metadata": {},
     "output_type": "execute_result"
    }
   ],
   "source": [
    "metrics.recall_score(test_labels,predicted_labels)"
   ]
  },
  {
   "cell_type": "markdown",
   "metadata": {},
   "source": [
    "# AUC - Logistic Regression (Newton's method)"
   ]
  },
  {
   "cell_type": "code",
<<<<<<< HEAD
   "execution_count": 52,
=======
   "execution_count": 46,
>>>>>>> 0bcdd2d7b2f2abc50ba60c9f918b2144124c14f6
   "metadata": {},
   "outputs": [
    {
     "data": {
      "text/plain": [
<<<<<<< HEAD
       "0.69550069081516197"
      ]
     },
     "execution_count": 52,
=======
       "0.695500690815162"
      ]
     },
     "execution_count": 46,
>>>>>>> 0bcdd2d7b2f2abc50ba60c9f918b2144124c14f6
     "metadata": {},
     "output_type": "execute_result"
    }
   ],
   "source": [
    "fpr, tpr, thresholds = metrics.roc_curve(test_labels, predicted_labels)\n",
    "metrics.auc(fpr, tpr)"
   ]
  },
  {
   "cell_type": "markdown",
   "metadata": {},
   "source": [
    "# Logistic Regression (Library)"
   ]
  },
  {
   "cell_type": "code",
<<<<<<< HEAD
   "execution_count": 53,
=======
   "execution_count": 47,
>>>>>>> 0bcdd2d7b2f2abc50ba60c9f918b2144124c14f6
   "metadata": {},
   "outputs": [
    {
     "data": {
      "text/plain": [
       "LogisticRegression(C=1.0, class_weight=None, dual=False, fit_intercept=True,\n",
       "          intercept_scaling=1, max_iter=100, multi_class='ovr', n_jobs=1,\n",
       "          penalty='l2', random_state=None, solver='liblinear', tol=0.0001,\n",
       "          verbose=0, warm_start=False)"
      ]
     },
<<<<<<< HEAD
     "execution_count": 53,
=======
     "execution_count": 47,
>>>>>>> 0bcdd2d7b2f2abc50ba60c9f918b2144124c14f6
     "metadata": {},
     "output_type": "execute_result"
    }
   ],
   "source": [
    "logistic_regression=LogisticRegression()\n",
    "logistic_regression.fit(X,Y)"
   ]
  },
  {
   "cell_type": "code",
<<<<<<< HEAD
   "execution_count": 54,
=======
   "execution_count": 48,
>>>>>>> 0bcdd2d7b2f2abc50ba60c9f918b2144124c14f6
   "metadata": {},
   "outputs": [],
   "source": [
    "predicted_labels=logistic_regression.predict(test_data) # prediction of labels for test data"
   ]
  },
  {
   "cell_type": "markdown",
   "metadata": {},
   "source": [
    "# Accuracy score - Logistic Regression (library)"
   ]
  },
  {
   "cell_type": "code",
<<<<<<< HEAD
   "execution_count": 55,
=======
   "execution_count": 49,
>>>>>>> 0bcdd2d7b2f2abc50ba60c9f918b2144124c14f6
   "metadata": {},
   "outputs": [
    {
     "data": {
      "text/plain": [
<<<<<<< HEAD
       "0.80044345898004432"
      ]
     },
     "execution_count": 55,
=======
       "0.8004434589800443"
      ]
     },
     "execution_count": 49,
>>>>>>> 0bcdd2d7b2f2abc50ba60c9f918b2144124c14f6
     "metadata": {},
     "output_type": "execute_result"
    }
   ],
   "source": [
    "metrics.accuracy_score(test_labels,predicted_labels)"
   ]
  },
  {
   "cell_type": "markdown",
   "metadata": {},
   "source": [
    "# Precision - Logistic Regression (library)"
   ]
  },
  {
   "cell_type": "code",
<<<<<<< HEAD
   "execution_count": 56,
=======
   "execution_count": 50,
>>>>>>> 0bcdd2d7b2f2abc50ba60c9f918b2144124c14f6
   "metadata": {},
   "outputs": [
    {
     "data": {
      "text/plain": [
<<<<<<< HEAD
       "0.80316742081447967"
      ]
     },
     "execution_count": 56,
=======
       "0.8031674208144797"
      ]
     },
     "execution_count": 50,
>>>>>>> 0bcdd2d7b2f2abc50ba60c9f918b2144124c14f6
     "metadata": {},
     "output_type": "execute_result"
    }
   ],
   "source": [
    "metrics.precision_score(test_labels,predicted_labels)"
   ]
  },
  {
   "cell_type": "markdown",
   "metadata": {},
   "source": [
    "# F-measure - Logistic Regression (library)"
   ]
  },
  {
   "cell_type": "code",
<<<<<<< HEAD
   "execution_count": 57,
=======
   "execution_count": 51,
>>>>>>> 0bcdd2d7b2f2abc50ba60c9f918b2144124c14f6
   "metadata": {},
   "outputs": [
    {
     "data": {
      "text/plain": [
<<<<<<< HEAD
       "0.88749999999999996"
      ]
     },
     "execution_count": 57,
=======
       "0.8875"
      ]
     },
     "execution_count": 51,
>>>>>>> 0bcdd2d7b2f2abc50ba60c9f918b2144124c14f6
     "metadata": {},
     "output_type": "execute_result"
    }
   ],
   "source": [
    "metrics.f1_score(test_labels, predicted_labels)"
   ]
  },
  {
   "cell_type": "markdown",
   "metadata": {},
   "source": [
    "# Recall - Logistic Regression (library)"
   ]
  },
  {
   "cell_type": "code",
<<<<<<< HEAD
   "execution_count": 58,
=======
   "execution_count": 52,
>>>>>>> 0bcdd2d7b2f2abc50ba60c9f918b2144124c14f6
   "metadata": {},
   "outputs": [
    {
     "data": {
      "text/plain": [
<<<<<<< HEAD
       "0.99162011173184361"
      ]
     },
     "execution_count": 58,
=======
       "0.9916201117318436"
      ]
     },
     "execution_count": 52,
>>>>>>> 0bcdd2d7b2f2abc50ba60c9f918b2144124c14f6
     "metadata": {},
     "output_type": "execute_result"
    }
   ],
   "source": [
    "metrics.recall_score(test_labels,predicted_labels)"
   ]
  },
  {
   "cell_type": "markdown",
   "metadata": {},
   "source": [
    "# AUC - Logistic Regression (library)"
   ]
  },
  {
   "cell_type": "code",
<<<<<<< HEAD
   "execution_count": 59,
=======
   "execution_count": 53,
>>>>>>> 0bcdd2d7b2f2abc50ba60c9f918b2144124c14f6
   "metadata": {},
   "outputs": [
    {
     "data": {
      "text/plain": [
<<<<<<< HEAD
       "0.52806812038205087"
      ]
     },
     "execution_count": 59,
=======
       "0.5280681203820509"
      ]
     },
     "execution_count": 53,
>>>>>>> 0bcdd2d7b2f2abc50ba60c9f918b2144124c14f6
     "metadata": {},
     "output_type": "execute_result"
    }
   ],
   "source": [
    "fpr, tpr, thresholds = metrics.roc_curve(test_labels, predicted_labels)\n",
    "metrics.auc(fpr, tpr)"
   ]
  }
 ],
 "metadata": {
  "kernelspec": {
   "display_name": "Python 2",
   "language": "python",
   "name": "python2"
  },
  "language_info": {
   "codemirror_mode": {
    "name": "ipython",
    "version": 2
   },
   "file_extension": ".py",
   "mimetype": "text/x-python",
   "name": "python",
   "nbconvert_exporter": "python",
   "pygments_lexer": "ipython2",
   "version": "2.7.12"
  }
 },
 "nbformat": 4,
 "nbformat_minor": 2
}

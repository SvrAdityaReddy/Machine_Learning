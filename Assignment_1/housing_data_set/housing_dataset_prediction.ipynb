{
 "cells": [
  {
   "cell_type": "markdown",
   "metadata": {},
   "source": [
    "# Libraries \n",
    "Libraries used in the following code are pandas, numpy, matplotlib, sklearn"
   ]
  },
  {
   "cell_type": "code",
   "execution_count": 1,
   "metadata": {},
   "outputs": [],
   "source": [
    "import pandas as pd\n",
    "import numpy as np\n",
    "import time\n",
    "from numpy.linalg import inv\n",
    "import matplotlib.pyplot as plt\n",
    "from sklearn.model_selection import train_test_split\n",
    "from sklearn.preprocessing import Imputer\n",
    "from sklearn.preprocessing import OneHotEncoder\n",
    "import category_encoders as ce\n",
    "from sklearn.preprocessing import StandardScaler\n",
    "from sklearn.linear_model import Lasso, LassoCV\n",
    "from sklearn.metrics import mean_squared_error"
   ]
  },
  {
   "cell_type": "markdown",
   "metadata": {},
   "source": [
    "# Data Read\n",
    "Reading data from csv file named as \"housing.csv\""
   ]
  },
  {
   "cell_type": "code",
   "execution_count": 2,
   "metadata": {},
   "outputs": [
    {
     "data": {
      "text/html": [
       "<div>\n",
       "<style scoped>\n",
       "    .dataframe tbody tr th:only-of-type {\n",
       "        vertical-align: middle;\n",
       "    }\n",
       "\n",
       "    .dataframe tbody tr th {\n",
       "        vertical-align: top;\n",
       "    }\n",
       "\n",
       "    .dataframe thead th {\n",
       "        text-align: right;\n",
       "    }\n",
       "</style>\n",
       "<table border=\"1\" class=\"dataframe\">\n",
       "  <thead>\n",
       "    <tr style=\"text-align: right;\">\n",
       "      <th></th>\n",
       "      <th>longitude</th>\n",
       "      <th>latitude</th>\n",
       "      <th>housing_median_age</th>\n",
       "      <th>total_rooms</th>\n",
       "      <th>total_bedrooms</th>\n",
       "      <th>population</th>\n",
       "      <th>households</th>\n",
       "      <th>median_income</th>\n",
       "      <th>median_house_value</th>\n",
       "      <th>ocean_proximity</th>\n",
       "    </tr>\n",
       "  </thead>\n",
       "  <tbody>\n",
       "    <tr>\n",
       "      <th>0</th>\n",
       "      <td>-122.23</td>\n",
       "      <td>37.88</td>\n",
       "      <td>41.0</td>\n",
       "      <td>880.0</td>\n",
       "      <td>129.0</td>\n",
       "      <td>322.0</td>\n",
       "      <td>126.0</td>\n",
       "      <td>8.3252</td>\n",
       "      <td>452600.0</td>\n",
       "      <td>NEAR BAY</td>\n",
       "    </tr>\n",
       "    <tr>\n",
       "      <th>1</th>\n",
       "      <td>-122.22</td>\n",
       "      <td>37.86</td>\n",
       "      <td>21.0</td>\n",
       "      <td>7099.0</td>\n",
       "      <td>1106.0</td>\n",
       "      <td>2401.0</td>\n",
       "      <td>1138.0</td>\n",
       "      <td>8.3014</td>\n",
       "      <td>358500.0</td>\n",
       "      <td>NEAR BAY</td>\n",
       "    </tr>\n",
       "    <tr>\n",
       "      <th>2</th>\n",
       "      <td>-122.24</td>\n",
       "      <td>37.85</td>\n",
       "      <td>52.0</td>\n",
       "      <td>1467.0</td>\n",
       "      <td>190.0</td>\n",
       "      <td>496.0</td>\n",
       "      <td>177.0</td>\n",
       "      <td>7.2574</td>\n",
       "      <td>352100.0</td>\n",
       "      <td>NEAR BAY</td>\n",
       "    </tr>\n",
       "    <tr>\n",
       "      <th>3</th>\n",
       "      <td>-122.25</td>\n",
       "      <td>37.85</td>\n",
       "      <td>52.0</td>\n",
       "      <td>1274.0</td>\n",
       "      <td>235.0</td>\n",
       "      <td>558.0</td>\n",
       "      <td>219.0</td>\n",
       "      <td>5.6431</td>\n",
       "      <td>341300.0</td>\n",
       "      <td>NEAR BAY</td>\n",
       "    </tr>\n",
       "    <tr>\n",
       "      <th>4</th>\n",
       "      <td>-122.25</td>\n",
       "      <td>37.85</td>\n",
       "      <td>52.0</td>\n",
       "      <td>1627.0</td>\n",
       "      <td>280.0</td>\n",
       "      <td>565.0</td>\n",
       "      <td>259.0</td>\n",
       "      <td>3.8462</td>\n",
       "      <td>342200.0</td>\n",
       "      <td>NEAR BAY</td>\n",
       "    </tr>\n",
       "  </tbody>\n",
       "</table>\n",
       "</div>"
      ],
      "text/plain": [
       "   longitude  latitude  housing_median_age  total_rooms  total_bedrooms  \\\n",
       "0    -122.23     37.88                41.0        880.0           129.0   \n",
       "1    -122.22     37.86                21.0       7099.0          1106.0   \n",
       "2    -122.24     37.85                52.0       1467.0           190.0   \n",
       "3    -122.25     37.85                52.0       1274.0           235.0   \n",
       "4    -122.25     37.85                52.0       1627.0           280.0   \n",
       "\n",
       "   population  households  median_income  median_house_value ocean_proximity  \n",
       "0       322.0       126.0         8.3252            452600.0        NEAR BAY  \n",
       "1      2401.0      1138.0         8.3014            358500.0        NEAR BAY  \n",
       "2       496.0       177.0         7.2574            352100.0        NEAR BAY  \n",
       "3       558.0       219.0         5.6431            341300.0        NEAR BAY  \n",
       "4       565.0       259.0         3.8462            342200.0        NEAR BAY  "
      ]
     },
     "execution_count": 2,
     "metadata": {},
     "output_type": "execute_result"
    }
   ],
   "source": [
    "data=pd.read_csv(\"housing.csv\")\n",
    "data.head()"
   ]
  },
  {
   "cell_type": "code",
   "execution_count": 3,
   "metadata": {},
   "outputs": [
    {
     "data": {
      "text/html": [
       "<div>\n",
       "<style scoped>\n",
       "    .dataframe tbody tr th:only-of-type {\n",
       "        vertical-align: middle;\n",
       "    }\n",
       "\n",
       "    .dataframe tbody tr th {\n",
       "        vertical-align: top;\n",
       "    }\n",
       "\n",
       "    .dataframe thead th {\n",
       "        text-align: right;\n",
       "    }\n",
       "</style>\n",
       "<table border=\"1\" class=\"dataframe\">\n",
       "  <thead>\n",
       "    <tr style=\"text-align: right;\">\n",
       "      <th></th>\n",
       "      <th>longitude</th>\n",
       "      <th>latitude</th>\n",
       "      <th>housing_median_age</th>\n",
       "      <th>total_rooms</th>\n",
       "      <th>total_bedrooms</th>\n",
       "      <th>population</th>\n",
       "      <th>households</th>\n",
       "      <th>median_income</th>\n",
       "      <th>median_house_value</th>\n",
       "    </tr>\n",
       "  </thead>\n",
       "  <tbody>\n",
       "    <tr>\n",
       "      <th>count</th>\n",
       "      <td>20640.000000</td>\n",
       "      <td>20640.000000</td>\n",
       "      <td>20640.000000</td>\n",
       "      <td>20640.000000</td>\n",
       "      <td>20433.000000</td>\n",
       "      <td>20640.000000</td>\n",
       "      <td>20640.000000</td>\n",
       "      <td>20640.000000</td>\n",
       "      <td>20640.000000</td>\n",
       "    </tr>\n",
       "    <tr>\n",
       "      <th>mean</th>\n",
       "      <td>-119.569704</td>\n",
       "      <td>35.631861</td>\n",
       "      <td>28.639486</td>\n",
       "      <td>2635.763081</td>\n",
       "      <td>537.870553</td>\n",
       "      <td>1425.476744</td>\n",
       "      <td>499.539680</td>\n",
       "      <td>3.870671</td>\n",
       "      <td>206855.816909</td>\n",
       "    </tr>\n",
       "    <tr>\n",
       "      <th>std</th>\n",
       "      <td>2.003532</td>\n",
       "      <td>2.135952</td>\n",
       "      <td>12.585558</td>\n",
       "      <td>2181.615252</td>\n",
       "      <td>421.385070</td>\n",
       "      <td>1132.462122</td>\n",
       "      <td>382.329753</td>\n",
       "      <td>1.899822</td>\n",
       "      <td>115395.615874</td>\n",
       "    </tr>\n",
       "    <tr>\n",
       "      <th>min</th>\n",
       "      <td>-124.350000</td>\n",
       "      <td>32.540000</td>\n",
       "      <td>1.000000</td>\n",
       "      <td>2.000000</td>\n",
       "      <td>1.000000</td>\n",
       "      <td>3.000000</td>\n",
       "      <td>1.000000</td>\n",
       "      <td>0.499900</td>\n",
       "      <td>14999.000000</td>\n",
       "    </tr>\n",
       "    <tr>\n",
       "      <th>25%</th>\n",
       "      <td>-121.800000</td>\n",
       "      <td>33.930000</td>\n",
       "      <td>18.000000</td>\n",
       "      <td>1447.750000</td>\n",
       "      <td>296.000000</td>\n",
       "      <td>787.000000</td>\n",
       "      <td>280.000000</td>\n",
       "      <td>2.563400</td>\n",
       "      <td>119600.000000</td>\n",
       "    </tr>\n",
       "    <tr>\n",
       "      <th>50%</th>\n",
       "      <td>-118.490000</td>\n",
       "      <td>34.260000</td>\n",
       "      <td>29.000000</td>\n",
       "      <td>2127.000000</td>\n",
       "      <td>435.000000</td>\n",
       "      <td>1166.000000</td>\n",
       "      <td>409.000000</td>\n",
       "      <td>3.534800</td>\n",
       "      <td>179700.000000</td>\n",
       "    </tr>\n",
       "    <tr>\n",
       "      <th>75%</th>\n",
       "      <td>-118.010000</td>\n",
       "      <td>37.710000</td>\n",
       "      <td>37.000000</td>\n",
       "      <td>3148.000000</td>\n",
       "      <td>647.000000</td>\n",
       "      <td>1725.000000</td>\n",
       "      <td>605.000000</td>\n",
       "      <td>4.743250</td>\n",
       "      <td>264725.000000</td>\n",
       "    </tr>\n",
       "    <tr>\n",
       "      <th>max</th>\n",
       "      <td>-114.310000</td>\n",
       "      <td>41.950000</td>\n",
       "      <td>52.000000</td>\n",
       "      <td>39320.000000</td>\n",
       "      <td>6445.000000</td>\n",
       "      <td>35682.000000</td>\n",
       "      <td>6082.000000</td>\n",
       "      <td>15.000100</td>\n",
       "      <td>500001.000000</td>\n",
       "    </tr>\n",
       "  </tbody>\n",
       "</table>\n",
       "</div>"
      ],
      "text/plain": [
       "          longitude      latitude  housing_median_age   total_rooms  \\\n",
       "count  20640.000000  20640.000000        20640.000000  20640.000000   \n",
       "mean    -119.569704     35.631861           28.639486   2635.763081   \n",
       "std        2.003532      2.135952           12.585558   2181.615252   \n",
       "min     -124.350000     32.540000            1.000000      2.000000   \n",
       "25%     -121.800000     33.930000           18.000000   1447.750000   \n",
       "50%     -118.490000     34.260000           29.000000   2127.000000   \n",
       "75%     -118.010000     37.710000           37.000000   3148.000000   \n",
       "max     -114.310000     41.950000           52.000000  39320.000000   \n",
       "\n",
       "       total_bedrooms    population    households  median_income  \\\n",
       "count    20433.000000  20640.000000  20640.000000   20640.000000   \n",
       "mean       537.870553   1425.476744    499.539680       3.870671   \n",
       "std        421.385070   1132.462122    382.329753       1.899822   \n",
       "min          1.000000      3.000000      1.000000       0.499900   \n",
       "25%        296.000000    787.000000    280.000000       2.563400   \n",
       "50%        435.000000   1166.000000    409.000000       3.534800   \n",
       "75%        647.000000   1725.000000    605.000000       4.743250   \n",
       "max       6445.000000  35682.000000   6082.000000      15.000100   \n",
       "\n",
       "       median_house_value  \n",
       "count        20640.000000  \n",
       "mean        206855.816909  \n",
       "std         115395.615874  \n",
       "min          14999.000000  \n",
       "25%         119600.000000  \n",
       "50%         179700.000000  \n",
       "75%         264725.000000  \n",
       "max         500001.000000  "
      ]
     },
     "execution_count": 3,
     "metadata": {},
     "output_type": "execute_result"
    }
   ],
   "source": [
    "data.describe()"
   ]
  },
  {
   "cell_type": "markdown",
   "metadata": {},
   "source": [
    "# Plotting Data\n",
    "Plotting each attribute/feature in the data set"
   ]
  },
  {
   "cell_type": "code",
   "execution_count": 4,
   "metadata": {},
   "outputs": [
    {
     "data": {
      "text/plain": [
       "array([[<matplotlib.axes._subplots.AxesSubplot object at 0x7fc189a53cd0>,\n",
       "        <matplotlib.axes._subplots.AxesSubplot object at 0x7fc18982a2d0>,\n",
       "        <matplotlib.axes._subplots.AxesSubplot object at 0x7fc1b808a4d0>],\n",
       "       [<matplotlib.axes._subplots.AxesSubplot object at 0x7fc18971b1d0>,\n",
       "        <matplotlib.axes._subplots.AxesSubplot object at 0x7fc189691fd0>,\n",
       "        <matplotlib.axes._subplots.AxesSubplot object at 0x7fc189601a90>],\n",
       "       [<matplotlib.axes._subplots.AxesSubplot object at 0x7fc189585a10>,\n",
       "        <matplotlib.axes._subplots.AxesSubplot object at 0x7fc189568890>,\n",
       "        <matplotlib.axes._subplots.AxesSubplot object at 0x7fc1894ec810>]], dtype=object)"
      ]
     },
     "execution_count": 4,
     "metadata": {},
     "output_type": "execute_result"
    },
    {
     "data": {
      "image/png": "[encoded data removed]",
      "text/plain": [
       "<matplotlib.figure.Figure at 0x7fc189a53450>"
      ]
     },
     "metadata": {},
     "output_type": "display_data"
    }
   ],
   "source": [
    "data.hist(bins=50,figsize=(20,15))"
   ]
  },
  {
   "cell_type": "markdown",
   "metadata": {},
   "source": [
    "# Creating Training and Test Dataset\n",
    "creating a training and test dataset using Scikit-Learn"
   ]
  },
  {
   "cell_type": "code",
   "execution_count": 5,
   "metadata": {},
   "outputs": [],
   "source": [
    "train_set, test_set=train_test_split(data,test_size=0.2,random_state=12)"
   ]
  },
  {
   "cell_type": "markdown",
   "metadata": {},
   "source": [
    "# Correlations of Data withrespect to median_house_value \n",
    "Correlations of data withrespect to median_house_value to be estimated\n"
   ]
  },
  {
   "cell_type": "code",
   "execution_count": 6,
   "metadata": {},
   "outputs": [
    {
     "data": {
      "text/plain": [
       "median_house_value    1.000000\n",
       "median_income         0.685356\n",
       "total_rooms           0.134831\n",
       "housing_median_age    0.111649\n",
       "households            0.066660\n",
       "total_bedrooms        0.050123\n",
       "population           -0.024226\n",
       "longitude            -0.050038\n",
       "latitude             -0.142114\n",
       "Name: median_house_value, dtype: float64"
      ]
     },
     "execution_count": 6,
     "metadata": {},
     "output_type": "execute_result"
    }
   ],
   "source": [
    "correlation_matrix=train_set.corr()\n",
    "correlation_matrix[\"median_house_value\"].sort_values(ascending=False)"
   ]
  },
  {
   "cell_type": "markdown",
   "metadata": {},
   "source": [
    "# Attribute Combinations\n",
    "Constructing new attributes using already existing attributes"
   ]
  },
  {
   "cell_type": "code",
   "execution_count": 7,
   "metadata": {},
   "outputs": [
    {
     "name": "stderr",
     "output_type": "stream",
     "text": [
      "/usr/local/lib/python2.7/dist-packages/ipykernel_launcher.py:1: SettingWithCopyWarning: \n",
      "A value is trying to be set on a copy of a slice from a DataFrame.\n",
      "Try using .loc[row_indexer,col_indexer] = value instead\n",
      "\n",
      "See the caveats in the documentation: http://pandas.pydata.org/pandas-docs/stable/indexing.html#indexing-view-versus-copy\n",
      "  \"\"\"Entry point for launching an IPython kernel.\n",
      "/usr/local/lib/python2.7/dist-packages/ipykernel_launcher.py:2: SettingWithCopyWarning: \n",
      "A value is trying to be set on a copy of a slice from a DataFrame.\n",
      "Try using .loc[row_indexer,col_indexer] = value instead\n",
      "\n",
      "See the caveats in the documentation: http://pandas.pydata.org/pandas-docs/stable/indexing.html#indexing-view-versus-copy\n",
      "  \n",
      "/usr/local/lib/python2.7/dist-packages/ipykernel_launcher.py:3: SettingWithCopyWarning: \n",
      "A value is trying to be set on a copy of a slice from a DataFrame.\n",
      "Try using .loc[row_indexer,col_indexer] = value instead\n",
      "\n",
      "See the caveats in the documentation: http://pandas.pydata.org/pandas-docs/stable/indexing.html#indexing-view-versus-copy\n",
      "  This is separate from the ipykernel package so we can avoid doing imports until\n"
     ]
    }
   ],
   "source": [
    "train_set[\"rooms_per_household\"] =train_set[\"total_rooms\"]/train_set[\"households\"]\n",
    "train_set[\"bedrooms_per_room\"] = train_set[\"total_bedrooms\"]/train_set[\"total_rooms\"]\n",
    "train_set[\"population_per_household\"]=train_set[\"population\"]/train_set[\"households\"]"
   ]
  },
  {
   "cell_type": "code",
   "execution_count": 8,
   "metadata": {},
   "outputs": [
    {
     "data": {
      "text/plain": [
       "median_house_value          1.000000\n",
       "median_income               0.685356\n",
       "rooms_per_household         0.142614\n",
       "total_rooms                 0.134831\n",
       "housing_median_age          0.111649\n",
       "households                  0.066660\n",
       "total_bedrooms              0.050123\n",
       "population_per_household   -0.021862\n",
       "population                 -0.024226\n",
       "longitude                  -0.050038\n",
       "latitude                   -0.142114\n",
       "bedrooms_per_room          -0.252368\n",
       "Name: median_house_value, dtype: float64"
      ]
     },
     "execution_count": 8,
     "metadata": {},
     "output_type": "execute_result"
    }
   ],
   "source": [
    "correlation_matrix=train_set.corr()\n",
    "correlation_matrix[\"median_house_value\"].sort_values(ascending=False)"
   ]
  },
  {
   "cell_type": "markdown",
   "metadata": {},
   "source": [
    "# Preparing the Data\n",
    "Here we will first remove the \"median_house_value\" entries from \"train_set\""
   ]
  },
  {
   "cell_type": "code",
   "execution_count": 9,
   "metadata": {},
   "outputs": [
    {
     "data": {
      "text/html": [
       "<div>\n",
       "<style scoped>\n",
       "    .dataframe tbody tr th:only-of-type {\n",
       "        vertical-align: middle;\n",
       "    }\n",
       "\n",
       "    .dataframe tbody tr th {\n",
       "        vertical-align: top;\n",
       "    }\n",
       "\n",
       "    .dataframe thead th {\n",
       "        text-align: right;\n",
       "    }\n",
       "</style>\n",
       "<table border=\"1\" class=\"dataframe\">\n",
       "  <thead>\n",
       "    <tr style=\"text-align: right;\">\n",
       "      <th></th>\n",
       "      <th>longitude</th>\n",
       "      <th>latitude</th>\n",
       "      <th>housing_median_age</th>\n",
       "      <th>total_rooms</th>\n",
       "      <th>total_bedrooms</th>\n",
       "      <th>population</th>\n",
       "      <th>households</th>\n",
       "      <th>median_income</th>\n",
       "      <th>ocean_proximity</th>\n",
       "      <th>rooms_per_household</th>\n",
       "      <th>bedrooms_per_room</th>\n",
       "      <th>population_per_household</th>\n",
       "    </tr>\n",
       "  </thead>\n",
       "  <tbody>\n",
       "    <tr>\n",
       "      <th>1652</th>\n",
       "      <td>-121.97</td>\n",
       "      <td>37.93</td>\n",
       "      <td>4.0</td>\n",
       "      <td>3241.0</td>\n",
       "      <td>464.0</td>\n",
       "      <td>1552.0</td>\n",
       "      <td>494.0</td>\n",
       "      <td>6.6134</td>\n",
       "      <td>INLAND</td>\n",
       "      <td>6.560729</td>\n",
       "      <td>0.143166</td>\n",
       "      <td>3.141700</td>\n",
       "    </tr>\n",
       "    <tr>\n",
       "      <th>14652</th>\n",
       "      <td>-117.15</td>\n",
       "      <td>32.80</td>\n",
       "      <td>41.0</td>\n",
       "      <td>1413.0</td>\n",
       "      <td>261.0</td>\n",
       "      <td>1070.0</td>\n",
       "      <td>259.0</td>\n",
       "      <td>2.3578</td>\n",
       "      <td>NEAR OCEAN</td>\n",
       "      <td>5.455598</td>\n",
       "      <td>0.184713</td>\n",
       "      <td>4.131274</td>\n",
       "    </tr>\n",
       "    <tr>\n",
       "      <th>3548</th>\n",
       "      <td>-118.61</td>\n",
       "      <td>34.25</td>\n",
       "      <td>16.0</td>\n",
       "      <td>8295.0</td>\n",
       "      <td>1506.0</td>\n",
       "      <td>3903.0</td>\n",
       "      <td>1451.0</td>\n",
       "      <td>5.5111</td>\n",
       "      <td>&lt;1H OCEAN</td>\n",
       "      <td>5.716747</td>\n",
       "      <td>0.181555</td>\n",
       "      <td>2.689869</td>\n",
       "    </tr>\n",
       "    <tr>\n",
       "      <th>6730</th>\n",
       "      <td>-118.14</td>\n",
       "      <td>34.11</td>\n",
       "      <td>52.0</td>\n",
       "      <td>2742.0</td>\n",
       "      <td>422.0</td>\n",
       "      <td>1153.0</td>\n",
       "      <td>414.0</td>\n",
       "      <td>8.1124</td>\n",
       "      <td>&lt;1H OCEAN</td>\n",
       "      <td>6.623188</td>\n",
       "      <td>0.153902</td>\n",
       "      <td>2.785024</td>\n",
       "    </tr>\n",
       "    <tr>\n",
       "      <th>18445</th>\n",
       "      <td>-121.81</td>\n",
       "      <td>37.25</td>\n",
       "      <td>25.0</td>\n",
       "      <td>4096.0</td>\n",
       "      <td>623.0</td>\n",
       "      <td>2128.0</td>\n",
       "      <td>618.0</td>\n",
       "      <td>6.2957</td>\n",
       "      <td>&lt;1H OCEAN</td>\n",
       "      <td>6.627832</td>\n",
       "      <td>0.152100</td>\n",
       "      <td>3.443366</td>\n",
       "    </tr>\n",
       "  </tbody>\n",
       "</table>\n",
       "</div>"
      ],
      "text/plain": [
       "       longitude  latitude  housing_median_age  total_rooms  total_bedrooms  \\\n",
       "1652     -121.97     37.93                 4.0       3241.0           464.0   \n",
       "14652    -117.15     32.80                41.0       1413.0           261.0   \n",
       "3548     -118.61     34.25                16.0       8295.0          1506.0   \n",
       "6730     -118.14     34.11                52.0       2742.0           422.0   \n",
       "18445    -121.81     37.25                25.0       4096.0           623.0   \n",
       "\n",
       "       population  households  median_income ocean_proximity  \\\n",
       "1652       1552.0       494.0         6.6134          INLAND   \n",
       "14652      1070.0       259.0         2.3578      NEAR OCEAN   \n",
       "3548       3903.0      1451.0         5.5111       <1H OCEAN   \n",
       "6730       1153.0       414.0         8.1124       <1H OCEAN   \n",
       "18445      2128.0       618.0         6.2957       <1H OCEAN   \n",
       "\n",
       "       rooms_per_household  bedrooms_per_room  population_per_household  \n",
       "1652              6.560729           0.143166                  3.141700  \n",
       "14652             5.455598           0.184713                  4.131274  \n",
       "3548              5.716747           0.181555                  2.689869  \n",
       "6730              6.623188           0.153902                  2.785024  \n",
       "18445             6.627832           0.152100                  3.443366  "
      ]
     },
     "execution_count": 9,
     "metadata": {},
     "output_type": "execute_result"
    }
   ],
   "source": [
    "data_new = train_set.drop(\"median_house_value\", axis=1)\n",
    "data_labels = train_set[\"median_house_value\"].copy()\n",
    "train_labels = data_labels.copy()\n",
    "data_new.head()"
   ]
  },
  {
   "cell_type": "code",
   "execution_count": 10,
   "metadata": {},
   "outputs": [
    {
     "data": {
      "text/html": [
       "<div>\n",
       "<style scoped>\n",
       "    .dataframe tbody tr th:only-of-type {\n",
       "        vertical-align: middle;\n",
       "    }\n",
       "\n",
       "    .dataframe tbody tr th {\n",
       "        vertical-align: top;\n",
       "    }\n",
       "\n",
       "    .dataframe thead th {\n",
       "        text-align: right;\n",
       "    }\n",
       "</style>\n",
       "<table border=\"1\" class=\"dataframe\">\n",
       "  <thead>\n",
       "    <tr style=\"text-align: right;\">\n",
       "      <th></th>\n",
       "      <th>longitude</th>\n",
       "      <th>latitude</th>\n",
       "      <th>housing_median_age</th>\n",
       "      <th>total_rooms</th>\n",
       "      <th>total_bedrooms</th>\n",
       "      <th>population</th>\n",
       "      <th>households</th>\n",
       "      <th>median_income</th>\n",
       "      <th>ocean_proximity</th>\n",
       "    </tr>\n",
       "  </thead>\n",
       "  <tbody>\n",
       "    <tr>\n",
       "      <th>6906</th>\n",
       "      <td>-118.13</td>\n",
       "      <td>34.04</td>\n",
       "      <td>42.0</td>\n",
       "      <td>2205.0</td>\n",
       "      <td>451.0</td>\n",
       "      <td>1392.0</td>\n",
       "      <td>423.0</td>\n",
       "      <td>4.3646</td>\n",
       "      <td>&lt;1H OCEAN</td>\n",
       "    </tr>\n",
       "    <tr>\n",
       "      <th>767</th>\n",
       "      <td>-122.09</td>\n",
       "      <td>37.65</td>\n",
       "      <td>27.0</td>\n",
       "      <td>2630.0</td>\n",
       "      <td>722.0</td>\n",
       "      <td>1414.0</td>\n",
       "      <td>634.0</td>\n",
       "      <td>2.8203</td>\n",
       "      <td>NEAR BAY</td>\n",
       "    </tr>\n",
       "    <tr>\n",
       "      <th>10555</th>\n",
       "      <td>-117.71</td>\n",
       "      <td>33.63</td>\n",
       "      <td>16.0</td>\n",
       "      <td>2497.0</td>\n",
       "      <td>500.0</td>\n",
       "      <td>1357.0</td>\n",
       "      <td>456.0</td>\n",
       "      <td>4.5909</td>\n",
       "      <td>&lt;1H OCEAN</td>\n",
       "    </tr>\n",
       "    <tr>\n",
       "      <th>17456</th>\n",
       "      <td>-120.43</td>\n",
       "      <td>34.69</td>\n",
       "      <td>33.0</td>\n",
       "      <td>2054.0</td>\n",
       "      <td>373.0</td>\n",
       "      <td>1067.0</td>\n",
       "      <td>358.0</td>\n",
       "      <td>3.6023</td>\n",
       "      <td>NEAR OCEAN</td>\n",
       "    </tr>\n",
       "    <tr>\n",
       "      <th>20617</th>\n",
       "      <td>-121.53</td>\n",
       "      <td>39.06</td>\n",
       "      <td>20.0</td>\n",
       "      <td>561.0</td>\n",
       "      <td>109.0</td>\n",
       "      <td>308.0</td>\n",
       "      <td>114.0</td>\n",
       "      <td>3.3021</td>\n",
       "      <td>INLAND</td>\n",
       "    </tr>\n",
       "  </tbody>\n",
       "</table>\n",
       "</div>"
      ],
      "text/plain": [
       "       longitude  latitude  housing_median_age  total_rooms  total_bedrooms  \\\n",
       "6906     -118.13     34.04                42.0       2205.0           451.0   \n",
       "767      -122.09     37.65                27.0       2630.0           722.0   \n",
       "10555    -117.71     33.63                16.0       2497.0           500.0   \n",
       "17456    -120.43     34.69                33.0       2054.0           373.0   \n",
       "20617    -121.53     39.06                20.0        561.0           109.0   \n",
       "\n",
       "       population  households  median_income ocean_proximity  \n",
       "6906       1392.0       423.0         4.3646       <1H OCEAN  \n",
       "767        1414.0       634.0         2.8203        NEAR BAY  \n",
       "10555      1357.0       456.0         4.5909       <1H OCEAN  \n",
       "17456      1067.0       358.0         3.6023      NEAR OCEAN  \n",
       "20617       308.0       114.0         3.3021          INLAND  "
      ]
     },
     "execution_count": 10,
     "metadata": {},
     "output_type": "execute_result"
    }
   ],
   "source": [
    "data_test_new = test_set.drop(\"median_house_value\", axis=1)\n",
    "data_test_labels = test_set[\"median_house_value\"].copy()\n",
    "test_labels = data_test_labels.copy()\n",
    "data_test_new.head()"
   ]
  },
  {
   "cell_type": "code",
   "execution_count": 11,
   "metadata": {},
   "outputs": [
    {
     "data": {
      "text/plain": [
       "1652     307000.0\n",
       "14652    166700.0\n",
       "3548     276600.0\n",
       "6730     500001.0\n",
       "18445    251800.0\n",
       "Name: median_house_value, dtype: float64"
      ]
     },
     "execution_count": 11,
     "metadata": {},
     "output_type": "execute_result"
    }
   ],
   "source": [
    "data_labels.head()"
   ]
  },
  {
   "cell_type": "code",
   "execution_count": 12,
   "metadata": {},
   "outputs": [
    {
     "data": {
      "text/html": [
       "<div>\n",
       "<style scoped>\n",
       "    .dataframe tbody tr th:only-of-type {\n",
       "        vertical-align: middle;\n",
       "    }\n",
       "\n",
       "    .dataframe tbody tr th {\n",
       "        vertical-align: top;\n",
       "    }\n",
       "\n",
       "    .dataframe thead th {\n",
       "        text-align: right;\n",
       "    }\n",
       "</style>\n",
       "<table border=\"1\" class=\"dataframe\">\n",
       "  <thead>\n",
       "    <tr style=\"text-align: right;\">\n",
       "      <th></th>\n",
       "      <th>longitude</th>\n",
       "      <th>latitude</th>\n",
       "      <th>housing_median_age</th>\n",
       "      <th>total_rooms</th>\n",
       "      <th>total_bedrooms</th>\n",
       "      <th>population</th>\n",
       "      <th>households</th>\n",
       "      <th>median_income</th>\n",
       "      <th>ocean_proximity</th>\n",
       "      <th>rooms_per_household</th>\n",
       "      <th>bedrooms_per_room</th>\n",
       "      <th>population_per_household</th>\n",
       "    </tr>\n",
       "  </thead>\n",
       "  <tbody>\n",
       "    <tr>\n",
       "      <th>19391</th>\n",
       "      <td>-120.85</td>\n",
       "      <td>37.78</td>\n",
       "      <td>25.0</td>\n",
       "      <td>421.0</td>\n",
       "      <td>NaN</td>\n",
       "      <td>303.0</td>\n",
       "      <td>106.0</td>\n",
       "      <td>2.2679</td>\n",
       "      <td>INLAND</td>\n",
       "      <td>3.971698</td>\n",
       "      <td>NaN</td>\n",
       "      <td>2.858491</td>\n",
       "    </tr>\n",
       "    <tr>\n",
       "      <th>11351</th>\n",
       "      <td>-117.91</td>\n",
       "      <td>33.76</td>\n",
       "      <td>20.0</td>\n",
       "      <td>4413.0</td>\n",
       "      <td>NaN</td>\n",
       "      <td>4818.0</td>\n",
       "      <td>1063.0</td>\n",
       "      <td>2.8594</td>\n",
       "      <td>&lt;1H OCEAN</td>\n",
       "      <td>4.151458</td>\n",
       "      <td>NaN</td>\n",
       "      <td>4.532455</td>\n",
       "    </tr>\n",
       "    <tr>\n",
       "      <th>9942</th>\n",
       "      <td>-122.23</td>\n",
       "      <td>38.17</td>\n",
       "      <td>45.0</td>\n",
       "      <td>350.0</td>\n",
       "      <td>NaN</td>\n",
       "      <td>225.0</td>\n",
       "      <td>72.0</td>\n",
       "      <td>1.8942</td>\n",
       "      <td>NEAR BAY</td>\n",
       "      <td>4.861111</td>\n",
       "      <td>NaN</td>\n",
       "      <td>3.125000</td>\n",
       "    </tr>\n",
       "    <tr>\n",
       "      <th>16038</th>\n",
       "      <td>-122.46</td>\n",
       "      <td>37.72</td>\n",
       "      <td>39.0</td>\n",
       "      <td>2254.0</td>\n",
       "      <td>NaN</td>\n",
       "      <td>1388.0</td>\n",
       "      <td>404.0</td>\n",
       "      <td>2.9688</td>\n",
       "      <td>NEAR OCEAN</td>\n",
       "      <td>5.579208</td>\n",
       "      <td>NaN</td>\n",
       "      <td>3.435644</td>\n",
       "    </tr>\n",
       "    <tr>\n",
       "      <th>13015</th>\n",
       "      <td>-121.19</td>\n",
       "      <td>38.71</td>\n",
       "      <td>11.0</td>\n",
       "      <td>4415.0</td>\n",
       "      <td>NaN</td>\n",
       "      <td>1520.0</td>\n",
       "      <td>627.0</td>\n",
       "      <td>3.2321</td>\n",
       "      <td>INLAND</td>\n",
       "      <td>7.041467</td>\n",
       "      <td>NaN</td>\n",
       "      <td>2.424242</td>\n",
       "    </tr>\n",
       "  </tbody>\n",
       "</table>\n",
       "</div>"
      ],
      "text/plain": [
       "       longitude  latitude  housing_median_age  total_rooms  total_bedrooms  \\\n",
       "19391    -120.85     37.78                25.0        421.0             NaN   \n",
       "11351    -117.91     33.76                20.0       4413.0             NaN   \n",
       "9942     -122.23     38.17                45.0        350.0             NaN   \n",
       "16038    -122.46     37.72                39.0       2254.0             NaN   \n",
       "13015    -121.19     38.71                11.0       4415.0             NaN   \n",
       "\n",
       "       population  households  median_income ocean_proximity  \\\n",
       "19391       303.0       106.0         2.2679          INLAND   \n",
       "11351      4818.0      1063.0         2.8594       <1H OCEAN   \n",
       "9942        225.0        72.0         1.8942        NEAR BAY   \n",
       "16038      1388.0       404.0         2.9688      NEAR OCEAN   \n",
       "13015      1520.0       627.0         3.2321          INLAND   \n",
       "\n",
       "       rooms_per_household  bedrooms_per_room  population_per_household  \n",
       "19391             3.971698                NaN                  2.858491  \n",
       "11351             4.151458                NaN                  4.532455  \n",
       "9942              4.861111                NaN                  3.125000  \n",
       "16038             5.579208                NaN                  3.435644  \n",
       "13015             7.041467                NaN                  2.424242  "
      ]
     },
     "execution_count": 12,
     "metadata": {},
     "output_type": "execute_result"
    }
   ],
   "source": [
    "sample_incomplete_rows = data_new[data_new.isnull().any(axis=1)].head()\n",
    "sample_incomplete_rows"
   ]
  },
  {
   "cell_type": "code",
   "execution_count": 13,
   "metadata": {},
   "outputs": [
    {
     "data": {
      "text/html": [
       "<div>\n",
       "<style scoped>\n",
       "    .dataframe tbody tr th:only-of-type {\n",
       "        vertical-align: middle;\n",
       "    }\n",
       "\n",
       "    .dataframe tbody tr th {\n",
       "        vertical-align: top;\n",
       "    }\n",
       "\n",
       "    .dataframe thead th {\n",
       "        text-align: right;\n",
       "    }\n",
       "</style>\n",
       "<table border=\"1\" class=\"dataframe\">\n",
       "  <thead>\n",
       "    <tr style=\"text-align: right;\">\n",
       "      <th></th>\n",
       "      <th>longitude</th>\n",
       "      <th>latitude</th>\n",
       "      <th>housing_median_age</th>\n",
       "      <th>total_rooms</th>\n",
       "      <th>total_bedrooms</th>\n",
       "      <th>population</th>\n",
       "      <th>households</th>\n",
       "      <th>median_income</th>\n",
       "      <th>median_house_value</th>\n",
       "      <th>ocean_proximity</th>\n",
       "    </tr>\n",
       "  </thead>\n",
       "  <tbody>\n",
       "    <tr>\n",
       "      <th>7168</th>\n",
       "      <td>-118.17</td>\n",
       "      <td>34.06</td>\n",
       "      <td>43.0</td>\n",
       "      <td>464.0</td>\n",
       "      <td>NaN</td>\n",
       "      <td>416.0</td>\n",
       "      <td>120.0</td>\n",
       "      <td>2.4750</td>\n",
       "      <td>142600.0</td>\n",
       "      <td>&lt;1H OCEAN</td>\n",
       "    </tr>\n",
       "    <tr>\n",
       "      <th>2412</th>\n",
       "      <td>-119.45</td>\n",
       "      <td>36.61</td>\n",
       "      <td>24.0</td>\n",
       "      <td>1302.0</td>\n",
       "      <td>NaN</td>\n",
       "      <td>693.0</td>\n",
       "      <td>243.0</td>\n",
       "      <td>3.7917</td>\n",
       "      <td>90500.0</td>\n",
       "      <td>INLAND</td>\n",
       "    </tr>\n",
       "    <tr>\n",
       "      <th>11512</th>\n",
       "      <td>-118.10</td>\n",
       "      <td>33.74</td>\n",
       "      <td>32.0</td>\n",
       "      <td>2035.0</td>\n",
       "      <td>NaN</td>\n",
       "      <td>934.0</td>\n",
       "      <td>512.0</td>\n",
       "      <td>4.2287</td>\n",
       "      <td>500001.0</td>\n",
       "      <td>NEAR OCEAN</td>\n",
       "    </tr>\n",
       "    <tr>\n",
       "      <th>14015</th>\n",
       "      <td>-117.17</td>\n",
       "      <td>32.75</td>\n",
       "      <td>52.0</td>\n",
       "      <td>1052.0</td>\n",
       "      <td>NaN</td>\n",
       "      <td>381.0</td>\n",
       "      <td>201.0</td>\n",
       "      <td>3.0726</td>\n",
       "      <td>289600.0</td>\n",
       "      <td>NEAR OCEAN</td>\n",
       "    </tr>\n",
       "    <tr>\n",
       "      <th>3376</th>\n",
       "      <td>-118.28</td>\n",
       "      <td>34.25</td>\n",
       "      <td>29.0</td>\n",
       "      <td>2559.0</td>\n",
       "      <td>NaN</td>\n",
       "      <td>1886.0</td>\n",
       "      <td>769.0</td>\n",
       "      <td>2.6036</td>\n",
       "      <td>162100.0</td>\n",
       "      <td>&lt;1H OCEAN</td>\n",
       "    </tr>\n",
       "  </tbody>\n",
       "</table>\n",
       "</div>"
      ],
      "text/plain": [
       "       longitude  latitude  housing_median_age  total_rooms  total_bedrooms  \\\n",
       "7168     -118.17     34.06                43.0        464.0             NaN   \n",
       "2412     -119.45     36.61                24.0       1302.0             NaN   \n",
       "11512    -118.10     33.74                32.0       2035.0             NaN   \n",
       "14015    -117.17     32.75                52.0       1052.0             NaN   \n",
       "3376     -118.28     34.25                29.0       2559.0             NaN   \n",
       "\n",
       "       population  households  median_income  median_house_value  \\\n",
       "7168        416.0       120.0         2.4750            142600.0   \n",
       "2412        693.0       243.0         3.7917             90500.0   \n",
       "11512       934.0       512.0         4.2287            500001.0   \n",
       "14015       381.0       201.0         3.0726            289600.0   \n",
       "3376       1886.0       769.0         2.6036            162100.0   \n",
       "\n",
       "      ocean_proximity  \n",
       "7168        <1H OCEAN  \n",
       "2412           INLAND  \n",
       "11512      NEAR OCEAN  \n",
       "14015      NEAR OCEAN  \n",
       "3376        <1H OCEAN  "
      ]
     },
     "execution_count": 13,
     "metadata": {},
     "output_type": "execute_result"
    }
   ],
   "source": [
    "sample_test_incomplete_rows = test_set[test_set.isnull().any(axis=1)].head()\n",
    "sample_test_incomplete_rows"
   ]
  },
  {
   "cell_type": "code",
   "execution_count": 14,
   "metadata": {},
   "outputs": [
    {
     "data": {
      "text/html": [
       "<div>\n",
       "<style scoped>\n",
       "    .dataframe tbody tr th:only-of-type {\n",
       "        vertical-align: middle;\n",
       "    }\n",
       "\n",
       "    .dataframe tbody tr th {\n",
       "        vertical-align: top;\n",
       "    }\n",
       "\n",
       "    .dataframe thead th {\n",
       "        text-align: right;\n",
       "    }\n",
       "</style>\n",
       "<table border=\"1\" class=\"dataframe\">\n",
       "  <thead>\n",
       "    <tr style=\"text-align: right;\">\n",
       "      <th></th>\n",
       "      <th>longitude</th>\n",
       "      <th>latitude</th>\n",
       "      <th>housing_median_age</th>\n",
       "      <th>total_rooms</th>\n",
       "      <th>total_bedrooms</th>\n",
       "      <th>population</th>\n",
       "      <th>households</th>\n",
       "      <th>median_income</th>\n",
       "      <th>median_house_value</th>\n",
       "      <th>ocean_proximity</th>\n",
       "    </tr>\n",
       "  </thead>\n",
       "  <tbody>\n",
       "  </tbody>\n",
       "</table>\n",
       "</div>"
      ],
      "text/plain": [
       "Empty DataFrame\n",
       "Columns: [longitude, latitude, housing_median_age, total_rooms, total_bedrooms, population, households, median_income, median_house_value, ocean_proximity]\n",
       "Index: []"
      ]
     },
     "execution_count": 14,
     "metadata": {},
     "output_type": "execute_result"
    }
   ],
   "source": [
    "sample_incomplete_rows.dropna(subset=[\"total_bedrooms\"]) # drop the row corresponding to \"total_bedrooms\" NaN\n",
    "sample_test_incomplete_rows.dropna(subset=[\"total_bedrooms\"]) "
   ]
  },
  {
   "cell_type": "code",
   "execution_count": 15,
   "metadata": {},
   "outputs": [
    {
     "data": {
      "text/html": [
       "<div>\n",
       "<style scoped>\n",
       "    .dataframe tbody tr th:only-of-type {\n",
       "        vertical-align: middle;\n",
       "    }\n",
       "\n",
       "    .dataframe tbody tr th {\n",
       "        vertical-align: top;\n",
       "    }\n",
       "\n",
       "    .dataframe thead th {\n",
       "        text-align: right;\n",
       "    }\n",
       "</style>\n",
       "<table border=\"1\" class=\"dataframe\">\n",
       "  <thead>\n",
       "    <tr style=\"text-align: right;\">\n",
       "      <th></th>\n",
       "      <th>longitude</th>\n",
       "      <th>latitude</th>\n",
       "      <th>housing_median_age</th>\n",
       "      <th>total_rooms</th>\n",
       "      <th>population</th>\n",
       "      <th>households</th>\n",
       "      <th>median_income</th>\n",
       "      <th>median_house_value</th>\n",
       "      <th>ocean_proximity</th>\n",
       "    </tr>\n",
       "  </thead>\n",
       "  <tbody>\n",
       "    <tr>\n",
       "      <th>7168</th>\n",
       "      <td>-118.17</td>\n",
       "      <td>34.06</td>\n",
       "      <td>43.0</td>\n",
       "      <td>464.0</td>\n",
       "      <td>416.0</td>\n",
       "      <td>120.0</td>\n",
       "      <td>2.4750</td>\n",
       "      <td>142600.0</td>\n",
       "      <td>&lt;1H OCEAN</td>\n",
       "    </tr>\n",
       "    <tr>\n",
       "      <th>2412</th>\n",
       "      <td>-119.45</td>\n",
       "      <td>36.61</td>\n",
       "      <td>24.0</td>\n",
       "      <td>1302.0</td>\n",
       "      <td>693.0</td>\n",
       "      <td>243.0</td>\n",
       "      <td>3.7917</td>\n",
       "      <td>90500.0</td>\n",
       "      <td>INLAND</td>\n",
       "    </tr>\n",
       "    <tr>\n",
       "      <th>11512</th>\n",
       "      <td>-118.10</td>\n",
       "      <td>33.74</td>\n",
       "      <td>32.0</td>\n",
       "      <td>2035.0</td>\n",
       "      <td>934.0</td>\n",
       "      <td>512.0</td>\n",
       "      <td>4.2287</td>\n",
       "      <td>500001.0</td>\n",
       "      <td>NEAR OCEAN</td>\n",
       "    </tr>\n",
       "    <tr>\n",
       "      <th>14015</th>\n",
       "      <td>-117.17</td>\n",
       "      <td>32.75</td>\n",
       "      <td>52.0</td>\n",
       "      <td>1052.0</td>\n",
       "      <td>381.0</td>\n",
       "      <td>201.0</td>\n",
       "      <td>3.0726</td>\n",
       "      <td>289600.0</td>\n",
       "      <td>NEAR OCEAN</td>\n",
       "    </tr>\n",
       "    <tr>\n",
       "      <th>3376</th>\n",
       "      <td>-118.28</td>\n",
       "      <td>34.25</td>\n",
       "      <td>29.0</td>\n",
       "      <td>2559.0</td>\n",
       "      <td>1886.0</td>\n",
       "      <td>769.0</td>\n",
       "      <td>2.6036</td>\n",
       "      <td>162100.0</td>\n",
       "      <td>&lt;1H OCEAN</td>\n",
       "    </tr>\n",
       "  </tbody>\n",
       "</table>\n",
       "</div>"
      ],
      "text/plain": [
       "       longitude  latitude  housing_median_age  total_rooms  population  \\\n",
       "7168     -118.17     34.06                43.0        464.0       416.0   \n",
       "2412     -119.45     36.61                24.0       1302.0       693.0   \n",
       "11512    -118.10     33.74                32.0       2035.0       934.0   \n",
       "14015    -117.17     32.75                52.0       1052.0       381.0   \n",
       "3376     -118.28     34.25                29.0       2559.0      1886.0   \n",
       "\n",
       "       households  median_income  median_house_value ocean_proximity  \n",
       "7168        120.0         2.4750            142600.0       <1H OCEAN  \n",
       "2412        243.0         3.7917             90500.0          INLAND  \n",
       "11512       512.0         4.2287            500001.0      NEAR OCEAN  \n",
       "14015       201.0         3.0726            289600.0      NEAR OCEAN  \n",
       "3376        769.0         2.6036            162100.0       <1H OCEAN  "
      ]
     },
     "execution_count": 15,
     "metadata": {},
     "output_type": "execute_result"
    }
   ],
   "source": [
    "sample_incomplete_rows.drop(\"total_bedrooms\", axis=1)       # drop the entire column \"total_bedrooms\"\n",
    "sample_test_incomplete_rows.drop(\"total_bedrooms\", axis=1) "
   ]
  },
  {
   "cell_type": "markdown",
   "metadata": {},
   "source": [
    "# Filling missing Data\n",
    "Filling missing data with median value"
   ]
  },
  {
   "cell_type": "code",
   "execution_count": 16,
   "metadata": {},
   "outputs": [
    {
     "name": "stdout",
     "output_type": "stream",
     "text": [
      "       longitude  latitude  housing_median_age  total_rooms  total_bedrooms  \\\n",
      "19391    -120.85     37.78                25.0        421.0           437.0   \n",
      "11351    -117.91     33.76                20.0       4413.0           437.0   \n",
      "9942     -122.23     38.17                45.0        350.0           437.0   \n",
      "16038    -122.46     37.72                39.0       2254.0           437.0   \n",
      "13015    -121.19     38.71                11.0       4415.0           437.0   \n",
      "\n",
      "       population  households  median_income ocean_proximity  \\\n",
      "19391       303.0       106.0         2.2679          INLAND   \n",
      "11351      4818.0      1063.0         2.8594       <1H OCEAN   \n",
      "9942        225.0        72.0         1.8942        NEAR BAY   \n",
      "16038      1388.0       404.0         2.9688      NEAR OCEAN   \n",
      "13015      1520.0       627.0         3.2321          INLAND   \n",
      "\n",
      "       rooms_per_household  bedrooms_per_room  population_per_household  \n",
      "19391             3.971698                NaN                  2.858491  \n",
      "11351             4.151458                NaN                  4.532455  \n",
      "9942              4.861111                NaN                  3.125000  \n",
      "16038             5.579208                NaN                  3.435644  \n",
      "13015             7.041467                NaN                  2.424242  \n"
     ]
    }
   ],
   "source": [
    "median = data_new[\"total_bedrooms\"].median()\n",
    "sample_incomplete_rows[\"total_bedrooms\"].fillna(median, inplace=True) # option 3\n",
    "print(sample_incomplete_rows.head())"
   ]
  },
  {
   "cell_type": "code",
   "execution_count": 17,
   "metadata": {},
   "outputs": [
    {
     "name": "stdout",
     "output_type": "stream",
     "text": [
      "       longitude  latitude  housing_median_age  total_rooms  total_bedrooms  \\\n",
      "7168     -118.17     34.06                43.0        464.0           426.0   \n",
      "2412     -119.45     36.61                24.0       1302.0           426.0   \n",
      "11512    -118.10     33.74                32.0       2035.0           426.0   \n",
      "14015    -117.17     32.75                52.0       1052.0           426.0   \n",
      "3376     -118.28     34.25                29.0       2559.0           426.0   \n",
      "\n",
      "       population  households  median_income  median_house_value  \\\n",
      "7168        416.0       120.0         2.4750            142600.0   \n",
      "2412        693.0       243.0         3.7917             90500.0   \n",
      "11512       934.0       512.0         4.2287            500001.0   \n",
      "14015       381.0       201.0         3.0726            289600.0   \n",
      "3376       1886.0       769.0         2.6036            162100.0   \n",
      "\n",
      "      ocean_proximity  \n",
      "7168        <1H OCEAN  \n",
      "2412           INLAND  \n",
      "11512      NEAR OCEAN  \n",
      "14015      NEAR OCEAN  \n",
      "3376        <1H OCEAN  \n"
     ]
    }
   ],
   "source": [
    "test_median = data_test_new[\"total_bedrooms\"].median()\n",
    "sample_test_incomplete_rows[\"total_bedrooms\"].fillna(test_median, inplace=True)\n",
    "print(sample_test_incomplete_rows.head())"
   ]
  },
  {
   "cell_type": "code",
   "execution_count": 18,
   "metadata": {},
   "outputs": [
    {
     "data": {
      "text/plain": [
       "array([ -1.18500000e+02,   3.42600000e+01,   2.90000000e+01,\n",
       "         2.14200000e+03,   4.37000000e+02,   1.17200000e+03,\n",
       "         4.11000000e+02,   3.52940000e+00,   5.23325859e+00,\n",
       "         2.03193033e-01,   2.81846283e+00])"
      ]
     },
     "execution_count": 18,
     "metadata": {},
     "output_type": "execute_result"
    }
   ],
   "source": [
    "imputer = Imputer(strategy=\"median\")\n",
    "data_num = data_new.drop('ocean_proximity', axis=1)\n",
    "data_num[\"rooms_per_household\"] =data_num[\"total_rooms\"]/data_num[\"households\"]\n",
    "data_num[\"bedrooms_per_room\"] = data_num[\"total_bedrooms\"]/data_num[\"total_rooms\"]\n",
    "data_num[\"population_per_household\"]=data_num[\"population\"]/data_num[\"households\"]\n",
    "imputer.fit(data_num)\n",
    "data_num.median().values"
   ]
  },
  {
   "cell_type": "code",
   "execution_count": 19,
   "metadata": {},
   "outputs": [
    {
     "data": {
      "text/plain": [
       "array([ -1.18480000e+02,   3.42500000e+01,   2.90000000e+01,\n",
       "         2.07900000e+03,   4.26000000e+02,   1.14650000e+03,\n",
       "         4.01000000e+02,   3.56540000e+00,   5.22037085e+00,\n",
       "         2.03020895e-01,   2.81766331e+00])"
      ]
     },
     "execution_count": 19,
     "metadata": {},
     "output_type": "execute_result"
    }
   ],
   "source": [
    "imputer_test = Imputer(strategy=\"median\")\n",
    "data_test_num = data_test_new.drop('ocean_proximity', axis=1)\n",
    "data_test_num[\"rooms_per_household\"] =data_test_num[\"total_rooms\"]/data_test_num[\"households\"]\n",
    "data_test_num[\"bedrooms_per_room\"] = data_test_num[\"total_bedrooms\"]/data_test_num[\"total_rooms\"]\n",
    "data_test_num[\"population_per_household\"]=data_test_num[\"population\"]/data_test_num[\"households\"]\n",
    "imputer_test.fit(data_test_num)\n",
    "data_test_num.median().values"
   ]
  },
  {
   "cell_type": "code",
   "execution_count": 20,
   "metadata": {},
   "outputs": [
    {
     "data": {
      "text/html": [
       "<div>\n",
       "<style scoped>\n",
       "    .dataframe tbody tr th:only-of-type {\n",
       "        vertical-align: middle;\n",
       "    }\n",
       "\n",
       "    .dataframe tbody tr th {\n",
       "        vertical-align: top;\n",
       "    }\n",
       "\n",
       "    .dataframe thead th {\n",
       "        text-align: right;\n",
       "    }\n",
       "</style>\n",
       "<table border=\"1\" class=\"dataframe\">\n",
       "  <thead>\n",
       "    <tr style=\"text-align: right;\">\n",
       "      <th></th>\n",
       "      <th>longitude</th>\n",
       "      <th>latitude</th>\n",
       "      <th>housing_median_age</th>\n",
       "      <th>total_rooms</th>\n",
       "      <th>total_bedrooms</th>\n",
       "      <th>population</th>\n",
       "      <th>households</th>\n",
       "      <th>median_income</th>\n",
       "      <th>rooms_per_household</th>\n",
       "      <th>bedrooms_per_room</th>\n",
       "      <th>population_per_household</th>\n",
       "    </tr>\n",
       "  </thead>\n",
       "  <tbody>\n",
       "    <tr>\n",
       "      <th>1652</th>\n",
       "      <td>-121.97</td>\n",
       "      <td>37.93</td>\n",
       "      <td>4.0</td>\n",
       "      <td>3241.0</td>\n",
       "      <td>464.0</td>\n",
       "      <td>1552.0</td>\n",
       "      <td>494.0</td>\n",
       "      <td>6.6134</td>\n",
       "      <td>6.560729</td>\n",
       "      <td>0.143166</td>\n",
       "      <td>3.141700</td>\n",
       "    </tr>\n",
       "    <tr>\n",
       "      <th>14652</th>\n",
       "      <td>-117.15</td>\n",
       "      <td>32.80</td>\n",
       "      <td>41.0</td>\n",
       "      <td>1413.0</td>\n",
       "      <td>261.0</td>\n",
       "      <td>1070.0</td>\n",
       "      <td>259.0</td>\n",
       "      <td>2.3578</td>\n",
       "      <td>5.455598</td>\n",
       "      <td>0.184713</td>\n",
       "      <td>4.131274</td>\n",
       "    </tr>\n",
       "    <tr>\n",
       "      <th>3548</th>\n",
       "      <td>-118.61</td>\n",
       "      <td>34.25</td>\n",
       "      <td>16.0</td>\n",
       "      <td>8295.0</td>\n",
       "      <td>1506.0</td>\n",
       "      <td>3903.0</td>\n",
       "      <td>1451.0</td>\n",
       "      <td>5.5111</td>\n",
       "      <td>5.716747</td>\n",
       "      <td>0.181555</td>\n",
       "      <td>2.689869</td>\n",
       "    </tr>\n",
       "    <tr>\n",
       "      <th>6730</th>\n",
       "      <td>-118.14</td>\n",
       "      <td>34.11</td>\n",
       "      <td>52.0</td>\n",
       "      <td>2742.0</td>\n",
       "      <td>422.0</td>\n",
       "      <td>1153.0</td>\n",
       "      <td>414.0</td>\n",
       "      <td>8.1124</td>\n",
       "      <td>6.623188</td>\n",
       "      <td>0.153902</td>\n",
       "      <td>2.785024</td>\n",
       "    </tr>\n",
       "    <tr>\n",
       "      <th>18445</th>\n",
       "      <td>-121.81</td>\n",
       "      <td>37.25</td>\n",
       "      <td>25.0</td>\n",
       "      <td>4096.0</td>\n",
       "      <td>623.0</td>\n",
       "      <td>2128.0</td>\n",
       "      <td>618.0</td>\n",
       "      <td>6.2957</td>\n",
       "      <td>6.627832</td>\n",
       "      <td>0.152100</td>\n",
       "      <td>3.443366</td>\n",
       "    </tr>\n",
       "  </tbody>\n",
       "</table>\n",
       "</div>"
      ],
      "text/plain": [
       "       longitude  latitude  housing_median_age  total_rooms  total_bedrooms  \\\n",
       "1652     -121.97     37.93                 4.0       3241.0           464.0   \n",
       "14652    -117.15     32.80                41.0       1413.0           261.0   \n",
       "3548     -118.61     34.25                16.0       8295.0          1506.0   \n",
       "6730     -118.14     34.11                52.0       2742.0           422.0   \n",
       "18445    -121.81     37.25                25.0       4096.0           623.0   \n",
       "\n",
       "       population  households  median_income  rooms_per_household  \\\n",
       "1652       1552.0       494.0         6.6134             6.560729   \n",
       "14652      1070.0       259.0         2.3578             5.455598   \n",
       "3548       3903.0      1451.0         5.5111             5.716747   \n",
       "6730       1153.0       414.0         8.1124             6.623188   \n",
       "18445      2128.0       618.0         6.2957             6.627832   \n",
       "\n",
       "       bedrooms_per_room  population_per_household  \n",
       "1652            0.143166                  3.141700  \n",
       "14652           0.184713                  4.131274  \n",
       "3548            0.181555                  2.689869  \n",
       "6730            0.153902                  2.785024  \n",
       "18445           0.152100                  3.443366  "
      ]
     },
     "execution_count": 20,
     "metadata": {},
     "output_type": "execute_result"
    }
   ],
   "source": [
    "X = imputer.transform(data_num)\n",
    "housing_tr = pd.DataFrame(X, columns=data_num.columns, index = list(data_num.index.values))\n",
    "# housing_tr=housing_tr.drop(['longitude','latitude','total_rooms','housing_median_age','households','total_bedrooms','population'],axis=1)\n",
    "housing_tr.head()"
   ]
  },
  {
   "cell_type": "code",
   "execution_count": 21,
   "metadata": {},
   "outputs": [
    {
     "data": {
      "text/html": [
       "<div>\n",
       "<style scoped>\n",
       "    .dataframe tbody tr th:only-of-type {\n",
       "        vertical-align: middle;\n",
       "    }\n",
       "\n",
       "    .dataframe tbody tr th {\n",
       "        vertical-align: top;\n",
       "    }\n",
       "\n",
       "    .dataframe thead th {\n",
       "        text-align: right;\n",
       "    }\n",
       "</style>\n",
       "<table border=\"1\" class=\"dataframe\">\n",
       "  <thead>\n",
       "    <tr style=\"text-align: right;\">\n",
       "      <th></th>\n",
       "      <th>longitude</th>\n",
       "      <th>latitude</th>\n",
       "      <th>housing_median_age</th>\n",
       "      <th>total_rooms</th>\n",
       "      <th>total_bedrooms</th>\n",
       "      <th>population</th>\n",
       "      <th>households</th>\n",
       "      <th>median_income</th>\n",
       "      <th>rooms_per_household</th>\n",
       "      <th>bedrooms_per_room</th>\n",
       "      <th>population_per_household</th>\n",
       "    </tr>\n",
       "  </thead>\n",
       "  <tbody>\n",
       "    <tr>\n",
       "      <th>6906</th>\n",
       "      <td>-118.13</td>\n",
       "      <td>34.04</td>\n",
       "      <td>42.0</td>\n",
       "      <td>2205.0</td>\n",
       "      <td>451.0</td>\n",
       "      <td>1392.0</td>\n",
       "      <td>423.0</td>\n",
       "      <td>4.3646</td>\n",
       "      <td>5.212766</td>\n",
       "      <td>0.204535</td>\n",
       "      <td>3.290780</td>\n",
       "    </tr>\n",
       "    <tr>\n",
       "      <th>767</th>\n",
       "      <td>-122.09</td>\n",
       "      <td>37.65</td>\n",
       "      <td>27.0</td>\n",
       "      <td>2630.0</td>\n",
       "      <td>722.0</td>\n",
       "      <td>1414.0</td>\n",
       "      <td>634.0</td>\n",
       "      <td>2.8203</td>\n",
       "      <td>4.148265</td>\n",
       "      <td>0.274525</td>\n",
       "      <td>2.230284</td>\n",
       "    </tr>\n",
       "    <tr>\n",
       "      <th>10555</th>\n",
       "      <td>-117.71</td>\n",
       "      <td>33.63</td>\n",
       "      <td>16.0</td>\n",
       "      <td>2497.0</td>\n",
       "      <td>500.0</td>\n",
       "      <td>1357.0</td>\n",
       "      <td>456.0</td>\n",
       "      <td>4.5909</td>\n",
       "      <td>5.475877</td>\n",
       "      <td>0.200240</td>\n",
       "      <td>2.975877</td>\n",
       "    </tr>\n",
       "    <tr>\n",
       "      <th>17456</th>\n",
       "      <td>-120.43</td>\n",
       "      <td>34.69</td>\n",
       "      <td>33.0</td>\n",
       "      <td>2054.0</td>\n",
       "      <td>373.0</td>\n",
       "      <td>1067.0</td>\n",
       "      <td>358.0</td>\n",
       "      <td>3.6023</td>\n",
       "      <td>5.737430</td>\n",
       "      <td>0.181597</td>\n",
       "      <td>2.980447</td>\n",
       "    </tr>\n",
       "    <tr>\n",
       "      <th>20617</th>\n",
       "      <td>-121.53</td>\n",
       "      <td>39.06</td>\n",
       "      <td>20.0</td>\n",
       "      <td>561.0</td>\n",
       "      <td>109.0</td>\n",
       "      <td>308.0</td>\n",
       "      <td>114.0</td>\n",
       "      <td>3.3021</td>\n",
       "      <td>4.921053</td>\n",
       "      <td>0.194296</td>\n",
       "      <td>2.701754</td>\n",
       "    </tr>\n",
       "  </tbody>\n",
       "</table>\n",
       "</div>"
      ],
      "text/plain": [
       "       longitude  latitude  housing_median_age  total_rooms  total_bedrooms  \\\n",
       "6906     -118.13     34.04                42.0       2205.0           451.0   \n",
       "767      -122.09     37.65                27.0       2630.0           722.0   \n",
       "10555    -117.71     33.63                16.0       2497.0           500.0   \n",
       "17456    -120.43     34.69                33.0       2054.0           373.0   \n",
       "20617    -121.53     39.06                20.0        561.0           109.0   \n",
       "\n",
       "       population  households  median_income  rooms_per_household  \\\n",
       "6906       1392.0       423.0         4.3646             5.212766   \n",
       "767        1414.0       634.0         2.8203             4.148265   \n",
       "10555      1357.0       456.0         4.5909             5.475877   \n",
       "17456      1067.0       358.0         3.6023             5.737430   \n",
       "20617       308.0       114.0         3.3021             4.921053   \n",
       "\n",
       "       bedrooms_per_room  population_per_household  \n",
       "6906            0.204535                  3.290780  \n",
       "767             0.274525                  2.230284  \n",
       "10555           0.200240                  2.975877  \n",
       "17456           0.181597                  2.980447  \n",
       "20617           0.194296                  2.701754  "
      ]
     },
     "execution_count": 21,
     "metadata": {},
     "output_type": "execute_result"
    }
   ],
   "source": [
    "X_test = imputer_test.transform(data_test_num)\n",
    "housing_te = pd.DataFrame(X_test, columns=data_test_num.columns, index = list(data_test_num.index.values))\n",
    "# housing_tr=housing_tr.drop(['longitude','latitude','total_rooms','housing_median_age','households','total_bedrooms','population'],axis=1)\n",
    "housing_te.head()"
   ]
  },
  {
   "cell_type": "markdown",
   "metadata": {},
   "source": [
    "# Handling Text attributes\n",
    "Here we will use one hot encoding to handle text attributes"
   ]
  },
  {
   "cell_type": "code",
   "execution_count": 22,
   "metadata": {},
   "outputs": [
    {
     "data": {
      "text/plain": [
       "1652         INLAND\n",
       "14652    NEAR OCEAN\n",
       "3548      <1H OCEAN\n",
       "6730      <1H OCEAN\n",
       "18445     <1H OCEAN\n",
       "10052        INLAND\n",
       "10536     <1H OCEAN\n",
       "8976      <1H OCEAN\n",
       "9999         INLAND\n",
       "5218      <1H OCEAN\n",
       "Name: ocean_proximity, dtype: object"
      ]
     },
     "execution_count": 22,
     "metadata": {},
     "output_type": "execute_result"
    }
   ],
   "source": [
    "housing_category = data_new['ocean_proximity']\n",
    "housing_category.head(10)"
   ]
  },
  {
   "cell_type": "code",
   "execution_count": 23,
   "metadata": {},
   "outputs": [
    {
     "data": {
      "text/plain": [
       "6906      <1H OCEAN\n",
       "767        NEAR BAY\n",
       "10555     <1H OCEAN\n",
       "17456    NEAR OCEAN\n",
       "20617        INLAND\n",
       "7729      <1H OCEAN\n",
       "18345      NEAR BAY\n",
       "19668        INLAND\n",
       "11913        INLAND\n",
       "7653      <1H OCEAN\n",
       "Name: ocean_proximity, dtype: object"
      ]
     },
     "execution_count": 23,
     "metadata": {},
     "output_type": "execute_result"
    }
   ],
   "source": [
    "housing_test_category = data_test_new['ocean_proximity']\n",
    "housing_test_category.head(10)"
   ]
  },
  {
   "cell_type": "code",
   "execution_count": 24,
   "metadata": {},
   "outputs": [
    {
     "data": {
      "text/plain": [
       "<1H OCEAN     7299\n",
       "INLAND        5259\n",
       "NEAR OCEAN    2119\n",
       "NEAR BAY      1830\n",
       "ISLAND           5\n",
       "Name: ocean_proximity, dtype: int64"
      ]
     },
     "execution_count": 24,
     "metadata": {},
     "output_type": "execute_result"
    }
   ],
   "source": [
    "housing_category.value_counts()"
   ]
  },
  {
   "cell_type": "code",
   "execution_count": 25,
   "metadata": {},
   "outputs": [
    {
     "data": {
      "text/plain": [
       "<1H OCEAN     1837\n",
       "INLAND        1292\n",
       "NEAR OCEAN     539\n",
       "NEAR BAY       460\n",
       "Name: ocean_proximity, dtype: int64"
      ]
     },
     "execution_count": 25,
     "metadata": {},
     "output_type": "execute_result"
    }
   ],
   "source": [
    "housing_test_category.value_counts()"
   ]
  },
  {
   "cell_type": "code",
   "execution_count": 26,
   "metadata": {},
   "outputs": [
    {
     "data": {
      "text/plain": [
       "array([0, 1, 2, 2, 2, 0, 2, 2, 0, 2])"
      ]
     },
     "execution_count": 26,
     "metadata": {},
     "output_type": "execute_result"
    }
   ],
   "source": [
    "housing_category_encoded, housing_categories = housing_category.factorize()\n",
    "housing_category_encoded[:10]"
   ]
  },
  {
   "cell_type": "code",
   "execution_count": 27,
   "metadata": {},
   "outputs": [
    {
     "data": {
      "text/plain": [
       "array([0, 1, 0, 2, 3, 0, 1, 3, 3, 0])"
      ]
     },
     "execution_count": 27,
     "metadata": {},
     "output_type": "execute_result"
    }
   ],
   "source": [
    "housing_test_category_encoded, housing_test_categories = housing_test_category.factorize()\n",
    "housing_test_category_encoded[:10]"
   ]
  },
  {
   "cell_type": "code",
   "execution_count": 28,
   "metadata": {},
   "outputs": [
    {
     "data": {
      "text/plain": [
       "Index([u'INLAND', u'NEAR OCEAN', u'<1H OCEAN', u'NEAR BAY', u'ISLAND'], dtype='object')"
      ]
     },
     "execution_count": 28,
     "metadata": {},
     "output_type": "execute_result"
    }
   ],
   "source": [
    "housing_categories"
   ]
  },
  {
   "cell_type": "code",
   "execution_count": 29,
   "metadata": {},
   "outputs": [
    {
     "data": {
      "text/plain": [
       "Index([u'<1H OCEAN', u'NEAR BAY', u'NEAR OCEAN', u'INLAND'], dtype='object')"
      ]
     },
     "execution_count": 29,
     "metadata": {},
     "output_type": "execute_result"
    }
   ],
   "source": [
    "housing_test_categories"
   ]
  },
  {
   "cell_type": "code",
   "execution_count": 30,
   "metadata": {},
   "outputs": [
    {
     "data": {
      "text/plain": [
       "<16512x5 sparse matrix of type '<type 'numpy.float64'>'\n",
       "\twith 16512 stored elements in Compressed Sparse Row format>"
      ]
     },
     "execution_count": 30,
     "metadata": {},
     "output_type": "execute_result"
    }
   ],
   "source": [
    "encoder = OneHotEncoder()\n",
    "housing_cat_1hot = encoder.fit_transform(housing_category_encoded.reshape(-1,1))\n",
    "housing_cat_1hot"
   ]
  },
  {
   "cell_type": "code",
   "execution_count": 31,
   "metadata": {},
   "outputs": [
    {
     "data": {
      "text/plain": [
       "<4128x4 sparse matrix of type '<type 'numpy.float64'>'\n",
       "\twith 4128 stored elements in Compressed Sparse Row format>"
      ]
     },
     "execution_count": 31,
     "metadata": {},
     "output_type": "execute_result"
    }
   ],
   "source": [
    "encoder_test = OneHotEncoder()\n",
    "housing_test_cat_1hot = encoder_test.fit_transform(housing_test_category_encoded.reshape(-1,1))\n",
    "housing_test_cat_1hot"
   ]
  },
  {
   "cell_type": "code",
   "execution_count": 32,
   "metadata": {},
   "outputs": [
    {
     "name": "stdout",
     "output_type": "stream",
     "text": [
      "   0_0  0_1  0_2  0_3  0_4  0_-1\n",
      "0    1    0    0    0    0     0\n",
      "1    0    1    0    0    0     0\n",
      "2    0    0    1    0    0     0\n",
      "3    0    0    1    0    0     0\n",
      "4    0    0    1    0    0     0\n",
      "<type 'numpy.ndarray'>\n",
      "(16512, 6)\n"
     ]
    }
   ],
   "source": [
    "encoder = ce.OneHotEncoder()\n",
    "housing_cat_reshaped = housing_category.values.reshape(-1, 1)\n",
    "encoder.fit(housing_cat_reshaped)\n",
    "X_cleaned = encoder.transform(housing_cat_reshaped)\n",
    "cat_data = X_cleaned.as_matrix()\n",
    "print(X_cleaned[0:5])\n",
    "print(type(cat_data))\n",
    "print(cat_data.shape)"
   ]
  },
  {
   "cell_type": "code",
   "execution_count": 33,
   "metadata": {},
   "outputs": [
    {
     "name": "stdout",
     "output_type": "stream",
     "text": [
      "   0_0  0_1  0_2  0_3  0_-1\n",
      "0    1    0    0    0     0\n",
      "1    0    1    0    0     0\n",
      "2    1    0    0    0     0\n",
      "3    0    0    1    0     0\n",
      "4    0    0    0    1     0\n",
      "<type 'numpy.ndarray'>\n",
      "(4128, 5)\n"
     ]
    }
   ],
   "source": [
    "encoder_test = ce.OneHotEncoder()\n",
    "housing_test_cat_reshaped = housing_test_category.values.reshape(-1, 1)\n",
    "encoder_test.fit(housing_test_cat_reshaped)\n",
    "X_test_cleaned = encoder_test.transform(housing_test_cat_reshaped)\n",
    "cat_test_data = X_test_cleaned.as_matrix()\n",
    "print(X_test_cleaned[0:5])\n",
    "print(type(cat_test_data))\n",
    "print(cat_test_data.shape)"
   ]
  },
  {
   "cell_type": "markdown",
   "metadata": {},
   "source": [
    "# Scaling"
   ]
  },
  {
   "cell_type": "code",
   "execution_count": 34,
   "metadata": {},
   "outputs": [
    {
     "data": {
      "text/plain": [
       "array([[-1.19783763,  1.0752015 , -1.95834565,  0.27745415, -0.17766033,\n",
       "         0.11332624, -0.0175929 ,  1.46558398,  0.433847  , -1.20951528,\n",
       "         0.00332191],\n",
       "       [ 1.20763751, -1.32643521,  0.98342699, -0.56637048, -0.6614458 ,\n",
       "        -0.32246216, -0.63212635, -0.7985996 ,  0.00826036, -0.49125556,\n",
       "         0.08864809],\n",
       "       [ 0.47900811, -0.64761002, -1.00425723,  2.61043537,  2.30561287,\n",
       "         2.23892482,  2.48499653,  0.87910744,  0.10882892, -0.54585364,\n",
       "        -0.03563733],\n",
       "       [ 0.71356689, -0.71315176,  1.85800804,  0.04711033, -0.27775387,\n",
       "        -0.24741976, -0.22679577,  2.26312397,  0.45790027, -1.02390574,\n",
       "        -0.02743257],\n",
       "       [-1.11798784,  0.75685589, -0.28869091,  0.67213142,  0.20126524,\n",
       "         0.63410241,  0.30667157,  1.29655232,  0.45968841, -1.05506926,\n",
       "         0.02933306]])"
      ]
     },
     "execution_count": 34,
     "metadata": {},
     "output_type": "execute_result"
    }
   ],
   "source": [
    "scaler = StandardScaler()\n",
    "scaler.fit(housing_tr)\n",
    "housing_data = scaler.transform(housing_tr)\n",
    "type(housing_data[:5])\n",
    "housing_data[:5]\n",
    "# housing_tr.head()"
   ]
  },
  {
   "cell_type": "code",
   "execution_count": 35,
   "metadata": {},
   "outputs": [
    {
     "data": {
      "text/plain": [
       "array([[ 0.71877386, -0.74275286,  1.05629158, -0.18472499, -0.18880412,\n",
       "        -0.02333557, -0.18795156,  0.22569089, -0.10263004, -0.1338598 ,\n",
       "         0.3081956 ],\n",
       "       [-1.25888561,  0.94786028, -0.13264128,  0.0048894 ,  0.45888556,\n",
       "        -0.0054836 ,  0.36447727, -0.55505658, -0.66105714,  1.09185528,\n",
       "        -0.62509508],\n",
       "       [ 0.92852562, -0.93476156, -1.00452538, -0.05444875, -0.07169417,\n",
       "        -0.05173643, -0.10155274,  0.34010076,  0.03539561, -0.20907492,\n",
       "         0.03106497],\n",
       "       [-0.42986674, -0.43834883,  0.34293186, -0.25209387, -0.37522403,\n",
       "        -0.28705787, -0.35813105, -0.159703  ,  0.17260381, -0.53557361,\n",
       "         0.03508657],\n",
       "       [-0.9792166 ,  1.60818286, -0.68747662, -0.91819806, -1.00618371,\n",
       "        -0.90295086, -0.9969587 , -0.31147429, -0.25566008, -0.31317795,\n",
       "        -0.21017706]])"
      ]
     },
     "execution_count": 35,
     "metadata": {},
     "output_type": "execute_result"
    }
   ],
   "source": [
    "scaler_test = StandardScaler()\n",
    "scaler.fit(housing_te)\n",
    "housing_test_data = scaler.transform(housing_te)\n",
    "type(housing_test_data[:5])\n",
    "housing_test_data[:5]\n",
    "# housing_tr.head()"
   ]
  },
  {
   "cell_type": "code",
   "execution_count": 36,
   "metadata": {},
   "outputs": [],
   "source": [
    "# full_data = np.append(housing_data, cat_data, axis = 1)\n",
    "# full_test_data = np.append(housing_test_data, cat_data, axis = 1)\n",
    "\n",
    "# print(full_data.shape)\n",
    "# print(full_data.shape)"
   ]
  },
  {
   "cell_type": "code",
   "execution_count": 37,
   "metadata": {},
   "outputs": [],
   "source": [
    "# train_data = full_data\n",
    "# train_label = data_labels.as_matrix()\n",
    "# print(train_data)\n",
    "# print(train_label)"
   ]
  },
  {
   "cell_type": "markdown",
   "metadata": {},
   "source": [
    "# Linear Regression - Closed Form"
   ]
  },
  {
   "cell_type": "code",
   "execution_count": 38,
   "metadata": {},
   "outputs": [],
   "source": [
    "def normal_equation(x,y):\n",
    "    z1 = np.dot(x.transpose(), x) \n",
    "    z = np.linalg.inv(z1)\n",
    "    z2 = np.dot(z, x.transpose())\n",
    "    theta = np.dot(z2, y)\n",
    "    return theta"
   ]
  },
  {
   "cell_type": "code",
   "execution_count": 39,
   "metadata": {},
   "outputs": [],
   "source": [
    "# np.insert(housing_data, 0, values=[1], axis=1)\n",
    "# np.insert(housing_test_data, 0, values=[1], axis=1)\n",
    "X = np.array(housing_data)\n",
    "Y = np.array(train_labels).flatten()\n",
    "X=np.insert(X, 0, values=1, axis=1)\n",
    "# print(X.shape)\n",
    "# print(Y.shape)"
   ]
  },
  {
   "cell_type": "markdown",
   "metadata": {},
   "source": [
    "## Training time - Linear Regression (Closed form)"
   ]
  },
  {
   "cell_type": "code",
   "execution_count": 40,
   "metadata": {},
   "outputs": [
    {
     "name": "stdout",
     "output_type": "stream",
     "text": [
      "0.0110681056976\n"
     ]
    }
   ],
   "source": [
    "start_time = time.time()\n",
    "theta=normal_equation(X, Y)\n",
    "end_time = time.time()\n",
    "training_time=end_time-start_time\n",
    "print(training_time)"
   ]
  },
  {
   "cell_type": "code",
   "execution_count": 41,
   "metadata": {},
   "outputs": [
    {
     "name": "stdout",
     "output_type": "stream",
     "text": [
      "[ 206122.00575339  -84222.60026029  -88758.88713304   14305.65885124\n",
      "    6714.96891896     801.57854858  -50866.69379915   48281.99091644\n",
      "   78678.20481076    7434.27559655   17751.85220122    1414.98842891]\n"
     ]
    }
   ],
   "source": [
    "print(theta)"
   ]
  },
  {
   "cell_type": "code",
   "execution_count": 42,
   "metadata": {},
   "outputs": [
    {
     "name": "stdout",
     "output_type": "stream",
     "text": [
      "(4128, 12)\n",
      "(4128,)\n"
     ]
    }
   ],
   "source": [
    "# np.insert(housing_data, 0, values=[1], axis=1)\n",
    "# np.insert(housing_test_data, 0, values=[1], axis=1)\n",
    "X_test = np.array(housing_test_data)\n",
    "Y_test = np.array(test_labels).flatten()\n",
    "X_test=np.insert(X_test, 0, values=1, axis=1)\n",
    "print(X_test.shape)\n",
    "print(Y_test.shape)\n",
    "theta_test=normal_equation(X_test, Y_test)"
   ]
  },
  {
   "cell_type": "code",
   "execution_count": 43,
   "metadata": {},
   "outputs": [
    {
     "name": "stdout",
     "output_type": "stream",
     "text": [
      "[ 209791.06153101  -81880.96636873  -87514.43100465   14566.95451174\n",
      "   -2711.80331779    6251.99889184  -24985.8351771    26101.17101475\n",
      "   84649.6850478    10599.60227529   21347.68441376  -13018.64620383]\n"
     ]
    }
   ],
   "source": [
    "print(theta_test)"
   ]
  },
  {
   "cell_type": "code",
   "execution_count": 44,
   "metadata": {
    "scrolled": true
   },
   "outputs": [],
   "source": [
    "# median = test_set[\"total_bedrooms\"].median()\n",
    "# data_num = test_set.drop(['ocean_proximity'], axis=1)\n",
    "# data_num[\"total_bedrooms\"].fillna(median, inplace=True) # option 3\n",
    "# test_data = data_num.drop(\"median_house_value\", axis=1) # drop labels for test set\n",
    "# test_labels = data_num[\"median_house_value\"].copy()\n",
    "# # test_data['intercept']=1\n",
    "# test_data.insert(0, 'intercept', value=1, allow_duplicates=True)\n",
    "# test_data.head()"
   ]
  },
  {
   "cell_type": "code",
   "execution_count": 45,
   "metadata": {},
   "outputs": [],
   "source": [
    "# scaler = StandardScaler()\n",
    "# scaler.fit(test_data)\n",
    "# test_data = scaler.transform(test_data)\n",
    "# type(test_data[:5])\n",
    "# test_data[:5]"
   ]
  },
  {
   "cell_type": "code",
   "execution_count": 46,
   "metadata": {},
   "outputs": [],
   "source": [
    "# X = np.array(housing_data)\n",
    "# X=np.insert(X, 0, values=1, axis=1)\n",
    "# Y = np.array(train_labels)\n",
    "# print(X.size)\n",
    "# # print(X[5])\n",
    "# # print(X[5].dot(theta))\n",
    "# # print(Y[5])\n",
    "# print(Y)\n",
    "# print(X)"
   ]
  },
  {
   "cell_type": "code",
   "execution_count": 47,
   "metadata": {},
   "outputs": [],
   "source": [
    "# X_test = np.array(housing_test_data)\n",
    "# X_test=np.insert(X, 0, values=1, axis=1)\n",
    "# Y = np.array(train_labels)\n",
    "# print(X.size)\n",
    "# # print(X[5])\n",
    "# # print(X[5].dot(theta))\n",
    "# # print(Y[5])\n",
    "# print(Y)\n",
    "# print(X)"
   ]
  },
  {
   "cell_type": "markdown",
   "metadata": {},
   "source": [
    "## Checking Model Fitting - Linear Regression - Closed Form"
   ]
  },
  {
   "cell_type": "code",
   "execution_count": 48,
   "metadata": {},
   "outputs": [],
   "source": [
    "predicted_labels=[]\n",
    "for i in range(Y.size):\n",
    "    predicted_labels.append(X[i].dot(theta))"
   ]
  },
  {
   "cell_type": "code",
   "execution_count": 49,
   "metadata": {},
   "outputs": [],
   "source": [
    "predicted_test_labels=[]\n",
    "for i in range(Y_test.size):\n",
    "    predicted_test_labels.append(X_test[i].dot(theta_test))"
   ]
  },
  {
   "cell_type": "markdown",
   "metadata": {},
   "source": [
    "## Mean Square Error - Linear Regression - Closed Form"
   ]
  },
  {
   "cell_type": "code",
   "execution_count": 50,
   "metadata": {},
   "outputs": [
    {
     "data": {
      "text/plain": [
       "4670950151.4614353"
      ]
     },
     "execution_count": 50,
     "metadata": {},
     "output_type": "execute_result"
    }
   ],
   "source": [
    "mean_squared_error(train_labels, predicted_labels)"
   ]
  },
  {
   "cell_type": "code",
   "execution_count": 51,
   "metadata": {},
   "outputs": [
    {
     "data": {
      "text/plain": [
       "4664049324.3327703"
      ]
     },
     "execution_count": 51,
     "metadata": {},
     "output_type": "execute_result"
    }
   ],
   "source": [
    "mean_squared_error(test_labels, predicted_test_labels)"
   ]
  },
  {
   "cell_type": "markdown",
   "metadata": {},
   "source": [
    "# Linear Regression- Gradient Desent"
   ]
  },
  {
   "cell_type": "code",
   "execution_count": 52,
   "metadata": {},
   "outputs": [],
   "source": [
    "# X_data=np.copy(X)\n",
    "# X_data=np.insert(X_data, 0, values=[1], axis=1)"
   ]
  },
  {
   "cell_type": "code",
   "execution_count": 53,
   "metadata": {},
   "outputs": [],
   "source": [
    "def gradient_descent_linear_regression(X_data,Y,learning_rate,number_iterations):\n",
    "    theta=np.zeros(X_data.shape[1])\n",
    "    for i in range(number_iterations):\n",
    "        z=np.dot(X_data,theta)\n",
    "        gradient=np.dot(X_data.T, (z - Y)) / Y.size\n",
    "        theta=theta-learning_rate*gradient\n",
    "    return theta"
   ]
  },
  {
   "cell_type": "markdown",
   "metadata": {},
   "source": [
    "## Training Time - Linear Regression (Newton's Method)"
   ]
  },
  {
   "cell_type": "code",
   "execution_count": 54,
   "metadata": {},
   "outputs": [
    {
     "name": "stdout",
     "output_type": "stream",
     "text": [
      "10.1384139061\n"
     ]
    }
   ],
   "source": [
    "# print(X_data.shape)\n",
    "learning_rate=0.1\n",
    "number_iterations=30000\n",
    "start_time = time.time()\n",
    "theta=gradient_descent_linear_regression(X,Y,learning_rate,number_iterations)\n",
    "end_time = time.time()\n",
    "training_time=end_time-start_time\n",
    "print(training_time)\n",
    "# print(theta)"
   ]
  },
  {
   "cell_type": "code",
   "execution_count": 55,
   "metadata": {},
   "outputs": [],
   "source": [
    "# print(X_data.shape)\n",
    "# learning_rate=0.1\n",
    "# number_iterations=300000\n",
    "# theta_test=gradient_descent_linear_regression(X_test,Y_test,learning_rate,number_iterations)\n",
    "# print(theta_test)"
   ]
  },
  {
   "cell_type": "code",
   "execution_count": 56,
   "metadata": {},
   "outputs": [],
   "source": [
    "# train_data_new=np.copy(train_data)\n",
    "# train_data_new=np.insert(train_data_new, 0, values=[1], axis=1);\n",
    "predicted_labels=[]\n",
    "for i in range(len(Y)):\n",
    "        predicted_labels.append(X[i].dot(theta))\n",
    "# print(predicted_labels)"
   ]
  },
  {
   "cell_type": "code",
   "execution_count": 57,
   "metadata": {},
   "outputs": [],
   "source": [
    "# train_data_new=np.copy(train_data)\n",
    "# train_data_new=np.insert(train_data_new, 0, values=[1], axis=1);\n",
    "predicted_test_labels=[]\n",
    "for i in range(len(Y_test)):\n",
    "        predicted_test_labels.append(X_test[i].dot(theta))\n",
    "# print(predicted_labels)"
   ]
  },
  {
   "cell_type": "markdown",
   "metadata": {},
   "source": [
    "## Mean Square Error - Linear Regression (Gradient Desent)"
   ]
  },
  {
   "cell_type": "code",
   "execution_count": 58,
   "metadata": {},
   "outputs": [
    {
     "data": {
      "text/plain": [
       "4670950151.4614353"
      ]
     },
     "execution_count": 58,
     "metadata": {},
     "output_type": "execute_result"
    }
   ],
   "source": [
    "mean_squared_error(train_labels,predicted_labels)"
   ]
  },
  {
   "cell_type": "code",
   "execution_count": 59,
   "metadata": {},
   "outputs": [
    {
     "data": {
      "text/plain": [
       "4871150664.4090395"
      ]
     },
     "execution_count": 59,
     "metadata": {},
     "output_type": "execute_result"
    }
   ],
   "source": [
    "mean_squared_error(test_labels,predicted_test_labels)"
   ]
  },
  {
   "cell_type": "markdown",
   "metadata": {},
   "source": [
    "# Linear Regression - Newton's method"
   ]
  },
  {
   "cell_type": "code",
   "execution_count": 60,
   "metadata": {},
   "outputs": [],
   "source": [
    "def newton_method_linear_regression(X_data,Y,number_iterations):\n",
    "    theta=np.zeros(X_data.shape[1])\n",
    "    for i in range(number_iterations):\n",
    "        z=np.dot(X_data,theta)\n",
    "        gradient=np.dot(X_data.T, (z - Y)) / Y.size\n",
    "        learning_rate=np.linalg.inv(np.dot(X_data.T,X_data)/ Y.size)\n",
    "#         print(theta)\n",
    "#         print(gradient)\n",
    "        theta=theta-np.dot(learning_rate,gradient)\n",
    "    return theta\n"
   ]
  },
  {
   "cell_type": "markdown",
   "metadata": {},
   "source": [
    "## Training Time - Linear Regression (Newton's Method)"
   ]
  },
  {
   "cell_type": "code",
   "execution_count": 61,
   "metadata": {},
   "outputs": [
    {
     "name": "stdout",
     "output_type": "stream",
     "text": [
      "51.8863289356\n"
     ]
    }
   ],
   "source": [
    "start_time = time.time()\n",
    "theta=newton_method_linear_regression(X,Y,number_iterations)\n",
    "end_time = time.time()\n",
    "training_time=end_time-start_time\n",
    "print(training_time)\n",
    "# print(theta)"
   ]
  },
  {
   "cell_type": "code",
   "execution_count": 62,
   "metadata": {},
   "outputs": [],
   "source": [
    "# theta_test=newton_method_linear_regression(X_test,Y_test,number_iterations)\n",
    "# print(theta_test)"
   ]
  },
  {
   "cell_type": "code",
   "execution_count": 63,
   "metadata": {},
   "outputs": [],
   "source": [
    "predicted_labels=[]\n",
    "for i in range(len(Y)):\n",
    "    predicted_labels.append(X[i].dot(theta))\n",
    "  "
   ]
  },
  {
   "cell_type": "code",
   "execution_count": 64,
   "metadata": {},
   "outputs": [],
   "source": [
    "predicted_test_labels=[]\n",
    "for i in range(len(Y_test)):\n",
    "    predicted_test_labels.append(X_test[i].dot(theta))\n",
    "  "
   ]
  },
  {
   "cell_type": "markdown",
   "metadata": {},
   "source": [
    "## Mean Square Error - Linear Regression (Newton's method)"
   ]
  },
  {
   "cell_type": "code",
   "execution_count": 65,
   "metadata": {},
   "outputs": [
    {
     "data": {
      "text/plain": [
       "4670950151.4614353"
      ]
     },
     "execution_count": 65,
     "metadata": {},
     "output_type": "execute_result"
    }
   ],
   "source": [
    "mean_squared_error(train_labels,predicted_labels)"
   ]
  },
  {
   "cell_type": "code",
   "execution_count": 66,
   "metadata": {},
   "outputs": [
    {
     "data": {
      "text/plain": [
       "4871150664.4090405"
      ]
     },
     "execution_count": 66,
     "metadata": {},
     "output_type": "execute_result"
    }
   ],
   "source": [
    "mean_squared_error(test_labels,predicted_test_labels)"
   ]
  },
  {
   "cell_type": "markdown",
   "metadata": {},
   "source": [
    "# Ridge Regression "
   ]
  },
  {
   "cell_type": "code",
   "execution_count": 67,
   "metadata": {},
   "outputs": [],
   "source": [
    "def ridge_regression(x,y,regularisation_parameter):\n",
    "    z1 = np.dot(x.transpose(), x)\n",
    "#     identity_matrix=np.identity_matrix(x.shape[1])\n",
    "    a = np.zeros((x.shape[1], x.shape[1]))\n",
    "    np.fill_diagonal(a, regularisation_parameter)\n",
    "    s=np.add(z1, a)\n",
    "    print(a)\n",
    "    z = np.linalg.inv(s)\n",
    "    z2 = np.dot(z, x.transpose())\n",
    "    theta = np.dot(z2, y)\n",
    "    return theta"
   ]
  },
  {
   "cell_type": "markdown",
   "metadata": {},
   "source": [
    "## Training Time - Ridge Regression "
   ]
  },
  {
   "cell_type": "code",
   "execution_count": 68,
   "metadata": {},
   "outputs": [
    {
     "name": "stdout",
     "output_type": "stream",
     "text": [
      "[[ 1.  0.  0.  0.  0.  0.  0.  0.  0.  0.  0.  0.]\n",
      " [ 0.  1.  0.  0.  0.  0.  0.  0.  0.  0.  0.  0.]\n",
      " [ 0.  0.  1.  0.  0.  0.  0.  0.  0.  0.  0.  0.]\n",
      " [ 0.  0.  0.  1.  0.  0.  0.  0.  0.  0.  0.  0.]\n",
      " [ 0.  0.  0.  0.  1.  0.  0.  0.  0.  0.  0.  0.]\n",
      " [ 0.  0.  0.  0.  0.  1.  0.  0.  0.  0.  0.  0.]\n",
      " [ 0.  0.  0.  0.  0.  0.  1.  0.  0.  0.  0.  0.]\n",
      " [ 0.  0.  0.  0.  0.  0.  0.  1.  0.  0.  0.  0.]\n",
      " [ 0.  0.  0.  0.  0.  0.  0.  0.  1.  0.  0.  0.]\n",
      " [ 0.  0.  0.  0.  0.  0.  0.  0.  0.  1.  0.  0.]\n",
      " [ 0.  0.  0.  0.  0.  0.  0.  0.  0.  0.  1.  0.]\n",
      " [ 0.  0.  0.  0.  0.  0.  0.  0.  0.  0.  0.  1.]]\n",
      "0.00917506217957\n"
     ]
    }
   ],
   "source": [
    "start_time = time.time()\n",
    "theta=ridge_regression(X, Y,1)\n",
    "end_time = time.time()\n",
    "training_time=end_time-start_time\n",
    "print(training_time)"
   ]
  },
  {
   "cell_type": "code",
   "execution_count": 69,
   "metadata": {},
   "outputs": [],
   "source": [
    "# np.insert(housing_data, 0, values=[1], axis=1)\n",
    "# X = np.array(housing_data)\n",
    "# Y = np.array(train_label).flatten()\n",
    "# #Y = train_label.copy\n",
    "# #Y=Y.flatten()\n",
    "# X=np.insert(X, 0, values=1, axis=1)\n",
    "# print(X_test.shape)\n",
    "# print(Y_test.shape)\n",
    "# theta=ridge_regression(X_test, Y_test,1)\n",
    "# print(theta_test)"
   ]
  },
  {
   "cell_type": "code",
   "execution_count": 70,
   "metadata": {},
   "outputs": [],
   "source": [
    "# X = np.array(housing_data)\n",
    "# X=np.insert(X, 0, values=1, axis=1)\n",
    "# Y = np.array(train_labels)"
   ]
  },
  {
   "cell_type": "code",
   "execution_count": 71,
   "metadata": {},
   "outputs": [],
   "source": [
    "predicted_labels=[]\n",
    "for i in range(Y.size):\n",
    "    predicted_labels.append(X[i].dot(theta))"
   ]
  },
  {
   "cell_type": "code",
   "execution_count": 72,
   "metadata": {},
   "outputs": [],
   "source": [
    "predicted_test_labels=[]\n",
    "for i in range(Y_test.size):\n",
    "    predicted_test_labels.append(X_test[i].dot(theta))"
   ]
  },
  {
   "cell_type": "markdown",
   "metadata": {},
   "source": [
    "## Mean Square Error  - Ridge Regression"
   ]
  },
  {
   "cell_type": "code",
   "execution_count": 73,
   "metadata": {},
   "outputs": [
    {
     "data": {
      "text/plain": [
       "4670951513.3522034"
      ]
     },
     "execution_count": 73,
     "metadata": {},
     "output_type": "execute_result"
    }
   ],
   "source": [
    "mean_squared_error(train_labels, predicted_labels)"
   ]
  },
  {
   "cell_type": "code",
   "execution_count": 74,
   "metadata": {},
   "outputs": [
    {
     "data": {
      "text/plain": [
       "4871025440.3678427"
      ]
     },
     "execution_count": 74,
     "metadata": {},
     "output_type": "execute_result"
    }
   ],
   "source": [
    "mean_squared_error(test_labels, predicted_test_labels)"
   ]
  },
  {
   "cell_type": "markdown",
   "metadata": {},
   "source": [
    "# Lasso Regression"
   ]
  },
  {
   "cell_type": "markdown",
   "metadata": {},
   "source": [
    "## Training Time - Lasso Regression"
   ]
  },
  {
   "cell_type": "code",
   "execution_count": 75,
   "metadata": {},
   "outputs": [
    {
     "name": "stdout",
     "output_type": "stream",
     "text": [
      "3.79280114174\n"
     ]
    },
    {
     "data": {
      "image/png": "[encoded data removed]",
      "text/plain": [
       "<matplotlib.figure.Figure at 0x7fc1a812e110>"
      ]
     },
     "metadata": {},
     "output_type": "display_data"
    }
   ],
   "source": [
    "# Lasso Regression\n",
    "\n",
    "alphas = 10**np.linspace(10,-2,100)*0.5\n",
    "start_time = time.time()\n",
    "lasso = Lasso(max_iter = 10000, normalize = True)\n",
    "coefs = []\n",
    "for a in alphas:\n",
    "    lasso.set_params(alpha=a)\n",
    "    lasso.fit(X, Y)\n",
    "    coefs.append(lasso.coef_)\n",
    "ax = plt.gca()\n",
    "ax.plot(alphas*2, coefs)\n",
    "ax.set_xscale('log')\n",
    "plt.axis('tight')\n",
    "plt.xlabel('alpha')\n",
    "plt.ylabel('weights')\n",
    "\n",
    "lassocv = LassoCV(alphas = None, cv = 10, max_iter = 100000, normalize = True)\n",
    "lassocv.fit(X, Y)\n",
    "lasso.set_params(alpha=lassocv.alpha_)\n",
    "lasso.fit(X, Y)\n",
    "end_time = time.time()\n",
    "training_time=end_time-start_time\n",
    "print(training_time)\n",
    "\n"
   ]
  },
  {
   "cell_type": "markdown",
   "metadata": {},
   "source": [
    "## Mean Square Error - Lasso Regression"
   ]
  },
  {
   "cell_type": "code",
   "execution_count": 76,
   "metadata": {},
   "outputs": [
    {
     "data": {
      "text/plain": [
       "4672855821.2713547"
      ]
     },
     "execution_count": 76,
     "metadata": {},
     "output_type": "execute_result"
    }
   ],
   "source": [
    "mean_squared_error(Y, lasso.predict(X))"
   ]
  },
  {
   "cell_type": "code",
   "execution_count": 77,
   "metadata": {},
   "outputs": [
    {
     "data": {
      "text/plain": [
       "4858107786.0038309"
      ]
     },
     "execution_count": 77,
     "metadata": {},
     "output_type": "execute_result"
    }
   ],
   "source": [
    "mean_squared_error(Y_test, lasso.predict(X_test))"
   ]
  }
 ],
 "metadata": {
  "kernelspec": {
   "display_name": "Python 2",
   "language": "python",
   "name": "python2"
  },
  "language_info": {
   "codemirror_mode": {
    "name": "ipython",
    "version": 3
   },
   "file_extension": ".py",
   "mimetype": "text/x-python",
   "name": "python",
   "nbconvert_exporter": "python",
   "pygments_lexer": "ipython3",
   "version": "3.5.2"
  }
 },
 "nbformat": 4,
 "nbformat_minor": 2
}

{
 "cells": [
  {
   "cell_type": "markdown",
   "metadata": {},
   "source": [
    "\n",
    "# 1. Setup\n",
    "\n",
    "First, let's make sure this notebook works well in both python 2 and 3, import a few common modules, ensure MatplotLib plots figures inline and prepare a function to save the figures:\n"
   ]
  },
  {
   "cell_type": "code",
   "execution_count": 1,
   "metadata": {
    "collapsed": true
   },
   "outputs": [],
   "source": [
    "# To support both python 2 and python 3\n",
    "from __future__ import division, print_function, unicode_literals\n",
    "\n",
    "# Common imports\n",
    "import numpy as np\n",
    "import os\n",
    "\n",
    "# to make this notebook's output stable across runs\n",
    "np.random.seed(42)\n",
    "\n",
    "# To plot pretty figures\n",
    "%matplotlib inline\n",
    "import matplotlib\n",
    "import matplotlib.pyplot as plt\n",
    "plt.rcParams['axes.labelsize'] = 14\n",
    "plt.rcParams['xtick.labelsize'] = 12\n",
    "plt.rcParams['ytick.labelsize'] = 12\n"
   ]
  },
  {
   "cell_type": "markdown",
   "metadata": {},
   "source": [
    "# 2. Logistic\tRegression\n",
    "\n",
    "Some\tregression\talgorithms\tcan\tbe\tused\tfor\tclassification\tas\twell\t(and\n",
    "vice\tversa).\tLogistic\tRegression\t(also\tcalled\tLogit\tRegression)\tis\tcommonly\tused\tto\testimate\tthe\n",
    "probability\tthat\tan\tinstance\tbelongs\tto\ta\tparticular\tclass\t(e.g.,\twhat\tis\tthe\tprobability\tthat\tthis\temail\tis\n",
    "spam?).\tIf\tthe\testimated\tprobability\tis\tgreater\tthan\t50%,\tthen\tthe\tmodel\tpredicts\tthat\tthe\tinstance\tbelongs\n",
    "to\tthat\tclass\t(called\tthe\tpositive\tclass,\tlabeled\t“1”),\tor\telse\tit\tpredicts\tthat\tit\tdoes\tnot\t(i.e.,\tit\tbelongs\tto\n",
    "the\tnegative\tclass,\tlabeled\t“0”).\tThis\tmakes\tit\ta\tbinary\tclassifier."
   ]
  },
  {
   "cell_type": "markdown",
   "metadata": {},
   "source": [
    "# 2.1 Estimating\tProbabilities\n",
    "\n",
    "So\thow\tdoes\tit\twork?\tJust\tlike\ta\tLinear\tRegression\tmodel,\ta\tLogistic\tRegression\tmodel\tcomputes\ta\n",
    "weighted\tsum\tof\tthe\tinput\tfeatures\t(plus\ta\tbias\tterm),\tbut\tinstead\tof\toutputting\tthe\tresult\tdirectly\tlike\tthe\n",
    "Linear\tRegression\tmodel\tdoes,\tit\toutputs\tthe\tlogistic\tof\tthis\tresult (see\tEquation\t4-13).\n",
    "![title, width=10, height=5](../tutorial/Selection_010.png) "
   ]
  },
  {
   "cell_type": "markdown",
   "metadata": {},
   "source": [
    "The\tlogistic\t—\talso\tcalled\tthe\tlogit,\tnoted\tσ(·)\t—\tis\ta\tsigmoid\tfunction\t(i.e.,\tS-shaped)\tthat\toutputs\ta\n",
    "number\tbetween\t0\tand\t1.\tIt\tis\tdefined\tas\tshown\tin\tEquation\t4-14\n",
    "![title, width=10, height=5](../tutorial/Selection_009.png)"
   ]
  },
  {
   "cell_type": "markdown",
   "metadata": {},
   "source": [
    "# Plotting logistic function"
   ]
  },
  {
   "cell_type": "code",
   "execution_count": 3,
   "metadata": {
    "collapsed": false
   },
   "outputs": [
    {
     "data": {
      "image/png": "[encoded data removed]",
      "text/plain": [
       "<matplotlib.figure.Figure at 0x7f0c8c6d7a10>"
      ]
     },
     "metadata": {},
     "output_type": "display_data"
    }
   ],
   "source": [
    "t = np.linspace(-10, 10, 100)\n",
    "sig = 1 / (1 + np.exp(-t))\n",
    "plt.figure(figsize=(9, 3))\n",
    "plt.plot([-10, 10], [0, 0], \"k-\")\n",
    "plt.plot([-10, 10], [0.5, 0.5], \"k:\")\n",
    "plt.plot([-10, 10], [1, 1], \"k:\")\n",
    "plt.plot([0, 0], [-1.1, 1.1], \"k-\")\n",
    "plt.plot(t, sig, \"b-\", linewidth=2, label=r\"$\\sigma(t) = \\frac{1}{1 + e^{-t}}$\")\n",
    "plt.xlabel(\"t\")\n",
    "plt.legend(loc=\"upper left\", fontsize=20)\n",
    "plt.axis([-10, 10, -0.1, 1.1])\n",
    "plt.show()"
   ]
  },
  {
   "cell_type": "markdown",
   "metadata": {},
   "source": [
    "Once\tthe\tLogistic\tRegression\tmodel\thas\testimated\tthe\tprobability\t ![title, width=10, height=5](../tutorial/Selection_011.png)\t\tthat\tan\tinstance\tx\tbelongs\tto\n",
    "the\tpositive\tclass,\tit\tcan\tmake\tits\tprediction\tŷ\teasily\t(see\tEquation)\n",
    "![title, width=5, height=5](../tutorial/Selection_012.png)\n"
   ]
  },
  {
   "cell_type": "markdown",
   "metadata": {},
   "source": [
    "Notice\tthat\tσ(t)\t<\t0.5\twhen\tt\t<\t0,\tand\tσ(t)\t≥\t0.5\twhen\tt\t≥\t0,\tso\ta\tLogistic\tRegression\tmodel\tpredicts\t1\tif\n",
    "θ T \t·\tx\tis\tpositive,\tand\t0\tif\tit\tis\tnegative."
   ]
  },
  {
   "cell_type": "markdown",
   "metadata": {},
   "source": [
    "# 2.2 Training\tand\tCost\tFunction\n",
    "\n",
    "Now\tyou\tknow\thow\ta\tLogistic\tRegression\tmodel\testimates\tprobabilities\tand\tmakes\tpredictions.\n",
    "But\thow\tis\tit\ttrained?\tThe\tobjective\tof\ttraining\tis\tto\tset\tthe\tparameter\tvector\tθ\tso\tthat\tthe\tmodel\testimates\n",
    "high\tprobabilities\tfor\tpositive\tinstances\t(y\t=\t1)\tand\tlow\tprobabilities\tfor\tnegative\tinstances\t(y\t=\t0).\tThis\n",
    "idea\tis\tcaptured\tby\tthe\tcost\tfunction\tshown\tin\tEquation\t4-16\tfor\ta\tsingle\ttraining\tinstance\tx.\n",
    "\n",
    "![title, width=5, height=5](../tutorial/Selection_013.png)"
   ]
  },
  {
   "cell_type": "markdown",
   "metadata": {},
   "source": [
    "This\tcost\tfunction\tmakes\tsense\tbecause\t–\tlog(t)\tgrows\tvery\tlarge\twhen\tt\tapproaches\t0,\tso\tthe\tcost\twill\n",
    "be\tlarge\tif\tthe\tmodel\testimates\ta\tprobability\tclose\tto\t0\tfor\ta\tpositive\tinstance,\tand\tit\twill\talso\tbe\tvery\n",
    "large\tif\tthe\tmodel\testimates\ta\tprobability\tclose\tto\t1\tfor\ta\tnegative\tinstance.\tOn\tthe\tother\thand,\t–\tlog(t)\tis\n",
    "close\tto\t0\twhen\tt\tis\tclose\tto\t1,\tso\tthe\tcost\twill\tbe\tclose\tto\t0\tif\tthe\testimated\tprobability\tis\tclose\tto\t0\tfor\ta\n",
    "negative\tinstance\tor\tclose\tto\t1\tfor\ta\tpositive\tinstance,\twhich\tis\tprecisely\twhat\twe\twant."
   ]
  },
  {
   "cell_type": "markdown",
   "metadata": {},
   "source": [
    "The\tcost\tfunction\tover\tthe\twhole\ttraining\tset\tis\tsimply\tthe\taverage\tcost\tover\tall\ttraining\tinstances.\tIt\tcan\n",
    "be\twritten\tin\ta\tsingle\texpression\t(as\tyou\tcan\tverify\teasily),\tcalled\tthe\tlog\tloss,\tshown\tin\tEquation\t4-17.\n",
    "\n",
    "![title, width=5, height=5](../tutorial/Selection_014.png)"
   ]
  },
  {
   "cell_type": "markdown",
   "metadata": {},
   "source": [
    "The\tbad\tnews\tis\tthat\tthere\tis\tno\tknown\tclosed-form\tequation\tto\tcompute\tthe\tvalue\tof\tθ\tthat\tminimizes\tthis\n",
    "cost\tfunction\t(there\tis\tno\tequivalent\tof\tthe\tNormal\tEquation).\tBut\tthe\tgood\tnews\tis\tthat\tthis\tcost\tfunction\n",
    "is\tconvex,\tso\tGradient\tDescent\t(or\tany\tother\toptimization\talgorithm)\tis\tguaranteed\tto\tfind\tthe\tglobal\n",
    "minimum\t(if\tthe\tlearning\trate\tis\tnot\ttoo\tlarge\tand\tyou\twait\tlong\tenough).\tThe\tpartial\tderivatives\tof\tthe\n",
    "cost\tfunction\twith\tregards\tto\tthe\tj th \tmodel\tparameter\tθ j \tis\tgiven\tby\tEquation\t4-18.\n",
    "\n",
    "![title, width=5, height=5](../tutorial/Selection_015.png)"
   ]
  },
  {
   "cell_type": "code",
   "execution_count": null,
   "metadata": {
    "collapsed": true
   },
   "outputs": [],
   "source": []
  }
 ],
 "metadata": {
  "kernelspec": {
   "display_name": "Python 2",
   "language": "python",
   "name": "python2"
  },
  "language_info": {
   "codemirror_mode": {
    "name": "ipython",
    "version": 2
   },
   "file_extension": ".py",
   "mimetype": "text/x-python",
   "name": "python",
   "nbconvert_exporter": "python",
   "pygments_lexer": "ipython2",
   "version": "2.7.12"
  }
 },
 "nbformat": 4,
 "nbformat_minor": 2
}

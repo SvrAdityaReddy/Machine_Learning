{
 "cells": [
  {
   "cell_type": "markdown",
   "metadata": {},
   "source": [
    "\n",
    "# 1. Setup\n",
    "\n",
    "First, let's make sure this notebook works well in both python 2 and 3, import a few common modules, ensure MatplotLib plots figures inline and prepare a function to save the figures:\n"
   ]
  },
  {
   "cell_type": "code",
   "execution_count": 1,
   "metadata": {
    "collapsed": true
   },
   "outputs": [],
   "source": [
    "# To support both python 2 and python 3\n",
    "from __future__ import division, print_function, unicode_literals\n",
    "\n",
    "# Common imports\n",
    "import numpy as np\n",
    "import os\n",
    "\n",
    "# to make this notebook's output stable across runs\n",
    "np.random.seed(42)\n",
    "\n",
    "# To plot pretty figures\n",
    "%matplotlib inline\n",
    "import matplotlib\n",
    "import matplotlib.pyplot as plt\n",
    "plt.rcParams['axes.labelsize'] = 14\n",
    "plt.rcParams['xtick.labelsize'] = 12\n",
    "plt.rcParams['ytick.labelsize'] = 12\n"
   ]
  },
  {
   "cell_type": "markdown",
   "metadata": {},
   "source": [
    "# 2. Logistic\tRegression\n",
    "\n",
    "Some\tregression\talgorithms\tcan\tbe\tused\tfor\tclassification\tas\twell\t(and\n",
    "vice\tversa).\tLogistic\tRegression\t(also\tcalled\tLogit\tRegression)\tis\tcommonly\tused\tto\testimate\tthe\n",
    "probability\tthat\tan\tinstance\tbelongs\tto\ta\tparticular\tclass\t(e.g.,\twhat\tis\tthe\tprobability\tthat\tthis\temail\tis\n",
    "spam?).\tIf\tthe\testimated\tprobability\tis\tgreater\tthan\t50%,\tthen\tthe\tmodel\tpredicts\tthat\tthe\tinstance\tbelongs\n",
    "to\tthat\tclass\t(called\tthe\tpositive\tclass,\tlabeled\t“1”),\tor\telse\tit\tpredicts\tthat\tit\tdoes\tnot\t(i.e.,\tit\tbelongs\tto\n",
    "the\tnegative\tclass,\tlabeled\t“0”).\tThis\tmakes\tit\ta\tbinary\tclassifier."
   ]
  },
  {
   "cell_type": "markdown",
   "metadata": {},
   "source": [
    "# 2.1 Estimating\tProbabilities\n",
    "\n",
    "So\thow\tdoes\tit\twork?\tJust\tlike\ta\tLinear\tRegression\tmodel,\ta\tLogistic\tRegression\tmodel\tcomputes\ta\n",
    "weighted\tsum\tof\tthe\tinput\tfeatures\t(plus\ta\tbias\tterm),\tbut\tinstead\tof\toutputting\tthe\tresult\tdirectly\tlike\tthe\n",
    "Linear\tRegression\tmodel\tdoes,\tit\toutputs\tthe\tlogistic\tof\tthis\tresult (see\tEquation\t4-13).\n",
    "![title, width=10, height=5](../tutorial/Selection_010.png) "
   ]
  },
  {
   "cell_type": "markdown",
   "metadata": {},
   "source": [
    "The\tlogistic\t—\talso\tcalled\tthe\tlogit,\tnoted\tσ(·)\t—\tis\ta\tsigmoid\tfunction\t(i.e.,\tS-shaped)\tthat\toutputs\ta\n",
    "number\tbetween\t0\tand\t1.\tIt\tis\tdefined\tas\tshown\tin\tEquation\t4-14\n",
    "![title, width=10, height=5](../tutorial/Selection_009.png)"
   ]
  },
  {
   "cell_type": "markdown",
   "metadata": {},
   "source": [
    "# Plotting logistic function"
   ]
  },
  {
   "cell_type": "code",
   "execution_count": 2,
   "metadata": {},
   "outputs": [
    {
     "data": {
      "image/png": "[encoded data removed]",
      "text/plain": [
       "<matplotlib.figure.Figure at 0x7fd514bc0908>"
      ]
     },
     "metadata": {},
     "output_type": "display_data"
    }
   ],
   "source": [
    "t = np.linspace(-10, 10, 100)\n",
    "sig = 1 / (1 + np.exp(-t))\n",
    "plt.figure(figsize=(9, 3))\n",
    "plt.plot([-10, 10], [0, 0], \"k-\")\n",
    "plt.plot([-10, 10], [0.5, 0.5], \"k:\")\n",
    "plt.plot([-10, 10], [1, 1], \"k:\")\n",
    "plt.plot([0, 0], [-1.1, 1.1], \"k-\")\n",
    "plt.plot(t, sig, \"b-\", linewidth=2, label=r\"$\\sigma(t) = \\frac{1}{1 + e^{-t}}$\")\n",
    "plt.xlabel(\"t\")\n",
    "plt.legend(loc=\"upper left\", fontsize=20)\n",
    "plt.axis([-10, 10, -0.1, 1.1])\n",
    "plt.show()"
   ]
  },
  {
   "cell_type": "markdown",
   "metadata": {},
   "source": [
    "Once\tthe\tLogistic\tRegression\tmodel\thas\testimated\tthe\tprobability\t ![title, width=10, height=5](../tutorial/Selection_011.png)\t\tthat\tan\tinstance\tx\tbelongs\tto\n",
    "the\tpositive\tclass,\tit\tcan\tmake\tits\tprediction\tŷ\teasily\t(see\tEquation)\n",
    "![title, width=5, height=5](../tutorial/Selection_012.png)\n"
   ]
  },
  {
   "cell_type": "markdown",
   "metadata": {},
   "source": [
    "Notice\tthat\tσ(t)\t<\t0.5\twhen\tt\t<\t0,\tand\tσ(t)\t≥\t0.5\twhen\tt\t≥\t0,\tso\ta\tLogistic\tRegression\tmodel\tpredicts\t1\tif\n",
    "θ T \t·\tx\tis\tpositive,\tand\t0\tif\tit\tis\tnegative."
   ]
  },
  {
   "cell_type": "markdown",
   "metadata": {},
   "source": [
    "# 2.2 Training\tand\tCost\tFunction\n",
    "\n",
    "Now\tyou\tknow\thow\ta\tLogistic\tRegression\tmodel\testimates\tprobabilities\tand\tmakes\tpredictions.\n",
    "But\thow\tis\tit\ttrained?\tThe\tobjective\tof\ttraining\tis\tto\tset\tthe\tparameter\tvector\tθ\tso\tthat\tthe\tmodel\testimates\n",
    "high\tprobabilities\tfor\tpositive\tinstances\t(y\t=\t1)\tand\tlow\tprobabilities\tfor\tnegative\tinstances\t(y\t=\t0).\tThis\n",
    "idea\tis\tcaptured\tby\tthe\tcost\tfunction\tshown\tin\tEquation\t4-16\tfor\ta\tsingle\ttraining\tinstance\tx.\n",
    "\n",
    "![title, width=5, height=5](../tutorial/Selection_013.png)"
   ]
  },
  {
   "cell_type": "markdown",
   "metadata": {},
   "source": [
    "This\tcost\tfunction\tmakes\tsense\tbecause\t–\tlog(t)\tgrows\tvery\tlarge\twhen\tt\tapproaches\t0,\tso\tthe\tcost\twill\n",
    "be\tlarge\tif\tthe\tmodel\testimates\ta\tprobability\tclose\tto\t0\tfor\ta\tpositive\tinstance,\tand\tit\twill\talso\tbe\tvery\n",
    "large\tif\tthe\tmodel\testimates\ta\tprobability\tclose\tto\t1\tfor\ta\tnegative\tinstance.\tOn\tthe\tother\thand,\t–\tlog(t)\tis\n",
    "close\tto\t0\twhen\tt\tis\tclose\tto\t1,\tso\tthe\tcost\twill\tbe\tclose\tto\t0\tif\tthe\testimated\tprobability\tis\tclose\tto\t0\tfor\ta\n",
    "negative\tinstance\tor\tclose\tto\t1\tfor\ta\tpositive\tinstance,\twhich\tis\tprecisely\twhat\twe\twant."
   ]
  },
  {
   "cell_type": "markdown",
   "metadata": {},
   "source": [
    "The\tcost\tfunction\tover\tthe\twhole\ttraining\tset\tis\tsimply\tthe\taverage\tcost\tover\tall\ttraining\tinstances.\tIt\tcan\n",
    "be\twritten\tin\ta\tsingle\texpression\t(as\tyou\tcan\tverify\teasily),\tcalled\tthe\tlog\tloss,\tshown\tin\tEquation\t4-17.\n",
    "\n",
    "![title, width=5, height=5](../tutorial/Selection_014.png)"
   ]
  },
  {
   "cell_type": "markdown",
   "metadata": {},
   "source": [
    "The\tbad\tnews\tis\tthat\tthere\tis\tno\tknown\tclosed-form\tequation\tto\tcompute\tthe\tvalue\tof\tθ\tthat\tminimizes\tthis\n",
    "cost\tfunction\t(there\tis\tno\tequivalent\tof\tthe\tNormal\tEquation).\tBut\tthe\tgood\tnews\tis\tthat\tthis\tcost\tfunction\n",
    "is\tconvex,\tso\tGradient\tDescent\t(or\tany\tother\toptimization\talgorithm)\tis\tguaranteed\tto\tfind\tthe\tglobal\n",
    "minimum\t(if\tthe\tlearning\trate\tis\tnot\ttoo\tlarge\tand\tyou\twait\tlong\tenough).\tThe\tpartial\tderivatives\tof\tthe\n",
    "cost\tfunction\twith\tregards\tto\tthe\tj th \tmodel\tparameter\tθ j \tis\tgiven\tby\tEquation\t4-18.\n",
    "\n",
    "![title, width=5, height=5](../tutorial/Selection_015.png)"
   ]
  },
  {
   "cell_type": "markdown",
   "metadata": {},
   "source": [
    "For\teach\tinstance\tit\tcomputes\tthe\tprediction\terror\tand\n",
    "multiplies\tit\tby\tthe\tj th \tfeature\tvalue,\tand\tthen\tit\tcomputes\tthe\taverage\tover\tall\ttraining\tinstances.\tOnce\tyou\n",
    "have\tthe\tgradient\tvector\tcontaining\tall\tthe\tpartial\tderivatives\tyou\tcan\tuse\tit\tin\tthe\tGradient\tDescent\n",
    "algorithm.\tThat’s\tit:\tyou\tnow\tknow\thow\tto\ttrain\ta\tLogistic\tRegression\tmodel.\t"
   ]
  },
  {
   "cell_type": "markdown",
   "metadata": {},
   "source": [
    "# 3. Univariate Logistic Regression\n",
    "\n",
    "Let’s\tuse\tthe\tiris\tdataset\tto\tillustrate\tLogistic\tRegression.\tThis\tis\ta\tfamous\tdataset\tthat\tcontains\tthe\tsepal\n",
    "and\tpetal\tlength\tand\twidth\tof\t150\tiris\tflowers\tof\tthree\tdifferent\tspecies:\tIris-Setosa,\tIris-Versicolor,\tand\n",
    "Iris-Virginica\t(see\tFigure\t4-22).\n",
    "\n",
    "![title, width=5, height=5](../tutorial/Selection_016.png)\n"
   ]
  },
  {
   "cell_type": "markdown",
   "metadata": {},
   "source": [
    "Let’s\ttry\tto\tbuild\ta\tclassifier\tto\tdetect\tthe\tIris-Virginica\ttype\tbased\tonly\ton\tthe\tpetal\twidth\tfeature.\tFirst\n",
    "let’s\tload\tthe\tdata:"
   ]
  },
  {
   "cell_type": "code",
   "execution_count": 3,
   "metadata": {},
   "outputs": [
    {
     "data": {
      "text/plain": [
       "['target', 'feature_names', 'target_names', 'data', 'DESCR']"
      ]
     },
     "execution_count": 3,
     "metadata": {},
     "output_type": "execute_result"
    }
   ],
   "source": [
    "from sklearn import datasets\n",
    "iris = datasets.load_iris()\n",
    "list(iris.keys())"
   ]
  },
  {
   "cell_type": "code",
   "execution_count": 4,
   "metadata": {},
   "outputs": [
    {
     "name": "stdout",
     "output_type": "stream",
     "text": [
      "Iris Plants Database\n",
      "====================\n",
      "\n",
      "Notes\n",
      "-----\n",
      "Data Set Characteristics:\n",
      "    :Number of Instances: 150 (50 in each of three classes)\n",
      "    :Number of Attributes: 4 numeric, predictive attributes and the class\n",
      "    :Attribute Information:\n",
      "        - sepal length in cm\n",
      "        - sepal width in cm\n",
      "        - petal length in cm\n",
      "        - petal width in cm\n",
      "        - class:\n",
      "                - Iris-Setosa\n",
      "                - Iris-Versicolour\n",
      "                - Iris-Virginica\n",
      "    :Summary Statistics:\n",
      "\n",
      "    ============== ==== ==== ======= ===== ====================\n",
      "                    Min  Max   Mean    SD   Class Correlation\n",
      "    ============== ==== ==== ======= ===== ====================\n",
      "    sepal length:   4.3  7.9   5.84   0.83    0.7826\n",
      "    sepal width:    2.0  4.4   3.05   0.43   -0.4194\n",
      "    petal length:   1.0  6.9   3.76   1.76    0.9490  (high!)\n",
      "    petal width:    0.1  2.5   1.20  0.76     0.9565  (high!)\n",
      "    ============== ==== ==== ======= ===== ====================\n",
      "\n",
      "    :Missing Attribute Values: None\n",
      "    :Class Distribution: 33.3% for each of 3 classes.\n",
      "    :Creator: R.A. Fisher\n",
      "    :Donor: Michael Marshall (MARSHALL%PLU@io.arc.nasa.gov)\n",
      "    :Date: July, 1988\n",
      "\n",
      "This is a copy of UCI ML iris datasets.\n",
      "http://archive.ics.uci.edu/ml/datasets/Iris\n",
      "\n",
      "The famous Iris database, first used by Sir R.A Fisher\n",
      "\n",
      "This is perhaps the best known database to be found in the\n",
      "pattern recognition literature.  Fisher's paper is a classic in the field and\n",
      "is referenced frequently to this day.  (See Duda & Hart, for example.)  The\n",
      "data set contains 3 classes of 50 instances each, where each class refers to a\n",
      "type of iris plant.  One class is linearly separable from the other 2; the\n",
      "latter are NOT linearly separable from each other.\n",
      "\n",
      "References\n",
      "----------\n",
      "   - Fisher,R.A. \"The use of multiple measurements in taxonomic problems\"\n",
      "     Annual Eugenics, 7, Part II, 179-188 (1936); also in \"Contributions to\n",
      "     Mathematical Statistics\" (John Wiley, NY, 1950).\n",
      "   - Duda,R.O., & Hart,P.E. (1973) Pattern Classification and Scene Analysis.\n",
      "     (Q327.D83) John Wiley & Sons.  ISBN 0-471-22361-1.  See page 218.\n",
      "   - Dasarathy, B.V. (1980) \"Nosing Around the Neighborhood: A New System\n",
      "     Structure and Classification Rule for Recognition in Partially Exposed\n",
      "     Environments\".  IEEE Transactions on Pattern Analysis and Machine\n",
      "     Intelligence, Vol. PAMI-2, No. 1, 67-71.\n",
      "   - Gates, G.W. (1972) \"The Reduced Nearest Neighbor Rule\".  IEEE Transactions\n",
      "     on Information Theory, May 1972, 431-433.\n",
      "   - See also: 1988 MLC Proceedings, 54-64.  Cheeseman et al\"s AUTOCLASS II\n",
      "     conceptual clustering system finds 3 classes in the data.\n",
      "   - Many, many more ...\n",
      "\n"
     ]
    }
   ],
   "source": [
    "print(iris.DESCR)"
   ]
  },
  {
   "cell_type": "code",
   "execution_count": 5,
   "metadata": {},
   "outputs": [
    {
     "name": "stdout",
     "output_type": "stream",
     "text": [
      "[0 0 0 0 0 0 0 0 0 0 0 0 0 0 0 0 0 0 0 0 0 0 0 0 0 0 0 0 0 0 0 0 0 0 0 0 0\n",
      " 0 0 0 0 0 0 0 0 0 0 0 0 0 1 1 1 1 1 1 1 1 1 1 1 1 1 1 1 1 1 1 1 1 1 1 1 1\n",
      " 1 1 1 1 1 1 1 1 1 1 1 1 1 1 1 1 1 1 1 1 1 1 1 1 1 1 2 2 2 2 2 2 2 2 2 2 2\n",
      " 2 2 2 2 2 2 2 2 2 2 2 2 2 2 2 2 2 2 2 2 2 2 2 2 2 2 2 2 2 2 2 2 2 2 2 2 2\n",
      " 2 2]\n"
     ]
    }
   ],
   "source": [
    "print(iris.target) #gives a detailed descriptipon of the Iris dataset"
   ]
  },
  {
   "cell_type": "markdown",
   "metadata": {},
   "source": [
    "Now we will get the petal width feature alone and the corresponding labels for the univariate classification task."
   ]
  },
  {
   "cell_type": "code",
   "execution_count": 6,
   "metadata": {},
   "outputs": [
    {
     "name": "stdout",
     "output_type": "stream",
     "text": [
      "[[ 0.2]\n",
      " [ 0.2]\n",
      " [ 0.2]\n",
      " [ 0.2]]\n",
      "[0 0 0 0 0 0 0 0 0 0 0 0 0 0 0 0 0 0 0 0 0 0 0 0 0 0 0 0 0 0 0 0 0 0 0 0 0\n",
      " 0 0 0 0 0 0 0 0 0 0 0 0 0 0 0 0 0 0 0 0 0 0 0 0 0 0 0 0 0 0 0 0 0 0 0 0 0\n",
      " 0 0 0 0 0 0 0 0 0 0 0 0 0 0 0 0 0 0 0 0 0 0 0 0 0 0 1 1 1 1 1 1 1 1 1 1 1\n",
      " 1 1 1 1 1 1 1 1 1 1 1 1 1 1 1 1 1 1 1 1 1 1 1 1 1 1 1 1 1 1 1 1 1 1 1 1 1\n",
      " 1 1]\n"
     ]
    }
   ],
   "source": [
    "X = iris[\"data\"][:, 3:]  # petal width\n",
    "y = (iris[\"target\"] == 2).astype(np.int)  # 1 if Iris-Virginica, else 0\n",
    "print(X[1:5])\n",
    "print(y)"
   ]
  },
  {
   "cell_type": "markdown",
   "metadata": {},
   "source": [
    "Now\tlet’s\ttrain\ta\tLogistic\tRegression\tmodel:"
   ]
  },
  {
   "cell_type": "code",
   "execution_count": 7,
   "metadata": {},
   "outputs": [
    {
     "data": {
      "text/plain": [
       "LogisticRegression(C=1.0, class_weight=None, dual=False, fit_intercept=True,\n",
       "          intercept_scaling=1, max_iter=100, multi_class='ovr', n_jobs=1,\n",
       "          penalty='l2', random_state=42, solver='liblinear', tol=0.0001,\n",
       "          verbose=0, warm_start=False)"
      ]
     },
     "execution_count": 7,
     "metadata": {},
     "output_type": "execute_result"
    }
   ],
   "source": [
    "from sklearn.linear_model import LogisticRegression\n",
    "log_reg = LogisticRegression(random_state=42)\n",
    "# solver is liblinear,and is limited to one-versus-rest schemes.\n",
    "log_reg.fit(X, y)"
   ]
  },
  {
   "cell_type": "markdown",
   "metadata": {},
   "source": [
    "Let’s\tlook\tat\tthe\tmodel’s\testimated\tprobabilities\tfor\tflowers\twith\tpetal\twidths\tvarying\tfrom\t0\tto\t3\tcm"
   ]
  },
  {
   "cell_type": "code",
   "execution_count": 8,
   "metadata": {},
   "outputs": [
    {
     "data": {
      "text/plain": [
       "[<matplotlib.lines.Line2D at 0x7fd50784c9b0>]"
      ]
     },
     "execution_count": 8,
     "metadata": {},
     "output_type": "execute_result"
    },
    {
     "data": {
      "image/png": "[encoded data removed]",
      "text/plain": [
       "<matplotlib.figure.Figure at 0x7fd50784c908>"
      ]
     },
     "metadata": {},
     "output_type": "display_data"
    }
   ],
   "source": [
    "X_new = np.linspace(0, 3, 1000).reshape(-1, 1)\n",
    "y_proba = log_reg.predict_proba(X_new)\n",
    "\n",
    "plt.plot(X_new, y_proba[:, 1], \"g-\", linewidth=2, label=\"Iris-Virginica\")\n",
    "plt.plot(X_new, y_proba[:, 0], \"b--\", linewidth=2, label=\"Not Iris-Virginica\")\n"
   ]
  },
  {
   "cell_type": "code",
   "execution_count": 9,
   "metadata": {},
   "outputs": [
    {
     "data": {
      "image/png": "[encoded data removed]",
      "text/plain": [
       "<matplotlib.figure.Figure at 0x7fd506e1e128>"
      ]
     },
     "metadata": {},
     "output_type": "display_data"
    }
   ],
   "source": [
    "X_new = np.linspace(0, 3, 1000).reshape(-1, 1)\n",
    "y_proba = log_reg.predict_proba(X_new)\n",
    "decision_boundary = X_new[y_proba[:, 1] >= 0.5][0]\n",
    "\n",
    "plt.figure(figsize=(8, 3))\n",
    "plt.plot(X[y==0], y[y==0], \"bs\")\n",
    "plt.plot(X[y==1], y[y==1], \"g^\")\n",
    "plt.plot([decision_boundary, decision_boundary], [-1, 2], \"k:\", linewidth=2)\n",
    "plt.plot(X_new, y_proba[:, 1], \"g-\", linewidth=2, label=\"Iris-Virginica\")\n",
    "plt.plot(X_new, y_proba[:, 0], \"b--\", linewidth=2, label=\"Not Iris-Virginica\")\n",
    "plt.text(decision_boundary+0.02, 0.15, \"Decision  boundary\", fontsize=14, color=\"k\", ha=\"center\")\n",
    "plt.arrow(decision_boundary, 0.08, -0.3, 0, head_width=0.05, head_length=0.1, fc='b', ec='b')\n",
    "plt.arrow(decision_boundary, 0.92, 0.3, 0, head_width=0.05, head_length=0.1, fc='g', ec='g')\n",
    "plt.xlabel(\"Petal width (cm)\", fontsize=14)\n",
    "plt.ylabel(\"Probability\", fontsize=14)\n",
    "plt.legend(loc=\"center left\", fontsize=14)\n",
    "plt.axis([0, 3, -0.02, 1.02])\n",
    "plt.show()"
   ]
  },
  {
   "cell_type": "markdown",
   "metadata": {},
   "source": [
    "The\tpetal\twidth\tof\tIris-Virginica\tflowers\t(represented\tby\ttriangles)\tranges\tfrom\t1.4\tcm\tto\t2.5\tcm,\twhile\n",
    "the\tother\tiris\tflowers\t(represented\tby\tsquares)\tgenerally\thave\ta\tsmaller\tpetal\twidth,\tranging\tfrom\t0.1\tcm\n",
    "to\t1.8\tcm.\tNotice\tthat\tthere\tis\ta\tbit\tof\toverlap.\tAbove\tabout\t2\tcm\tthe\tclassifier\tis\thighly\tconfident\tthat\tthe\n",
    "flower\tis\tan\tIris-Virginica\t(it\toutputs\ta\thigh\tprobability\tto\tthat\tclass),\twhile\tbelow\t1\tcm\tit\tis\thighly\n",
    "confident\tthat\tit\tis\tnot\tan\tIris-Virginica\t(high\tprobability\tfor\tthe\t“Not\tIris-Virginica”\tclass).\tIn\tbetween\n",
    "these\textremes,\tthe\tclassifier\tis\tunsure.\tHowever,\tif\tyou\task\tit\tto\tpredict\tthe\tclass\t(using\tthe\t predict()\n",
    "method\trather\tthan\tthe\t predict_proba() \tmethod),\tit\twill\treturn\twhichever\tclass\tis\tthe\tmost\tlikely.\n",
    "Therefore,\tthere\tis\ta\tdecision\tboundary\tat\taround\t1.6\tcm\twhere\tboth\tprobabilities\tare\tequal\tto\t50%:\tif\n",
    "the\tpetal\twidth\tis\thigher\tthan\t1.6\tcm,\tthe\tclassifier\twill\tpredict\tthat\tthe\tflower\tis\tan\tIris-Virginica,\tor\telse\n",
    "it\twill\tpredict\tthat\tit\tis\tnot\t(even\tif\tit\tis\tnot\tvery\tconfident):"
   ]
  },
  {
   "cell_type": "code",
   "execution_count": 10,
   "metadata": {},
   "outputs": [
    {
     "data": {
      "text/plain": [
       "array([ 1.61561562])"
      ]
     },
     "execution_count": 10,
     "metadata": {},
     "output_type": "execute_result"
    }
   ],
   "source": [
    "decision_boundary"
   ]
  },
  {
   "cell_type": "code",
   "execution_count": 11,
   "metadata": {},
   "outputs": [
    {
     "data": {
      "text/plain": [
       "array([1, 0])"
      ]
     },
     "execution_count": 11,
     "metadata": {},
     "output_type": "execute_result"
    }
   ],
   "source": [
    "log_reg.predict([[1.7], [1.5]])\n"
   ]
  },
  {
   "cell_type": "code",
   "execution_count": 12,
   "metadata": {},
   "outputs": [
    {
     "data": {
      "text/plain": [
       "array([[ 0.4431381,  0.5568619],\n",
       "       [ 0.5732246,  0.4267754]])"
      ]
     },
     "execution_count": 12,
     "metadata": {},
     "output_type": "execute_result"
    }
   ],
   "source": [
    "log_reg.predict_proba([[1.7], [1.5]])"
   ]
  }
 ],
 "metadata": {
  "anaconda-cloud": {},
  "kernelspec": {
   "display_name": "Python 3",
   "language": "python",
   "name": "python3"
  },
  "language_info": {
   "codemirror_mode": {
    "name": "ipython",
    "version": 3
   },
   "file_extension": ".py",
   "mimetype": "text/x-python",
   "name": "python",
   "nbconvert_exporter": "python",
   "pygments_lexer": "ipython3",
   "version": "3.5.2"
  }
 },
 "nbformat": 4,
 "nbformat_minor": 2
}

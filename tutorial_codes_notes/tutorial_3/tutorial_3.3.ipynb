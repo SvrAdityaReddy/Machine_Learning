{
 "cells": [
  {
   "cell_type": "markdown",
   "metadata": {},
   "source": [
    "# 1. Setup\n",
    "\n",
    "First, let's make sure this notebook works well in both python 2 and 3, import a few common modules, ensure MatplotLib plots figures inline and prepare a function to save the figures:\n"
   ]
  },
  {
   "cell_type": "code",
   "execution_count": 1,
   "metadata": {
    "collapsed": true
   },
   "outputs": [],
   "source": [
    "# To support both python 2 and python 3\n",
    "from __future__ import division, print_function, unicode_literals\n",
    "\n",
    "# Common imports\n",
    "import numpy as np\n",
    "import os\n",
    "\n",
    "# to make this notebook's output stable across runs\n",
    "np.random.seed(42)\n",
    "\n",
    "# To plot pretty figures\n",
    "%matplotlib inline\n",
    "import matplotlib\n",
    "import matplotlib.pyplot as plt\n",
    "plt.rcParams['axes.labelsize'] = 14\n",
    "plt.rcParams['xtick.labelsize'] = 12\n",
    "plt.rcParams['ytick.labelsize'] = 12"
   ]
  },
  {
   "cell_type": "markdown",
   "metadata": {},
   "source": [
    "# 2. \tSoftmax Regression,\tor\tMultinomial\tLogistic\tRegression\n",
    "\n",
    "The\tLogistic\tRegression\tmodel\tcan\tbe\tgeneralized\tto\tsupport\tmultiple\tclasses\tdirectly,\twithout\thaving\tto\n",
    "train\tand\tcombine\tmultiple\tbinary\tclassifiers.\tThis\tis\tcalled\tSoftmax\n",
    "Regression,\tor\tMultinomial\tLogistic\tRegression."
   ]
  },
  {
   "cell_type": "markdown",
   "metadata": {},
   "source": [
    "The\tidea\tis\tquite\tsimple:\twhen\tgiven\tan\tinstance\tx,\tthe\tSoftmax\tRegression\tmodel\tfirst\tcomputes\ta\tscore\n",
    "s k (x)\tfor\teach\tclass\tk,\tthen\testimates\tthe\tprobability\tof\teach\tclass\tby\tapplying\tthe\tsoftmax\tfunction\t(also\n",
    "called\tthe\tnormalized\texponential)\tto\tthe\tscores.\tThe\tequation\tto\tcompute\ts k (x)\tshould\tlook\tfamiliar,\tas\n",
    "it\tis\tjust\tlike\tthe\tequation\tfor\tLinear\tRegression\tprediction\t(see\tEquation\t4-19).\n",
    "\n",
    "![title, width=10, height=5](../tutorial/Selection_017.png) "
   ]
  },
  {
   "cell_type": "markdown",
   "metadata": {},
   "source": [
    "Note\tthat\teach\tclass\thas\tits\town\tdedicated\tparameter\tvector\tθ k .\tAll\tthese\tvectors\tare\ttypically\tstored\tas\n",
    "rows\tin\ta\tparameter\tmatrix\tΘ."
   ]
  },
  {
   "cell_type": "markdown",
   "metadata": {},
   "source": [
    "Once\tyou\thave\tcomputed\tthe\tscore\tof\tevery\tclass\tfor\tthe\tinstance\tx,\tyou\tcan\testimate\tthe\tprobability\t k\n",
    "that\tthe\tinstance\tbelongs\tto\tclass\tk\tby\trunning\tthe\tscores\tthrough\tthe\tsoftmax\tfunction\t(Equation\t4-20):\tit\n",
    "computes\tthe\texponential\tof\tevery\tscore,\tthen\tnormalizes\tthem\t(dividing\tby\tthe\tsum\tof\tall\tthe\n",
    "exponentials).\n",
    "\n",
    "![title, width=10, height=5](../tutorial/Selection_018.png) "
   ]
  },
  {
   "cell_type": "markdown",
   "metadata": {},
   "source": [
    "K\tis\tthe\tnumber\tof\tclasses.\n",
    "\n",
    "s(x)\tis\ta\tvector\tcontaining\tthe\tscores\tof\teach\tclass\tfor\tthe\tinstance\tx.\n",
    "\n",
    "σ(s(x)) k \tis\tthe\testimated\tprobability\tthat\tthe\tinstance\tx\tbelongs\tto\tclass\tk\tgiven\tthe\tscores\tof\teach\n",
    "class\tfor\tthat\tinstance."
   ]
  },
  {
   "cell_type": "markdown",
   "metadata": {},
   "source": [
    "Just\tlike\tthe\tLogistic\tRegression\tclassifier,\tthe\tSoftmax\tRegression\tclassifier\tpredicts\tthe\tclass\twith\tthe\n",
    "highest\testimated\tprobability\t(which\tis\tsimply\tthe\tclass\twith\tthe\thighest\tscore),\tas\tshown\tin\tEquation\t4-\n",
    "21.\n",
    "\n",
    "![title, width=10, height=5](../tutorial/Selection_019.png) "
   ]
  },
  {
   "cell_type": "markdown",
   "metadata": {},
   "source": [
    "The\targmax\toperator\treturns\tthe\tvalue\tof\ta\tvariable\tthat\tmaximizes\ta\tfunction.\tIn\tthis\tequation,\tit\n",
    "returns\tthe\tvalue\tof\tk\tthat\tmaximizes\tthe\testimated\tprobability\tσ(s(x)) k .\n",
    "\n",
    "The\tSoftmax\tRegression\tclassifier\tpredicts\tonly\tone\tclass\tat\ta\ttime\t(i.e.,\tit\tis\tmulticlass,\tnot\tmultioutput)\tso\tit\tshould\tbe\tused\tonly\n",
    "with\tmutually\texclusive\tclasses\tsuch\tas\tdifferent\ttypes\tof\tplants.\t"
   ]
  },
  {
   "cell_type": "markdown",
   "metadata": {},
   "source": [
    "# 2.2 Training \n",
    "\n",
    "Now\tthat\tyou\tknow\thow\tthe\tmodel\testimates\tprobabilities\tand\tmakes\tpredictions,\tlet’s\ttake\ta\tlook\tat\n",
    "training.\tThe\tobjective\tis\tto\thave\ta\tmodel\tthat\testimates\ta\thigh\tprobability\tfor\tthe\ttarget\tclass\t(and\n",
    "consequently\ta\tlow\tprobability\tfor\tthe\tother\tclasses).\tMinimizing\tthe\tcost\tfunction\tshown\tin\tEquation\t4-\n",
    "22,\tcalled\tthe\tcross\tentropy,\tshould\tlead\tto\tthis\tobjective\tbecause\tit\tpenalizes\tthe\tmodel\twhen\tit\n",
    "estimates\ta\tlow\tprobability\tfor\ta\ttarget\tclass.\tCross\tentropy\tis\tfrequently\tused\tto\tmeasure\thow\twell\ta\tset\n",
    "of\testimated\tclass\tprobabilities\tmatch\tthe\ttarget\tclasses\t\n",
    "\n",
    "![title, width=10, height=5](../tutorial/Selection_020.png) "
   ]
  },
  {
   "cell_type": "markdown",
   "metadata": {},
   "source": [
    "![title, width=10, height=5](../tutorial/Selection_022.png) is\tequal\tto\t1\tif\tthe\ttarget\tclass\tfor\tthe\ti th \tinstance\tis\tk;\totherwise,\tit\tis\tequal\tto\t0. \n",
    "\n",
    "Notice\tthat\twhen\tthere\tare\tjust\ttwo\tclasses\t(K\t=\t2),\tthis\tcost\tfunction\tis\tequivalent\tto\tthe\tLogistic\n",
    "Regression’s\tcost\tfunction"
   ]
  },
  {
   "cell_type": "markdown",
   "metadata": {},
   "source": [
    "The\tgradient\tvector\tof\tthis\tcost\tfunction\twith\tregards\tto\tθ k \tis\tgiven\tby\tEquation\t4-23:\n",
    "\n",
    "![title, width=10, height=5](../tutorial/Selection_021.png) "
   ]
  },
  {
   "cell_type": "markdown",
   "metadata": {},
   "source": [
    "Now\tyou\tcan\tcompute\tthe\tgradient\tvector\tfor\tevery\tclass,\tthen\tuse\tGradient\tDescent\t(or\tany\tother\n",
    "optimization\talgorithm)\tto\tfind\tthe\tparameter\tmatrix\tΘ\tthat\tminimizes\tthe\tcost\tfunction."
   ]
  },
  {
   "cell_type": "markdown",
   "metadata": {},
   "source": [
    "Let’s\tuse\tSoftmax\tRegression\tto\tclassify\tthe\tiris\tflowers\tinto\tall\tthree\tclasses.\tScikit-Learn’s\n",
    "LogisticRegression \tuses\tone-versus-all\tby\tdefault\twhen\tyou\ttrain\tit\ton\tmore\tthan\ttwo\tclasses,\tbut\tyou\n",
    "can\tset\tthe\t multi_class \thyperparameter\tto\t \"multinomial\" \tto\tswitch\tit\tto\tSoftmax\tRegression\tinstead.\n",
    "You\tmust\talso\tspecify\ta\tsolver\tthat\tsupports\tSoftmax\tRegression,\tsuch\tas\tthe\t \"lbfgs\" \tsolver\t(see\tScikit-\n",
    "Learn’s\tdocumentation\tfor\tmore\tdetails).\tIt\talso\tapplies\tl 2 \tregularization\tby\tdefault,\twhich\tyou\tcan\n",
    "control\tusing\tthe\thyperparameter\t C ."
   ]
  },
  {
   "cell_type": "code",
   "execution_count": 2,
   "metadata": {
    "collapsed": false
   },
   "outputs": [
    {
     "data": {
      "text/plain": [
       "['DESCR', 'target', 'target_names', 'data', 'feature_names']"
      ]
     },
     "execution_count": 2,
     "metadata": {},
     "output_type": "execute_result"
    }
   ],
   "source": [
    "from sklearn import datasets\n",
    "iris = datasets.load_iris()\n",
    "list(iris.keys())"
   ]
  },
  {
   "cell_type": "code",
   "execution_count": 3,
   "metadata": {
    "collapsed": false
   },
   "outputs": [
    {
     "name": "stdout",
     "output_type": "stream",
     "text": [
      "[[ 1.4  0.2]\n",
      " [ 1.3  0.2]\n",
      " [ 1.5  0.2]\n",
      " [ 1.4  0.2]]\n",
      "[0 0 0 0 0 0 0 0 0 0 0 0 0 0 0 0 0 0 0 0 0 0 0 0 0 0 0 0 0 0 0 0 0 0 0 0 0\n",
      " 0 0 0 0 0 0 0 0 0 0 0 0 0 1 1 1 1 1 1 1 1 1 1 1 1 1 1 1 1 1 1 1 1 1 1 1 1\n",
      " 1 1 1 1 1 1 1 1 1 1 1 1 1 1 1 1 1 1 1 1 1 1 1 1 1 1 2 2 2 2 2 2 2 2 2 2 2\n",
      " 2 2 2 2 2 2 2 2 2 2 2 2 2 2 2 2 2 2 2 2 2 2 2 2 2 2 2 2 2 2 2 2 2 2 2 2 2\n",
      " 2 2]\n"
     ]
    }
   ],
   "source": [
    "from sklearn.linear_model import LogisticRegression\n",
    "\n",
    "X = iris[\"data\"][:, (2, 3)]  # petal length, petal width\n",
    "y = iris[\"target\"]\n",
    "\n",
    "print(X[1:5, :])\n",
    "print(y)"
   ]
  },
  {
   "cell_type": "code",
   "execution_count": 4,
   "metadata": {
    "collapsed": false
   },
   "outputs": [
    {
     "data": {
      "text/plain": [
       "LogisticRegression(C=10, class_weight=None, dual=False, fit_intercept=True,\n",
       "          intercept_scaling=1, max_iter=100, multi_class='multinomial',\n",
       "          n_jobs=1, penalty='l2', random_state=42, solver='lbfgs',\n",
       "          tol=0.0001, verbose=0, warm_start=False)"
      ]
     },
     "execution_count": 4,
     "metadata": {},
     "output_type": "execute_result"
    }
   ],
   "source": [
    "softmax_reg = LogisticRegression(multi_class=\"multinomial\",solver=\"lbfgs\", C=10, random_state=42)\n",
    "softmax_reg.fit(X, y)"
   ]
  },
  {
   "cell_type": "markdown",
   "metadata": {},
   "source": [
    "So\tthe\tnext\ttime\tyou\tfind\tan\tiris\twith\t5\tcm\tlong\tand\t2\tcm\twide\tpetals,\tyou\tcan\task\tyour\tmodel\tto\ttell\tyou\n",
    "what\ttype\tof\tiris\tit\tis,\tand\tit\twill\tanswer\tIris-Virginica\t(class\t2)\twith\t94.2%\tprobability\t(or\tIris-\n",
    "Versicolor\twith\t5.8%\tprobability):"
   ]
  },
  {
   "cell_type": "code",
   "execution_count": 5,
   "metadata": {
    "collapsed": false
   },
   "outputs": [
    {
     "data": {
      "text/plain": [
       "array([2])"
      ]
     },
     "execution_count": 5,
     "metadata": {},
     "output_type": "execute_result"
    }
   ],
   "source": [
    "softmax_reg.predict([[5,2]])"
   ]
  },
  {
   "cell_type": "code",
   "execution_count": 6,
   "metadata": {
    "collapsed": false
   },
   "outputs": [
    {
     "data": {
      "text/plain": [
       "array([[  6.33134078e-07,   5.75276067e-02,   9.42471760e-01]])"
      ]
     },
     "execution_count": 6,
     "metadata": {},
     "output_type": "execute_result"
    }
   ],
   "source": [
    "softmax_reg.predict_proba([[5,2]])"
   ]
  },
  {
   "cell_type": "markdown",
   "metadata": {},
   "source": [
    "Let's plot the decision boundaries on X_new features"
   ]
  },
  {
   "cell_type": "code",
   "execution_count": 7,
   "metadata": {
    "collapsed": true
   },
   "outputs": [],
   "source": [
    "x0, x1 = np.meshgrid(\n",
    "        np.linspace(0, 8, 500).reshape(-1, 1),\n",
    "        np.linspace(0, 3.5, 200).reshape(-1, 1),\n",
    "    )\n",
    "X_new = np.c_[x0.ravel(), x1.ravel()]\n"
   ]
  },
  {
   "cell_type": "code",
   "execution_count": 8,
   "metadata": {
    "collapsed": true
   },
   "outputs": [],
   "source": [
    "y_proba = softmax_reg.predict_proba(X_new)\n",
    "y_predict = softmax_reg.predict(X_new)\n"
   ]
  },
  {
   "cell_type": "code",
   "execution_count": 9,
   "metadata": {
    "collapsed": true
   },
   "outputs": [],
   "source": [
    "zz1 = y_proba[:, 1].reshape(x0.shape)\n",
    "zz = y_predict.reshape(x0.shape)\n"
   ]
  },
  {
   "cell_type": "code",
   "execution_count": 10,
   "metadata": {
    "collapsed": false
   },
   "outputs": [
    {
     "name": "stderr",
     "output_type": "stream",
     "text": [
      "/home/chinchu/anaconda3/lib/python3.5/site-packages/numpy/ma/core.py:6385: MaskedArrayFutureWarning: In the future the default for ma.maximum.reduce will be axis=0, not the current None, to match np.maximum.reduce. Explicitly pass 0 or None to silence this warning.\n",
      "  return self.reduce(a)\n",
      "/home/chinchu/anaconda3/lib/python3.5/site-packages/numpy/ma/core.py:6385: MaskedArrayFutureWarning: In the future the default for ma.minimum.reduce will be axis=0, not the current None, to match np.minimum.reduce. Explicitly pass 0 or None to silence this warning.\n",
      "  return self.reduce(a)\n"
     ]
    },
    {
     "data": {
      "image/png": "[encoded data removed]",
      "text/plain": [
       "<matplotlib.figure.Figure at 0x7ff0540e2630>"
      ]
     },
     "metadata": {},
     "output_type": "display_data"
    }
   ],
   "source": [
    "plt.figure(figsize=(10, 4))\n",
    "plt.plot(X[y==2, 0], X[y==2, 1], \"g^\", label=\"Iris-Virginica\")\n",
    "plt.plot(X[y==1, 0], X[y==1, 1], \"bs\", label=\"Iris-Versicolor\")\n",
    "plt.plot(X[y==0, 0], X[y==0, 1], \"yo\", label=\"Iris-Setosa\")\n",
    "\n",
    "from matplotlib.colors import ListedColormap\n",
    "custom_cmap = ListedColormap(['#fafab0','#9898ff','#a0faa0'])\n",
    "\n",
    "plt.contourf(x0, x1, zz, cmap=custom_cmap, linewidth=5)\n",
    "contour = plt.contour(x0, x1, zz1, cmap=plt.cm.brg)\n",
    "plt.clabel(contour, inline=1, fontsize=12)\n",
    "plt.xlabel(\"Petal length\", fontsize=14)\n",
    "plt.ylabel(\"Petal width\", fontsize=14)\n",
    "plt.legend(loc=\"center left\", fontsize=14)\n",
    "plt.axis([0, 7, 0, 3.5])\n",
    "plt.show()"
   ]
  },
  {
   "cell_type": "markdown",
   "metadata": {},
   "source": [
    "Figure shows\tthe\tresulting\tdecision\tboundaries,\trepresented\tby\tthe\tbackground\tcolors.\tNotice\tthat\n",
    "the\tdecision\tboundaries\tbetween\tany\ttwo\tclasses\tare\tlinear.\tThe\tfigure\talso\tshows\tthe\tprobabilities\tfor\n",
    "the\tIris-Versicolor\tclass,\trepresented\tby\tthe\tcurved\tlines\t(e.g.,\tthe\tline\tlabeled\twith\t0.450\trepresents\tthe\n",
    "45%\tprobability\tboundary).\tNotice\tthat\tthe\tmodel\tcan\tpredict\ta\tclass\tthat\thas\tan\testimated\tprobability\n",
    "below\t50%.\tFor\texample,\tat\tthe\tpoint\twhere\tall\tdecision\tboundaries\tmeet,\tall\tclasses\thave\tan\tequal\n",
    "estimated\tprobability\tof\t33%."
   ]
  },
  {
   "cell_type": "code",
   "execution_count": null,
   "metadata": {
    "collapsed": true
   },
   "outputs": [],
   "source": []
  }
 ],
 "metadata": {
  "kernelspec": {
   "display_name": "Python [Root]",
   "language": "python",
   "name": "Python [Root]"
  },
  "language_info": {
   "codemirror_mode": {
    "name": "ipython",
    "version": 3
   },
   "file_extension": ".py",
   "mimetype": "text/x-python",
   "name": "python",
   "nbconvert_exporter": "python",
   "pygments_lexer": "ipython3",
   "version": "3.5.2"
  }
 },
 "nbformat": 4,
 "nbformat_minor": 2
}
